{
 "cells": [
  {
   "cell_type": "code",
   "execution_count": 15,
   "metadata": {},
   "outputs": [],
   "source": [
    "import pandas as pd\n",
    "import numpy as np\n",
    "import matplotlib.pyplot as plt\n",
    "import seaborn as sns\n",
    "from sklearn.preprocessing import StandardScaler\n",
    "from sklearn.metrics import confusion_matrix, accuracy_score, classification_report\n",
    "%matplotlib inline\n",
    "plt.rcParams[\"figure.figsize\"] = (15, 8)\n",
    "pd.options.display.float_format = '{:.2f}'.format"
   ]
  },
  {
   "cell_type": "code",
   "execution_count": 3,
   "metadata": {},
   "outputs": [
    {
     "data": {
      "text/html": [
       "<div>\n",
       "<style scoped>\n",
       "    .dataframe tbody tr th:only-of-type {\n",
       "        vertical-align: middle;\n",
       "    }\n",
       "\n",
       "    .dataframe tbody tr th {\n",
       "        vertical-align: top;\n",
       "    }\n",
       "\n",
       "    .dataframe thead th {\n",
       "        text-align: right;\n",
       "    }\n",
       "</style>\n",
       "<table border=\"1\" class=\"dataframe\">\n",
       "  <thead>\n",
       "    <tr style=\"text-align: right;\">\n",
       "      <th></th>\n",
       "      <th>process.b1.capacity</th>\n",
       "      <th>process.b2.capacity</th>\n",
       "      <th>process.b3.capacity</th>\n",
       "      <th>process.b4.capacity</th>\n",
       "      <th>property.price</th>\n",
       "      <th>property.product</th>\n",
       "      <th>property.winner</th>\n",
       "      <th>verification.result</th>\n",
       "      <th>verification.time</th>\n",
       "    </tr>\n",
       "  </thead>\n",
       "  <tbody>\n",
       "    <tr>\n",
       "      <th>0</th>\n",
       "      <td>0</td>\n",
       "      <td>0</td>\n",
       "      <td>2</td>\n",
       "      <td>1</td>\n",
       "      <td>59</td>\n",
       "      <td>1</td>\n",
       "      <td>0</td>\n",
       "      <td>False</td>\n",
       "      <td>163.32</td>\n",
       "    </tr>\n",
       "    <tr>\n",
       "      <th>1</th>\n",
       "      <td>0</td>\n",
       "      <td>0</td>\n",
       "      <td>2</td>\n",
       "      <td>1</td>\n",
       "      <td>59</td>\n",
       "      <td>2</td>\n",
       "      <td>0</td>\n",
       "      <td>False</td>\n",
       "      <td>200.86</td>\n",
       "    </tr>\n",
       "    <tr>\n",
       "      <th>2</th>\n",
       "      <td>0</td>\n",
       "      <td>0</td>\n",
       "      <td>2</td>\n",
       "      <td>1</td>\n",
       "      <td>59</td>\n",
       "      <td>4</td>\n",
       "      <td>0</td>\n",
       "      <td>False</td>\n",
       "      <td>154.89</td>\n",
       "    </tr>\n",
       "    <tr>\n",
       "      <th>3</th>\n",
       "      <td>0</td>\n",
       "      <td>0</td>\n",
       "      <td>2</td>\n",
       "      <td>1</td>\n",
       "      <td>59</td>\n",
       "      <td>6</td>\n",
       "      <td>0</td>\n",
       "      <td>False</td>\n",
       "      <td>108.64</td>\n",
       "    </tr>\n",
       "    <tr>\n",
       "      <th>4</th>\n",
       "      <td>0</td>\n",
       "      <td>0</td>\n",
       "      <td>2</td>\n",
       "      <td>1</td>\n",
       "      <td>60</td>\n",
       "      <td>1</td>\n",
       "      <td>0</td>\n",
       "      <td>True</td>\n",
       "      <td>85.47</td>\n",
       "    </tr>\n",
       "  </tbody>\n",
       "</table>\n",
       "</div>"
      ],
      "text/plain": [
       "   process.b1.capacity  process.b2.capacity  process.b3.capacity  \\\n",
       "0                    0                    0                    2   \n",
       "1                    0                    0                    2   \n",
       "2                    0                    0                    2   \n",
       "3                    0                    0                    2   \n",
       "4                    0                    0                    2   \n",
       "\n",
       "   process.b4.capacity  property.price  property.product  property.winner  \\\n",
       "0                    1              59                 1                0   \n",
       "1                    1              59                 2                0   \n",
       "2                    1              59                 4                0   \n",
       "3                    1              59                 6                0   \n",
       "4                    1              60                 1                0   \n",
       "\n",
       "   verification.result  verification.time  \n",
       "0                False             163.32  \n",
       "1                False             200.86  \n",
       "2                False             154.89  \n",
       "3                False             108.64  \n",
       "4                 True              85.47  "
      ]
     },
     "execution_count": 3,
     "metadata": {},
     "output_type": "execute_result"
    }
   ],
   "source": [
    "df = pd.read_csv('data.csv')\n",
    "df.head()"
   ]
  },
  {
   "cell_type": "code",
   "execution_count": 4,
   "metadata": {},
   "outputs": [
    {
     "name": "stdout",
     "output_type": "stream",
     "text": [
      "<class 'pandas.core.frame.DataFrame'>\n",
      "RangeIndex: 2043 entries, 0 to 2042\n",
      "Data columns (total 9 columns):\n",
      " #   Column               Non-Null Count  Dtype  \n",
      "---  ------               --------------  -----  \n",
      " 0   process.b1.capacity  2043 non-null   int64  \n",
      " 1   process.b2.capacity  2043 non-null   int64  \n",
      " 2   process.b3.capacity  2043 non-null   int64  \n",
      " 3   process.b4.capacity  2043 non-null   int64  \n",
      " 4   property.price       2043 non-null   int64  \n",
      " 5   property.product     2043 non-null   int64  \n",
      " 6   property.winner      2043 non-null   int64  \n",
      " 7   verification.result  2043 non-null   bool   \n",
      " 8   verification.time    2043 non-null   float64\n",
      "dtypes: bool(1), float64(1), int64(7)\n",
      "memory usage: 129.8 KB\n"
     ]
    }
   ],
   "source": [
    "df.info()"
   ]
  },
  {
   "cell_type": "code",
   "execution_count": 5,
   "metadata": {},
   "outputs": [
    {
     "data": {
      "text/plain": [
       "process.b1.capacity    0\n",
       "process.b2.capacity    0\n",
       "process.b3.capacity    0\n",
       "process.b4.capacity    0\n",
       "property.price         0\n",
       "property.product       0\n",
       "property.winner        0\n",
       "verification.result    0\n",
       "verification.time      0\n",
       "dtype: int64"
      ]
     },
     "execution_count": 5,
     "metadata": {},
     "output_type": "execute_result"
    }
   ],
   "source": [
    "df.isnull().sum()"
   ]
  },
  {
   "cell_type": "code",
   "execution_count": 6,
   "metadata": {},
   "outputs": [
    {
     "data": {
      "text/html": [
       "<div>\n",
       "<style scoped>\n",
       "    .dataframe tbody tr th:only-of-type {\n",
       "        vertical-align: middle;\n",
       "    }\n",
       "\n",
       "    .dataframe tbody tr th {\n",
       "        vertical-align: top;\n",
       "    }\n",
       "\n",
       "    .dataframe thead th {\n",
       "        text-align: right;\n",
       "    }\n",
       "</style>\n",
       "<table border=\"1\" class=\"dataframe\">\n",
       "  <thead>\n",
       "    <tr style=\"text-align: right;\">\n",
       "      <th></th>\n",
       "      <th>process.b1.capacity</th>\n",
       "      <th>process.b2.capacity</th>\n",
       "      <th>process.b3.capacity</th>\n",
       "      <th>process.b4.capacity</th>\n",
       "      <th>property.price</th>\n",
       "      <th>property.product</th>\n",
       "      <th>property.winner</th>\n",
       "      <th>verification.time</th>\n",
       "    </tr>\n",
       "  </thead>\n",
       "  <tbody>\n",
       "    <tr>\n",
       "      <th>count</th>\n",
       "      <td>2043.00</td>\n",
       "      <td>2043.00</td>\n",
       "      <td>2043.00</td>\n",
       "      <td>2043.00</td>\n",
       "      <td>2043.00</td>\n",
       "      <td>2043.00</td>\n",
       "      <td>2043.00</td>\n",
       "      <td>2043.00</td>\n",
       "    </tr>\n",
       "    <tr>\n",
       "      <th>mean</th>\n",
       "      <td>1.00</td>\n",
       "      <td>2.09</td>\n",
       "      <td>1.88</td>\n",
       "      <td>0.59</td>\n",
       "      <td>71.47</td>\n",
       "      <td>3.25</td>\n",
       "      <td>0.46</td>\n",
       "      <td>7336.94</td>\n",
       "    </tr>\n",
       "    <tr>\n",
       "      <th>std</th>\n",
       "      <td>0.82</td>\n",
       "      <td>0.81</td>\n",
       "      <td>0.32</td>\n",
       "      <td>0.49</td>\n",
       "      <td>8.05</td>\n",
       "      <td>1.80</td>\n",
       "      <td>1.06</td>\n",
       "      <td>10375.39</td>\n",
       "    </tr>\n",
       "    <tr>\n",
       "      <th>min</th>\n",
       "      <td>0.00</td>\n",
       "      <td>0.00</td>\n",
       "      <td>1.00</td>\n",
       "      <td>0.00</td>\n",
       "      <td>59.00</td>\n",
       "      <td>1.00</td>\n",
       "      <td>0.00</td>\n",
       "      <td>77.92</td>\n",
       "    </tr>\n",
       "    <tr>\n",
       "      <th>25%</th>\n",
       "      <td>0.00</td>\n",
       "      <td>1.00</td>\n",
       "      <td>2.00</td>\n",
       "      <td>0.00</td>\n",
       "      <td>65.00</td>\n",
       "      <td>2.00</td>\n",
       "      <td>0.00</td>\n",
       "      <td>546.82</td>\n",
       "    </tr>\n",
       "    <tr>\n",
       "      <th>50%</th>\n",
       "      <td>1.00</td>\n",
       "      <td>2.00</td>\n",
       "      <td>2.00</td>\n",
       "      <td>1.00</td>\n",
       "      <td>70.00</td>\n",
       "      <td>3.00</td>\n",
       "      <td>0.00</td>\n",
       "      <td>1316.98</td>\n",
       "    </tr>\n",
       "    <tr>\n",
       "      <th>75%</th>\n",
       "      <td>2.00</td>\n",
       "      <td>3.00</td>\n",
       "      <td>2.00</td>\n",
       "      <td>1.00</td>\n",
       "      <td>78.00</td>\n",
       "      <td>5.00</td>\n",
       "      <td>0.00</td>\n",
       "      <td>10876.64</td>\n",
       "    </tr>\n",
       "    <tr>\n",
       "      <th>max</th>\n",
       "      <td>2.00</td>\n",
       "      <td>3.00</td>\n",
       "      <td>2.00</td>\n",
       "      <td>1.00</td>\n",
       "      <td>90.00</td>\n",
       "      <td>6.00</td>\n",
       "      <td>4.00</td>\n",
       "      <td>44130.52</td>\n",
       "    </tr>\n",
       "  </tbody>\n",
       "</table>\n",
       "</div>"
      ],
      "text/plain": [
       "       process.b1.capacity  process.b2.capacity  process.b3.capacity  \\\n",
       "count              2043.00              2043.00              2043.00   \n",
       "mean                  1.00                 2.09                 1.88   \n",
       "std                   0.82                 0.81                 0.32   \n",
       "min                   0.00                 0.00                 1.00   \n",
       "25%                   0.00                 1.00                 2.00   \n",
       "50%                   1.00                 2.00                 2.00   \n",
       "75%                   2.00                 3.00                 2.00   \n",
       "max                   2.00                 3.00                 2.00   \n",
       "\n",
       "       process.b4.capacity  property.price  property.product  property.winner  \\\n",
       "count              2043.00         2043.00           2043.00          2043.00   \n",
       "mean                  0.59           71.47              3.25             0.46   \n",
       "std                   0.49            8.05              1.80             1.06   \n",
       "min                   0.00           59.00              1.00             0.00   \n",
       "25%                   0.00           65.00              2.00             0.00   \n",
       "50%                   1.00           70.00              3.00             0.00   \n",
       "75%                   1.00           78.00              5.00             0.00   \n",
       "max                   1.00           90.00              6.00             4.00   \n",
       "\n",
       "       verification.time  \n",
       "count            2043.00  \n",
       "mean             7336.94  \n",
       "std             10375.39  \n",
       "min                77.92  \n",
       "25%               546.82  \n",
       "50%              1316.98  \n",
       "75%             10876.64  \n",
       "max             44130.52  "
      ]
     },
     "execution_count": 6,
     "metadata": {},
     "output_type": "execute_result"
    }
   ],
   "source": [
    "df.describe()"
   ]
  },
  {
   "cell_type": "code",
   "execution_count": 7,
   "metadata": {},
   "outputs": [
    {
     "data": {
      "text/html": [
       "<div>\n",
       "<style scoped>\n",
       "    .dataframe tbody tr th:only-of-type {\n",
       "        vertical-align: middle;\n",
       "    }\n",
       "\n",
       "    .dataframe tbody tr th {\n",
       "        vertical-align: top;\n",
       "    }\n",
       "\n",
       "    .dataframe thead th {\n",
       "        text-align: right;\n",
       "    }\n",
       "</style>\n",
       "<table border=\"1\" class=\"dataframe\">\n",
       "  <thead>\n",
       "    <tr style=\"text-align: right;\">\n",
       "      <th></th>\n",
       "      <th>process.b1.capacity</th>\n",
       "      <th>process.b2.capacity</th>\n",
       "      <th>process.b3.capacity</th>\n",
       "      <th>process.b4.capacity</th>\n",
       "      <th>property.price</th>\n",
       "      <th>property.product</th>\n",
       "      <th>property.winner</th>\n",
       "      <th>verification.time</th>\n",
       "    </tr>\n",
       "  </thead>\n",
       "  <tbody>\n",
       "    <tr>\n",
       "      <th>count</th>\n",
       "      <td>2043.00</td>\n",
       "      <td>2043.00</td>\n",
       "      <td>2043.00</td>\n",
       "      <td>2043.00</td>\n",
       "      <td>2043.00</td>\n",
       "      <td>2043.00</td>\n",
       "      <td>2043.00</td>\n",
       "      <td>2043.00</td>\n",
       "    </tr>\n",
       "    <tr>\n",
       "      <th>mean</th>\n",
       "      <td>1.00</td>\n",
       "      <td>2.09</td>\n",
       "      <td>1.88</td>\n",
       "      <td>0.59</td>\n",
       "      <td>71.47</td>\n",
       "      <td>3.25</td>\n",
       "      <td>0.46</td>\n",
       "      <td>7336.94</td>\n",
       "    </tr>\n",
       "    <tr>\n",
       "      <th>std</th>\n",
       "      <td>0.82</td>\n",
       "      <td>0.81</td>\n",
       "      <td>0.32</td>\n",
       "      <td>0.49</td>\n",
       "      <td>8.05</td>\n",
       "      <td>1.80</td>\n",
       "      <td>1.06</td>\n",
       "      <td>10375.39</td>\n",
       "    </tr>\n",
       "    <tr>\n",
       "      <th>min</th>\n",
       "      <td>0.00</td>\n",
       "      <td>0.00</td>\n",
       "      <td>1.00</td>\n",
       "      <td>0.00</td>\n",
       "      <td>59.00</td>\n",
       "      <td>1.00</td>\n",
       "      <td>0.00</td>\n",
       "      <td>77.92</td>\n",
       "    </tr>\n",
       "    <tr>\n",
       "      <th>25%</th>\n",
       "      <td>0.00</td>\n",
       "      <td>1.00</td>\n",
       "      <td>2.00</td>\n",
       "      <td>0.00</td>\n",
       "      <td>65.00</td>\n",
       "      <td>2.00</td>\n",
       "      <td>0.00</td>\n",
       "      <td>546.82</td>\n",
       "    </tr>\n",
       "    <tr>\n",
       "      <th>50%</th>\n",
       "      <td>1.00</td>\n",
       "      <td>2.00</td>\n",
       "      <td>2.00</td>\n",
       "      <td>1.00</td>\n",
       "      <td>70.00</td>\n",
       "      <td>3.00</td>\n",
       "      <td>0.00</td>\n",
       "      <td>1316.98</td>\n",
       "    </tr>\n",
       "    <tr>\n",
       "      <th>75%</th>\n",
       "      <td>2.00</td>\n",
       "      <td>3.00</td>\n",
       "      <td>2.00</td>\n",
       "      <td>1.00</td>\n",
       "      <td>78.00</td>\n",
       "      <td>5.00</td>\n",
       "      <td>0.00</td>\n",
       "      <td>10876.64</td>\n",
       "    </tr>\n",
       "    <tr>\n",
       "      <th>max</th>\n",
       "      <td>2.00</td>\n",
       "      <td>3.00</td>\n",
       "      <td>2.00</td>\n",
       "      <td>1.00</td>\n",
       "      <td>90.00</td>\n",
       "      <td>6.00</td>\n",
       "      <td>4.00</td>\n",
       "      <td>44130.52</td>\n",
       "    </tr>\n",
       "  </tbody>\n",
       "</table>\n",
       "</div>"
      ],
      "text/plain": [
       "       process.b1.capacity  process.b2.capacity  process.b3.capacity  \\\n",
       "count              2043.00              2043.00              2043.00   \n",
       "mean                  1.00                 2.09                 1.88   \n",
       "std                   0.82                 0.81                 0.32   \n",
       "min                   0.00                 0.00                 1.00   \n",
       "25%                   0.00                 1.00                 2.00   \n",
       "50%                   1.00                 2.00                 2.00   \n",
       "75%                   2.00                 3.00                 2.00   \n",
       "max                   2.00                 3.00                 2.00   \n",
       "\n",
       "       process.b4.capacity  property.price  property.product  property.winner  \\\n",
       "count              2043.00         2043.00           2043.00          2043.00   \n",
       "mean                  0.59           71.47              3.25             0.46   \n",
       "std                   0.49            8.05              1.80             1.06   \n",
       "min                   0.00           59.00              1.00             0.00   \n",
       "25%                   0.00           65.00              2.00             0.00   \n",
       "50%                   1.00           70.00              3.00             0.00   \n",
       "75%                   1.00           78.00              5.00             0.00   \n",
       "max                   1.00           90.00              6.00             4.00   \n",
       "\n",
       "       verification.time  \n",
       "count            2043.00  \n",
       "mean             7336.94  \n",
       "std             10375.39  \n",
       "min                77.92  \n",
       "25%               546.82  \n",
       "50%              1316.98  \n",
       "75%             10876.64  \n",
       "max             44130.52  "
      ]
     },
     "execution_count": 7,
     "metadata": {},
     "output_type": "execute_result"
    }
   ],
   "source": [
    "df.describe()"
   ]
  },
  {
   "cell_type": "code",
   "execution_count": 8,
   "metadata": {},
   "outputs": [
    {
     "name": "stdout",
     "output_type": "stream",
     "text": [
      "В вашому DataFrame немає категоріальних фіч.\n"
     ]
    }
   ],
   "source": [
    "categorical_columns = df.select_dtypes(include=['object', 'category']).columns\n",
    "\n",
    "if len(categorical_columns) > 0:\n",
    "    print(\"Категоріальні фічі у вашому DataFrame:\")\n",
    "    print(categorical_columns)\n",
    "else:\n",
    "    print(\"В вашому DataFrame немає категоріальних фіч.\")\n"
   ]
  },
  {
   "cell_type": "code",
   "execution_count": 9,
   "metadata": {},
   "outputs": [
    {
     "data": {
      "text/plain": [
       "(2043, 7)"
      ]
     },
     "execution_count": 9,
     "metadata": {},
     "output_type": "execute_result"
    }
   ],
   "source": [
    "columns_to_drop = ['verification.result', 'verification.time']\n",
    "X = df.drop(columns=columns_to_drop)\n",
    "X.shape"
   ]
  },
  {
   "cell_type": "code",
   "execution_count": 10,
   "metadata": {},
   "outputs": [
    {
     "data": {
      "text/plain": [
       "(2043,)"
      ]
     },
     "execution_count": 10,
     "metadata": {},
     "output_type": "execute_result"
    }
   ],
   "source": [
    "y = df['verification.result'].values\n",
    "y.shape"
   ]
  },
  {
   "cell_type": "code",
   "execution_count": 11,
   "metadata": {},
   "outputs": [
    {
     "data": {
      "text/plain": [
       "<Axes: >"
      ]
     },
     "execution_count": 11,
     "metadata": {},
     "output_type": "execute_result"
    },
    {
     "data": {
      "image/png": "[encoded data removed]",
      "text/plain": [
       "<Figure size 1500x800 with 2 Axes>"
      ]
     },
     "metadata": {},
     "output_type": "display_data"
    }
   ],
   "source": [
    "sns.heatmap(df.corr(), annot = True, cmap = 'Blues')"
   ]
  },
  {
   "cell_type": "code",
   "execution_count": 12,
   "metadata": {},
   "outputs": [],
   "source": [
    "from sklearn.model_selection import train_test_split\n",
    "x_train, x_test, y_train, y_test = train_test_split(X, y, test_size=0.3, random_state=3)"
   ]
  },
  {
   "cell_type": "code",
   "execution_count": 17,
   "metadata": {},
   "outputs": [],
   "source": [
    "scaler = StandardScaler()\n",
    "scaler.fit(x_train)\n",
    "X_train = scaler.transform(x_train)\n",
    "X_test = scaler.transform(x_test)"
   ]
  },
  {
   "cell_type": "code",
   "execution_count": 22,
   "metadata": {},
   "outputs": [],
   "source": [
    "def evaluate(model, X_test, y_test):\n",
    "    y_test_pred = model.predict(X_test)\n",
    "\n",
    "    print(\"TESTING RESULTS: \\n===============================\")\n",
    "    clf_report = pd.DataFrame(classification_report(y_test, y_test_pred, output_dict=True))\n",
    "    print(f\"CONFUSION MATRIX:\\n{confusion_matrix(y_test, y_test_pred)}\")\n",
    "    print(f\"ACCURACY SCORE:\\n{accuracy_score(y_test, y_test_pred):.4f}\")\n",
    "    print(f\"CLASSIFICATION REPORT:\\n{clf_report}\")"
   ]
  },
  {
   "cell_type": "code",
   "execution_count": 23,
   "metadata": {},
   "outputs": [
    {
     "name": "stderr",
     "output_type": "stream",
     "text": [
      "/Library/Frameworks/Python.framework/Versions/3.11/lib/python3.11/site-packages/sklearn/ensemble/_base.py:166: FutureWarning: `base_estimator` was renamed to `estimator` in version 1.2 and will be removed in 1.4.\n",
      "  warnings.warn(\n"
     ]
    },
    {
     "name": "stdout",
     "output_type": "stream",
     "text": [
      "TESTING RESULTS: \n",
      "===============================\n",
      "CONFUSION MATRIX:\n",
      "[[538   1]\n",
      " [  0  74]]\n",
      "ACCURACY SCORE:\n",
      "0.9984\n",
      "CLASSIFICATION REPORT:\n",
      "           False  True  accuracy  macro avg  weighted avg\n",
      "precision   1.00  0.99      1.00       0.99          1.00\n",
      "recall      1.00  1.00      1.00       1.00          1.00\n",
      "f1-score    1.00  0.99      1.00       1.00          1.00\n",
      "support   539.00 74.00      1.00     613.00        613.00\n"
     ]
    }
   ],
   "source": [
    "from sklearn.ensemble import BaggingClassifier\n",
    "from sklearn.tree import DecisionTreeClassifier\n",
    "\n",
    "tree = DecisionTreeClassifier()\n",
    "bagging_clf = BaggingClassifier(base_estimator=tree, n_estimators=1500, random_state=42)\n",
    "bagging_clf.fit(X_train, y_train)\n",
    "\n",
    "evaluate(bagging_clf, X_test, y_test)"
   ]
  },
  {
   "cell_type": "code",
   "execution_count": 24,
   "metadata": {},
   "outputs": [
    {
     "name": "stdout",
     "output_type": "stream",
     "text": [
      "TESTING RESULTS: \n",
      "===============================\n",
      "CONFUSION MATRIX:\n",
      "[[535   4]\n",
      " [ 35  39]]\n",
      "ACCURACY SCORE:\n",
      "0.9364\n",
      "CLASSIFICATION REPORT:\n",
      "           False  True  accuracy  macro avg  weighted avg\n",
      "precision   0.94  0.91      0.94       0.92          0.93\n",
      "recall      0.99  0.53      0.94       0.76          0.94\n",
      "f1-score    0.96  0.67      0.94       0.82          0.93\n",
      "support   539.00 74.00      0.94     613.00        613.00\n"
     ]
    }
   ],
   "source": [
    "from sklearn.ensemble import AdaBoostClassifier\n",
    "\n",
    "ada_boost_clf = AdaBoostClassifier(n_estimators=30)\n",
    "ada_boost_clf.fit(X_train, y_train)\n",
    "evaluate(ada_boost_clf, X_test, y_test)"
   ]
  },
  {
   "cell_type": "code",
   "execution_count": 29,
   "metadata": {},
   "outputs": [
    {
     "name": "stderr",
     "output_type": "stream",
     "text": [
      "/Library/Frameworks/Python.framework/Versions/3.11/lib/python3.11/site-packages/sklearn/ensemble/_base.py:166: FutureWarning: `base_estimator` was renamed to `estimator` in version 1.2 and will be removed in 1.4.\n",
      "  warnings.warn(\n",
      "/Library/Frameworks/Python.framework/Versions/3.11/lib/python3.11/site-packages/sklearn/ensemble/_base.py:166: FutureWarning: `base_estimator` was renamed to `estimator` in version 1.2 and will be removed in 1.4.\n",
      "  warnings.warn(\n",
      "/Library/Frameworks/Python.framework/Versions/3.11/lib/python3.11/site-packages/sklearn/ensemble/_base.py:166: FutureWarning: `base_estimator` was renamed to `estimator` in version 1.2 and will be removed in 1.4.\n",
      "  warnings.warn(\n",
      "/Library/Frameworks/Python.framework/Versions/3.11/lib/python3.11/site-packages/sklearn/ensemble/_base.py:166: FutureWarning: `base_estimator` was renamed to `estimator` in version 1.2 and will be removed in 1.4.\n",
      "  warnings.warn(\n",
      "/Library/Frameworks/Python.framework/Versions/3.11/lib/python3.11/site-packages/sklearn/ensemble/_base.py:166: FutureWarning: `base_estimator` was renamed to `estimator` in version 1.2 and will be removed in 1.4.\n",
      "  warnings.warn(\n",
      "/Library/Frameworks/Python.framework/Versions/3.11/lib/python3.11/site-packages/sklearn/ensemble/_base.py:166: FutureWarning: `base_estimator` was renamed to `estimator` in version 1.2 and will be removed in 1.4.\n",
      "  warnings.warn(\n"
     ]
    },
    {
     "name": "stdout",
     "output_type": "stream",
     "text": [
      "TESTING RESULTS: \n",
      "===============================\n",
      "CONFUSION MATRIX:\n",
      "[[538   1]\n",
      " [  0  74]]\n",
      "ACCURACY SCORE:\n",
      "0.9984\n",
      "CLASSIFICATION REPORT:\n",
      "           False  True  accuracy  macro avg  weighted avg\n",
      "precision   1.00  0.99      1.00       0.99          1.00\n",
      "recall      1.00  1.00      1.00       1.00          1.00\n",
      "f1-score    1.00  0.99      1.00       1.00          1.00\n",
      "support   539.00 74.00      1.00     613.00        613.00\n"
     ]
    }
   ],
   "source": [
    "from sklearn.ensemble import StackingClassifier\n",
    "from sklearn.linear_model import LogisticRegression\n",
    "stack = StackingClassifier(estimators=[('rf', ada_boost_clf), ('gb', bagging_clf)], final_estimator=LogisticRegression())\n",
    "stack.fit(X_train, y_train)\n",
    "evaluate(stack, X_test, y_test)"
   ]
  },
  {
   "cell_type": "markdown",
   "metadata": {},
   "source": [
    "Accuracy:\n",
    "    1. Bagging: 0.9984\n",
    "    2. Boosting: 0.9364\n",
    "    3. Stacking: 0.9984"
   ]
  }
 ],
 "metadata": {
  "kernelspec": {
   "display_name": "Python 3",
   "language": "python",
   "name": "python3"
  },
  "language_info": {
   "codemirror_mode": {
    "name": "ipython",
    "version": 3
   },
   "file_extension": ".py",
   "mimetype": "text/x-python",
   "name": "python",
   "nbconvert_exporter": "python",
   "pygments_lexer": "ipython3",
   "version": "3.11.3"
  },
  "orig_nbformat": 4
 },
 "nbformat": 4,
 "nbformat_minor": 2
}
