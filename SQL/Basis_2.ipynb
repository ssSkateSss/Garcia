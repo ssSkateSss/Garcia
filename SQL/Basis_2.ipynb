{
    "metadata": {
        "kernelspec": {
            "name": "SQL",
            "display_name": "SQL",
            "language": "sql"
        },
        "language_info": {
            "name": "sql",
            "version": ""
        }
    },
    "nbformat_minor": 2,
    "nbformat": 4,
    "cells": [
        {
            "cell_type": "markdown",
            "source": [
                "## <span style=\"box-sizing: border-box; --tw-border-spacing-x: 0; --tw-border-spacing-y: 0; --tw-translate-x: 0; --tw-translate-y: 0; --tw-rotate: 0; --tw-skew-x: 0; --tw-skew-y: 0; --tw-scale-x: 1; --tw-scale-y: 1; --tw-pan-x: ; --tw-pan-y: ; --tw-pinch-zoom: ; --tw-scroll-snap-strictness: proximity; --tw-ordinal: ; --tw-slashed-zero: ; --tw-numeric-figure: ; --tw-numeric-spacing: ; --tw-numeric-fraction: ; --tw-ring-inset: ; --tw-ring-offset-width: 0px; --tw-ring-offset-color: #fff; --tw-ring-color: #3b82f680; --tw-ring-offset-shadow: 0 0 #0000; --tw-ring-shadow: 0 0 #0000; --tw-shadow: 0 0 #0000; --tw-shadow-colored: 0 0 #0000; --tw-blur: ; --tw-brightness: ; --tw-contrast: ; --tw-grayscale: ; --tw-hue-rotate: ; --tw-invert: ; --tw-saturate: ; --tw-sepia: ; --tw-drop-shadow: ; --tw-backdrop-blur: ; --tw-backdrop-brightness: ; --tw-backdrop-contrast: ; --tw-backdrop-grayscale: ; --tw-backdrop-hue-rotate: ; --tw-backdrop-invert: ; --tw-backdrop-opacity: ; --tw-backdrop-saturate: ; --tw-backdrop-sepia: ; margin: 0px; padding: 0px; border: 0px; font-size: 23px; vertical-align: baseline; max-width: 100%; font-family: georgia, times, &quot;times new roman&quot;, serif; background-color: transparent; color: rgb(0, 0, 0);\">Завдання 1</span>\n",
                "\n",
                "<span style=\"box-sizing: border-box; --tw-border-spacing-x: 0; --tw-border-spacing-y: 0; --tw-translate-x: 0; --tw-translate-y: 0; --tw-rotate: 0; --tw-skew-x: 0; --tw-skew-y: 0; --tw-scale-x: 1; --tw-scale-y: 1; --tw-pan-x: ; --tw-pan-y: ; --tw-pinch-zoom: ; --tw-scroll-snap-strictness: proximity; --tw-ordinal: ; --tw-slashed-zero: ; --tw-numeric-figure: ; --tw-numeric-spacing: ; --tw-numeric-fraction: ; --tw-ring-inset: ; --tw-ring-offset-width: 0px; --tw-ring-offset-color: #fff; --tw-ring-color: #3b82f680; --tw-ring-offset-shadow: 0 0 #0000; --tw-ring-shadow: 0 0 #0000; --tw-shadow: 0 0 #0000; --tw-shadow-colored: 0 0 #0000; --tw-blur: ; --tw-brightness: ; --tw-contrast: ; --tw-grayscale: ; --tw-hue-rotate: ; --tw-invert: ; --tw-saturate: ; --tw-sepia: ; --tw-drop-shadow: ; --tw-backdrop-blur: ; --tw-backdrop-brightness: ; --tw-backdrop-contrast: ; --tw-backdrop-grayscale: ; --tw-backdrop-hue-rotate: ; --tw-backdrop-invert: ; --tw-backdrop-opacity: ; --tw-backdrop-saturate: ; --tw-backdrop-sepia: ; margin: 0px; padding: 0px; border: 0px; font-size: 23px; vertical-align: baseline; max-width: 100%; font-family: georgia, times, &quot;times new roman&quot;, serif; background-color: transparent; color: rgb(0, 0, 0);\"><span style=\"caret-color: rgb(0, 0, 0); font-size: 20px; white-space: break-spaces; text-size-adjust: auto; background-color: rgb(255, 255, 255);\">Блок завдань на просту вибірку даних із таблиць.</span><br></span>"
            ],
            "metadata": {
                "azdata_cell_guid": "0a66ff80-075c-4c07-8cb4-6ef7c063a7c6"
            },
            "attachments": {}
        },
        {
            "cell_type": "markdown",
            "source": [
                "<span style=\"background-color: transparent; color: rgb(67, 67, 67); font-family: georgia, times, &quot;times new roman&quot;, serif; font-size: 20px;\">1.&nbsp;</span> <span style=\"background-color: transparent; color: rgb(67, 67, 67); font-family: georgia, times, &quot;times new roman&quot;, serif; font-size: 20px;\">Виберіть всі записи з таблиці \"Wine\" та виведіть всі доступні поля цих записів.</span>"
            ],
            "metadata": {
                "azdata_cell_guid": "d6ec1f18-381a-42a5-819b-df21921b3091"
            },
            "attachments": {}
        },
        {
            "cell_type": "code",
            "source": [
                "SELECT *\n",
                "FROM Wine"
            ],
            "metadata": {
                "azdata_cell_guid": "b52950f7-0d0b-4c8a-95f1-e2af8631a98b",
                "language": "sql"
            },
            "outputs": [
                {
                    "output_type": "display_data",
                    "data": {
                        "text/html": "(Затронуто строк: 6)"
                    },
                    "metadata": {}
                },
                {
                    "output_type": "display_data",
                    "data": {
                        "text/html": "Общее время выполнения: 00:00:00.062"
                    },
                    "metadata": {}
                },
                {
                    "output_type": "execute_result",
                    "execution_count": 8,
                    "data": {
                        "application/vnd.dataresource+json": {
                            "schema": {
                                "fields": [
                                    {
                                        "name": "ID"
                                    },
                                    {
                                        "name": "Name"
                                    },
                                    {
                                        "name": "Description"
                                    },
                                    {
                                        "name": "Type"
                                    },
                                    {
                                        "name": "Country"
                                    },
                                    {
                                        "name": "Price"
                                    }
                                ]
                            },
                            "data": [
                                {
                                    "ID": "1",
                                    "Name": "Chateau Margaux",
                                    "Description": "Червоне вино класу Grand Cru",
                                    "Type": "Червоне",
                                    "Country": "Франція",
                                    "Price": "500.00"
                                },
                                {
                                    "ID": "2",
                                    "Name": "Chardonnay Reserve",
                                    "Description": "Біле вино з дубовим смаком",
                                    "Type": "Біле",
                                    "Country": "США",
                                    "Price": "45.00"
                                },
                                {
                                    "ID": "3",
                                    "Name": "Prosecco Extra Dry",
                                    "Description": "Італійське ігристе вино",
                                    "Type": "Ігристе",
                                    "Country": "Італія",
                                    "Price": "25.00"
                                },
                                {
                                    "ID": "4",
                                    "Name": "Мерло",
                                    "Description": "Червоне вино",
                                    "Type": "Червоне",
                                    "Country": "Іспанія",
                                    "Price": "30.00"
                                },
                                {
                                    "ID": "5",
                                    "Name": "Sauvignon Blanc",
                                    "Description": "Біле вино",
                                    "Type": "Біле",
                                    "Country": "Нова Зеландія",
                                    "Price": "40.00"
                                },
                                {
                                    "ID": "6",
                                    "Name": "Bardolino DOC Pasqua",
                                    "Description": "Сухий смак з яскраво вираженими фруктовими нотами ",
                                    "Type": "Червоне Сухе",
                                    "Country": "Італія",
                                    "Price": "190.00"
                                }
                            ]
                        },
                        "text/html": "<table><tr><th>ID</th><th>Name</th><th>Description</th><th>Type</th><th>Country</th><th>Price</th></tr><tr><td>1</td><td>Chateau Margaux</td><td>Червоне вино класу Grand Cru</td><td>Червоне</td><td>Франція</td><td>500.00</td></tr><tr><td>2</td><td>Chardonnay Reserve</td><td>Біле вино з дубовим смаком</td><td>Біле</td><td>США</td><td>45.00</td></tr><tr><td>3</td><td>Prosecco Extra Dry</td><td>Італійське ігристе вино</td><td>Ігристе</td><td>Італія</td><td>25.00</td></tr><tr><td>4</td><td>Мерло</td><td>Червоне вино</td><td>Червоне</td><td>Іспанія</td><td>30.00</td></tr><tr><td>5</td><td>Sauvignon Blanc</td><td>Біле вино</td><td>Біле</td><td>Нова Зеландія</td><td>40.00</td></tr><tr><td>6</td><td>Bardolino DOC Pasqua</td><td>Сухий смак з яскраво вираженими фруктовими нотами </td><td>Червоне Сухе</td><td>Італія</td><td>190.00</td></tr></table>"
                    },
                    "metadata": {}
                }
            ],
            "execution_count": 8
        },
        {
            "cell_type": "markdown",
            "source": [
                "<span style=\"background-color: transparent; color: rgb(67, 67, 67); font-family: georgia, times, &quot;times new roman&quot;, serif; font-size: 20px; white-space: break-spaces; caret-color: rgb(21, 21, 21);\">2. </span> <span style=\"background-color: transparent; color: rgb(67, 67, 67); font-family: georgia, times, &quot;times new roman&quot;, serif; font-size: 20px; white-space: break-spaces; caret-color: rgb(21, 21, 21);\">Відсортуйте всі записи з таблиці \"Wine\" за ціною в порядку зростання та виведіть всі поля цих записів.</span>"
            ],
            "metadata": {
                "azdata_cell_guid": "c4bb116f-402f-498c-ba3f-5a7fa4af5903"
            },
            "attachments": {}
        },
        {
            "cell_type": "code",
            "source": [
                "SELECT * \n",
                "FROM Wine\n",
                "ORDER BY Price"
            ],
            "metadata": {
                "azdata_cell_guid": "b8de8559-3263-426e-ba55-2cd8da8b8c01",
                "language": "sql"
            },
            "outputs": [
                {
                    "output_type": "display_data",
                    "data": {
                        "text/html": "(Затронуто строк: 6)"
                    },
                    "metadata": {}
                },
                {
                    "output_type": "display_data",
                    "data": {
                        "text/html": "Общее время выполнения: 00:00:00.057"
                    },
                    "metadata": {}
                },
                {
                    "output_type": "execute_result",
                    "execution_count": 6,
                    "data": {
                        "application/vnd.dataresource+json": {
                            "schema": {
                                "fields": [
                                    {
                                        "name": "ID"
                                    },
                                    {
                                        "name": "Name"
                                    },
                                    {
                                        "name": "Description"
                                    },
                                    {
                                        "name": "Type"
                                    },
                                    {
                                        "name": "Country"
                                    },
                                    {
                                        "name": "Price"
                                    }
                                ]
                            },
                            "data": [
                                {
                                    "ID": "3",
                                    "Name": "Prosecco Extra Dry",
                                    "Description": "Італійське ігристе вино",
                                    "Type": "Ігристе",
                                    "Country": "Італія",
                                    "Price": "25.00"
                                },
                                {
                                    "ID": "4",
                                    "Name": "Мерло",
                                    "Description": "Червоне вино",
                                    "Type": "Червоне",
                                    "Country": "Іспанія",
                                    "Price": "30.00"
                                },
                                {
                                    "ID": "5",
                                    "Name": "Sauvignon Blanc",
                                    "Description": "Біле вино",
                                    "Type": "Біле",
                                    "Country": "Нова Зеландія",
                                    "Price": "40.00"
                                },
                                {
                                    "ID": "2",
                                    "Name": "Chardonnay Reserve",
                                    "Description": "Біле вино з дубовим смаком",
                                    "Type": "Біле",
                                    "Country": "США",
                                    "Price": "45.00"
                                },
                                {
                                    "ID": "6",
                                    "Name": "Bardolino DOC Pasqua",
                                    "Description": "Сухий смак з яскраво вираженими фруктовими нотами ",
                                    "Type": "Червоне Сухе",
                                    "Country": "Італія",
                                    "Price": "190.00"
                                },
                                {
                                    "ID": "1",
                                    "Name": "Chateau Margaux",
                                    "Description": "Червоне вино класу Grand Cru",
                                    "Type": "Червоне",
                                    "Country": "Франція",
                                    "Price": "500.00"
                                }
                            ]
                        },
                        "text/html": "<table><tr><th>ID</th><th>Name</th><th>Description</th><th>Type</th><th>Country</th><th>Price</th></tr><tr><td>3</td><td>Prosecco Extra Dry</td><td>Італійське ігристе вино</td><td>Ігристе</td><td>Італія</td><td>25.00</td></tr><tr><td>4</td><td>Мерло</td><td>Червоне вино</td><td>Червоне</td><td>Іспанія</td><td>30.00</td></tr><tr><td>5</td><td>Sauvignon Blanc</td><td>Біле вино</td><td>Біле</td><td>Нова Зеландія</td><td>40.00</td></tr><tr><td>2</td><td>Chardonnay Reserve</td><td>Біле вино з дубовим смаком</td><td>Біле</td><td>США</td><td>45.00</td></tr><tr><td>6</td><td>Bardolino DOC Pasqua</td><td>Сухий смак з яскраво вираженими фруктовими нотами </td><td>Червоне Сухе</td><td>Італія</td><td>190.00</td></tr><tr><td>1</td><td>Chateau Margaux</td><td>Червоне вино класу Grand Cru</td><td>Червоне</td><td>Франція</td><td>500.00</td></tr></table>"
                    },
                    "metadata": {}
                }
            ],
            "execution_count": 6
        },
        {
            "cell_type": "markdown",
            "source": [
                "<span style=\"background-color: transparent; color: rgb(67, 67, 67); font-family: georgia, times, &quot;times new roman&quot;, serif; font-size: 20px; white-space: break-spaces; caret-color: rgb(21, 21, 21);\">3. Відсортуйте клієнтів за прізвищем у зворотному алфавітному порядку та виведіть всі дані клієнтів.</span>"
            ],
            "metadata": {
                "azdata_cell_guid": "8570500b-6167-472e-b595-415ee2437169"
            },
            "attachments": {}
        },
        {
            "cell_type": "code",
            "source": [
                "SELECT *\n",
                "FROM Customers\n",
                "ORDER BY LastName DESC"
            ],
            "metadata": {
                "azdata_cell_guid": "9040b63a-b0cc-4c63-ba33-c79938a625fa",
                "language": "sql"
            },
            "outputs": [
                {
                    "output_type": "display_data",
                    "data": {
                        "text/html": "(Затронуто строк: 5)"
                    },
                    "metadata": {}
                },
                {
                    "output_type": "display_data",
                    "data": {
                        "text/html": "Общее время выполнения: 00:00:00.061"
                    },
                    "metadata": {}
                },
                {
                    "output_type": "execute_result",
                    "execution_count": 7,
                    "data": {
                        "application/vnd.dataresource+json": {
                            "schema": {
                                "fields": [
                                    {
                                        "name": "CustomerID"
                                    },
                                    {
                                        "name": "FirstName"
                                    },
                                    {
                                        "name": "LastName"
                                    },
                                    {
                                        "name": "Email"
                                    },
                                    {
                                        "name": "Phone"
                                    },
                                    {
                                        "name": "Address"
                                    }
                                ]
                            },
                            "data": [
                                {
                                    "CustomerID": "3",
                                    "FirstName": "Рон",
                                    "LastName": "Уізлі",
                                    "Email": "ron@example.com",
                                    "Phone": "+380567890123",
                                    "Address": "12 Бурхлива вулиця, Лондон"
                                },
                                {
                                    "CustomerID": "1",
                                    "FirstName": "Гаррі",
                                    "LastName": "Поттер",
                                    "Email": "harry@example.com",
                                    "Phone": "+380123456789",
                                    "Address": "4 Привідна вулиця, Лондон"
                                },
                                {
                                    "CustomerID": "4",
                                    "FirstName": "Луна",
                                    "LastName": "Лавґуд",
                                    "Email": "luna@example.com",
                                    "Phone": "+3801111222333",
                                    "Address": "23 Дивовижна вулиця, Лондон"
                                },
                                {
                                    "CustomerID": "2",
                                    "FirstName": "Герміона",
                                    "LastName": "Грейнджер",
                                    "Email": "hermione@example.com",
                                    "Phone": "+380987654321",
                                    "Address": "7 Дубова вулиця, Лондон"
                                },
                                {
                                    "CustomerID": "5",
                                    "FirstName": "Сіріус",
                                    "LastName": "Блек",
                                    "Email": "sirius@example.com",
                                    "Phone": "NULL",
                                    "Address": "10 Відьминська вулиця, Лондон"
                                }
                            ]
                        },
                        "text/html": "<table><tr><th>CustomerID</th><th>FirstName</th><th>LastName</th><th>Email</th><th>Phone</th><th>Address</th></tr><tr><td>3</td><td>Рон</td><td>Уізлі</td><td>ron@example.com</td><td>+380567890123</td><td>12 Бурхлива вулиця, Лондон</td></tr><tr><td>1</td><td>Гаррі</td><td>Поттер</td><td>harry@example.com</td><td>+380123456789</td><td>4 Привідна вулиця, Лондон</td></tr><tr><td>4</td><td>Луна</td><td>Лавґуд</td><td>luna@example.com</td><td>+3801111222333</td><td>23 Дивовижна вулиця, Лондон</td></tr><tr><td>2</td><td>Герміона</td><td>Грейнджер</td><td>hermione@example.com</td><td>+380987654321</td><td>7 Дубова вулиця, Лондон</td></tr><tr><td>5</td><td>Сіріус</td><td>Блек</td><td>sirius@example.com</td><td>NULL</td><td>10 Відьминська вулиця, Лондон</td></tr></table>"
                    },
                    "metadata": {}
                }
            ],
            "execution_count": 7
        },
        {
            "cell_type": "markdown",
            "source": [
                "<span style=\"background-color: transparent; color: rgb(67, 67, 67); font-family: georgia, times, &quot;times new roman&quot;, serif; font-size: 20px; white-space: break-spaces; caret-color: rgb(21, 21, 21);\">4. Знайдіть середню кількість проданих пляшок за один продаж і виведіть результат.</span>"
            ],
            "metadata": {
                "azdata_cell_guid": "19a04d1d-c1aa-4532-9b70-3a9f0c24a4e0"
            },
            "attachments": {}
        },
        {
            "cell_type": "code",
            "source": [
                "SELECT AVG(QuantitySold) AS AverageQuantitySold\n",
                "FROM Sales"
            ],
            "metadata": {
                "azdata_cell_guid": "2bfea856-b239-41f4-ae75-7d85c8bddb4d",
                "language": "sql"
            },
            "outputs": [
                {
                    "output_type": "display_data",
                    "data": {
                        "text/html": "(Затронута одна строка)"
                    },
                    "metadata": {}
                },
                {
                    "output_type": "display_data",
                    "data": {
                        "text/html": "Общее время выполнения: 00:00:00.066"
                    },
                    "metadata": {}
                },
                {
                    "output_type": "execute_result",
                    "execution_count": 9,
                    "data": {
                        "application/vnd.dataresource+json": {
                            "schema": {
                                "fields": [
                                    {
                                        "name": "AverageQuantitySold"
                                    }
                                ]
                            },
                            "data": [
                                {
                                    "AverageQuantitySold": "3"
                                }
                            ]
                        },
                        "text/html": "<table><tr><th>AverageQuantitySold</th></tr><tr><td>3</td></tr></table>"
                    },
                    "metadata": {}
                }
            ],
            "execution_count": 9
        },
        {
            "cell_type": "markdown",
            "source": [
                "<span style=\"background-color: transparent; color: rgb(67, 67, 67); font-family: georgia, times, &quot;times new roman&quot;, serif; font-size: 20px; white-space: break-spaces; caret-color: rgb(21, 21, 21);\">5. Створіть запит для вибору унікальних країн виробництва вин і виведіть їх.</span>"
            ],
            "metadata": {
                "azdata_cell_guid": "df221823-d3fb-46b9-a417-3208c2c37852"
            },
            "attachments": {}
        },
        {
            "cell_type": "code",
            "source": [
                "SELECT DISTINCT Country\n",
                "FROM Wine"
            ],
            "metadata": {
                "azdata_cell_guid": "b8ab86f7-539b-485f-8f17-1c7ca4a48242",
                "language": "sql"
            },
            "outputs": [
                {
                    "output_type": "display_data",
                    "data": {
                        "text/html": "(Затронуто строк: 5)"
                    },
                    "metadata": {}
                },
                {
                    "output_type": "display_data",
                    "data": {
                        "text/html": "Общее время выполнения: 00:00:00.071"
                    },
                    "metadata": {}
                },
                {
                    "output_type": "execute_result",
                    "execution_count": 3,
                    "data": {
                        "application/vnd.dataresource+json": {
                            "schema": {
                                "fields": [
                                    {
                                        "name": "Country"
                                    }
                                ]
                            },
                            "data": [
                                {
                                    "Country": "Іспанія"
                                },
                                {
                                    "Country": "Італія"
                                },
                                {
                                    "Country": "Нова Зеландія"
                                },
                                {
                                    "Country": "США"
                                },
                                {
                                    "Country": "Франція"
                                }
                            ]
                        },
                        "text/html": "<table><tr><th>Country</th></tr><tr><td>Іспанія</td></tr><tr><td>Італія</td></tr><tr><td>Нова Зеландія</td></tr><tr><td>США</td></tr><tr><td>Франція</td></tr></table>"
                    },
                    "metadata": {}
                }
            ],
            "execution_count": 3
        },
        {
            "cell_type": "markdown",
            "source": [
                "<span style=\"background-color: transparent; color: rgb(67, 67, 67); font-family: georgia, times, &quot;times new roman&quot;, serif; font-size: 20px; white-space: break-spaces; caret-color: rgb(21, 21, 21);\">6. Створіть запит для вибору унікальних типів вин і виведіть їх.</span>"
            ],
            "metadata": {
                "azdata_cell_guid": "e1fb55de-4c8e-470e-a39b-29d01b46cb80"
            },
            "attachments": {}
        },
        {
            "cell_type": "code",
            "source": [
                "SELECT DISTINCT Type \n",
                "FROM Wine"
            ],
            "metadata": {
                "azdata_cell_guid": "5ca9d292-4fa4-4e8a-8d29-e758fef139a7",
                "language": "sql"
            },
            "outputs": [
                {
                    "output_type": "display_data",
                    "data": {
                        "text/html": "(Затронуто строк: 4)"
                    },
                    "metadata": {}
                },
                {
                    "output_type": "display_data",
                    "data": {
                        "text/html": "Общее время выполнения: 00:00:00.057"
                    },
                    "metadata": {}
                },
                {
                    "output_type": "execute_result",
                    "execution_count": 4,
                    "data": {
                        "application/vnd.dataresource+json": {
                            "schema": {
                                "fields": [
                                    {
                                        "name": "Type"
                                    }
                                ]
                            },
                            "data": [
                                {
                                    "Type": "Біле"
                                },
                                {
                                    "Type": "Ігристе"
                                },
                                {
                                    "Type": "Червоне"
                                },
                                {
                                    "Type": "Червоне Сухе"
                                }
                            ]
                        },
                        "text/html": "<table><tr><th>Type</th></tr><tr><td>Біле</td></tr><tr><td>Ігристе</td></tr><tr><td>Червоне</td></tr><tr><td>Червоне Сухе</td></tr></table>"
                    },
                    "metadata": {}
                }
            ],
            "execution_count": 4
        },
        {
            "cell_type": "markdown",
            "source": [
                "<span style=\"background-color: transparent; color: rgb(67, 67, 67); font-family: georgia, times, &quot;times new roman&quot;, serif; font-size: 20px; white-space: break-spaces; caret-color: rgb(21, 21, 21);\">7. Порахуйте кількість унікальних країн виробництва вин і виведіть результат.</span>"
            ],
            "metadata": {
                "azdata_cell_guid": "d4e4e541-d03b-4680-a610-452828da939b"
            },
            "attachments": {}
        },
        {
            "cell_type": "code",
            "source": [
                "SELECT \n",
                "    COUNT(DISTINCT Country) AS UniqueCountryCount\n",
                "FROM Wine"
            ],
            "metadata": {
                "azdata_cell_guid": "ac9ca7a8-8434-412f-8deb-e36d0d00cfae",
                "language": "sql"
            },
            "outputs": [
                {
                    "output_type": "display_data",
                    "data": {
                        "text/html": "(Затронута одна строка)"
                    },
                    "metadata": {}
                },
                {
                    "output_type": "display_data",
                    "data": {
                        "text/html": "Общее время выполнения: 00:00:00.060"
                    },
                    "metadata": {}
                },
                {
                    "output_type": "execute_result",
                    "execution_count": 5,
                    "data": {
                        "application/vnd.dataresource+json": {
                            "schema": {
                                "fields": [
                                    {
                                        "name": "UniqueCountryCount"
                                    }
                                ]
                            },
                            "data": [
                                {
                                    "UniqueCountryCount": "5"
                                }
                            ]
                        },
                        "text/html": "<table><tr><th>UniqueCountryCount</th></tr><tr><td>5</td></tr></table>"
                    },
                    "metadata": {}
                }
            ],
            "execution_count": 5
        },
        {
            "cell_type": "markdown",
            "source": [
                "## <span style=\"box-sizing: border-box; --tw-border-spacing-x: 0; --tw-border-spacing-y: 0; --tw-translate-x: 0; --tw-translate-y: 0; --tw-rotate: 0; --tw-skew-x: 0; --tw-skew-y: 0; --tw-scale-x: 1; --tw-scale-y: 1; --tw-pan-x: ; --tw-pan-y: ; --tw-pinch-zoom: ; --tw-scroll-snap-strictness: proximity; --tw-ordinal: ; --tw-slashed-zero: ; --tw-numeric-figure: ; --tw-numeric-spacing: ; --tw-numeric-fraction: ; --tw-ring-inset: ; --tw-ring-offset-width: 0px; --tw-ring-offset-color: #fff; --tw-ring-color: #3b82f680; --tw-ring-offset-shadow: 0 0 #0000; --tw-ring-shadow: 0 0 #0000; --tw-shadow: 0 0 #0000; --tw-shadow-colored: 0 0 #0000; --tw-blur: ; --tw-brightness: ; --tw-contrast: ; --tw-grayscale: ; --tw-hue-rotate: ; --tw-invert: ; --tw-saturate: ; --tw-sepia: ; --tw-drop-shadow: ; --tw-backdrop-blur: ; --tw-backdrop-brightness: ; --tw-backdrop-contrast: ; --tw-backdrop-grayscale: ; --tw-backdrop-hue-rotate: ; --tw-backdrop-invert: ; --tw-backdrop-opacity: ; --tw-backdrop-saturate: ; --tw-backdrop-sepia: ; margin: 0px; padding: 0px; border: 0px; font-size: 23px; vertical-align: baseline; max-width: 100%; font-family: georgia, times, &quot;times new roman&quot;, serif; background-color: transparent; color: rgb(0, 0, 0);\">Завдання 2</span>\n",
                "\n",
                "<span style=\"box-sizing: border-box; --tw-border-spacing-x: 0; --tw-border-spacing-y: 0; --tw-translate-x: 0; --tw-translate-y: 0; --tw-rotate: 0; --tw-skew-x: 0; --tw-skew-y: 0; --tw-scale-x: 1; --tw-scale-y: 1; --tw-pan-x: ; --tw-pan-y: ; --tw-pinch-zoom: ; --tw-scroll-snap-strictness: proximity; --tw-ordinal: ; --tw-slashed-zero: ; --tw-numeric-figure: ; --tw-numeric-spacing: ; --tw-numeric-fraction: ; --tw-ring-inset: ; --tw-ring-offset-width: 0px; --tw-ring-offset-color: #fff; --tw-ring-color: #3b82f680; --tw-ring-offset-shadow: 0 0 #0000; --tw-ring-shadow: 0 0 #0000; --tw-shadow: 0 0 #0000; --tw-shadow-colored: 0 0 #0000; --tw-blur: ; --tw-brightness: ; --tw-contrast: ; --tw-grayscale: ; --tw-hue-rotate: ; --tw-invert: ; --tw-saturate: ; --tw-sepia: ; --tw-drop-shadow: ; --tw-backdrop-blur: ; --tw-backdrop-brightness: ; --tw-backdrop-contrast: ; --tw-backdrop-grayscale: ; --tw-backdrop-hue-rotate: ; --tw-backdrop-invert: ; --tw-backdrop-opacity: ; --tw-backdrop-saturate: ; --tw-backdrop-sepia: ; margin: 0px; padding: 0px; border: 0px; font-size: 20px; vertical-align: baseline; max-width: 100%; font-family: georgia, times, &quot;times new roman&quot;, serif; background-color: transparent; color: rgb(67, 67, 67);\">Блок завдань на вибірку даних із певною умовою.</span>"
            ],
            "metadata": {
                "azdata_cell_guid": "ddc538ef-572e-48b1-8834-c29a1567d737"
            },
            "attachments": {}
        },
        {
            "cell_type": "markdown",
            "source": [
                "<span style=\"background-color: transparent; color: rgb(67, 67, 67); font-family: georgia, times, &quot;times new roman&quot;, serif; font-size: 20px; white-space: break-spaces; caret-color: rgb(21, 21, 21);\">8. Виберіть всіх клієнтів, які не мають номеру телефону та виведіть всі доступні поля цих клієнтів.</span>"
            ],
            "metadata": {
                "azdata_cell_guid": "f9a36f54-3bda-4fc9-8510-688767bfa61d"
            },
            "attachments": {}
        },
        {
            "cell_type": "code",
            "source": [
                "SELECT *\n",
                "FROM Customers\n",
                "WHERE Phone IS NULL"
            ],
            "metadata": {
                "azdata_cell_guid": "680750ee-4c20-4433-9195-88b39acadd9a",
                "language": "sql"
            },
            "outputs": [
                {
                    "output_type": "display_data",
                    "data": {
                        "text/html": "(Затронута одна строка)"
                    },
                    "metadata": {}
                },
                {
                    "output_type": "display_data",
                    "data": {
                        "text/html": "Общее время выполнения: 00:00:00.487"
                    },
                    "metadata": {}
                },
                {
                    "output_type": "execute_result",
                    "execution_count": 10,
                    "data": {
                        "application/vnd.dataresource+json": {
                            "schema": {
                                "fields": [
                                    {
                                        "name": "CustomerID"
                                    },
                                    {
                                        "name": "FirstName"
                                    },
                                    {
                                        "name": "LastName"
                                    },
                                    {
                                        "name": "Email"
                                    },
                                    {
                                        "name": "Phone"
                                    },
                                    {
                                        "name": "Address"
                                    }
                                ]
                            },
                            "data": [
                                {
                                    "CustomerID": "5",
                                    "FirstName": "Сіріус",
                                    "LastName": "Блек",
                                    "Email": "sirius@example.com",
                                    "Phone": "NULL",
                                    "Address": "10 Відьминська вулиця, Лондон"
                                }
                            ]
                        },
                        "text/html": "<table><tr><th>CustomerID</th><th>FirstName</th><th>LastName</th><th>Email</th><th>Phone</th><th>Address</th></tr><tr><td>5</td><td>Сіріус</td><td>Блек</td><td>sirius@example.com</td><td>NULL</td><td>10 Відьминська вулиця, Лондон</td></tr></table>"
                    },
                    "metadata": {}
                }
            ],
            "execution_count": 10
        },
        {
            "cell_type": "markdown",
            "source": [
                "<span style=\"background-color: transparent; color: rgb(67, 67, 67); font-family: georgia, times, &quot;times new roman&quot;, serif; font-size: 20px; white-space: break-spaces; caret-color: rgb(21, 21, 21);\">9. Виберіть всі записи з таблиці \"Wine\", де країна виробництва - Франція або Іспанія та виведіть всі поля цих записів.</span>"
            ],
            "metadata": {
                "azdata_cell_guid": "3a682b2a-9deb-4d9e-8c04-2cd0b9791866"
            },
            "attachments": {}
        },
        {
            "cell_type": "code",
            "source": [
                "SELECT *\n",
                "FROM Wine\n",
                "WHERE Country IN ('Франція', 'Іспанія')"
            ],
            "metadata": {
                "azdata_cell_guid": "641d9436-d5cb-49aa-ad71-2101585affb4",
                "language": "sql"
            },
            "outputs": [
                {
                    "output_type": "display_data",
                    "data": {
                        "text/html": "(Затронуто строк: 2)"
                    },
                    "metadata": {}
                },
                {
                    "output_type": "display_data",
                    "data": {
                        "text/html": "Общее время выполнения: 00:00:00.070"
                    },
                    "metadata": {}
                },
                {
                    "output_type": "execute_result",
                    "execution_count": 11,
                    "data": {
                        "application/vnd.dataresource+json": {
                            "schema": {
                                "fields": [
                                    {
                                        "name": "ID"
                                    },
                                    {
                                        "name": "Name"
                                    },
                                    {
                                        "name": "Description"
                                    },
                                    {
                                        "name": "Type"
                                    },
                                    {
                                        "name": "Country"
                                    },
                                    {
                                        "name": "Price"
                                    }
                                ]
                            },
                            "data": [
                                {
                                    "ID": "1",
                                    "Name": "Chateau Margaux",
                                    "Description": "Червоне вино класу Grand Cru",
                                    "Type": "Червоне",
                                    "Country": "Франція",
                                    "Price": "500.00"
                                },
                                {
                                    "ID": "4",
                                    "Name": "Мерло",
                                    "Description": "Червоне вино",
                                    "Type": "Червоне",
                                    "Country": "Іспанія",
                                    "Price": "30.00"
                                }
                            ]
                        },
                        "text/html": "<table><tr><th>ID</th><th>Name</th><th>Description</th><th>Type</th><th>Country</th><th>Price</th></tr><tr><td>1</td><td>Chateau Margaux</td><td>Червоне вино класу Grand Cru</td><td>Червоне</td><td>Франція</td><td>500.00</td></tr><tr><td>4</td><td>Мерло</td><td>Червоне вино</td><td>Червоне</td><td>Іспанія</td><td>30.00</td></tr></table>"
                    },
                    "metadata": {}
                }
            ],
            "execution_count": 11
        },
        {
            "cell_type": "markdown",
            "source": [
                "<span style=\"background-color: transparent; color: rgb(67, 67, 67); font-family: georgia, times, &quot;times new roman&quot;, serif; font-size: 20px; white-space: break-spaces; caret-color: rgb(21, 21, 21);\">10. Виберіть назви та ціни вин, які коштують менше 30.00 та виведіть ці два поля.</span>"
            ],
            "metadata": {
                "azdata_cell_guid": "21a764fe-ab0b-4a32-bef5-6b3b1cdf456c"
            },
            "attachments": {}
        },
        {
            "cell_type": "code",
            "source": [
                "SELECT Name, Price \n",
                "FROM Wine\n",
                "WHERE Price < 30.00"
            ],
            "metadata": {
                "azdata_cell_guid": "5559e7d6-ed77-4e3e-9a5c-5ee020f698f9",
                "language": "sql"
            },
            "outputs": [
                {
                    "output_type": "display_data",
                    "data": {
                        "text/html": "(Затронута одна строка)"
                    },
                    "metadata": {}
                },
                {
                    "output_type": "display_data",
                    "data": {
                        "text/html": "Общее время выполнения: 00:00:00.055"
                    },
                    "metadata": {}
                },
                {
                    "output_type": "execute_result",
                    "execution_count": 12,
                    "data": {
                        "application/vnd.dataresource+json": {
                            "schema": {
                                "fields": [
                                    {
                                        "name": "Name"
                                    },
                                    {
                                        "name": "Price"
                                    }
                                ]
                            },
                            "data": [
                                {
                                    "Name": "Prosecco Extra Dry",
                                    "Price": "25.00"
                                }
                            ]
                        },
                        "text/html": "<table><tr><th>Name</th><th>Price</th></tr><tr><td>Prosecco Extra Dry</td><td>25.00</td></tr></table>"
                    },
                    "metadata": {}
                }
            ],
            "execution_count": 12
        },
        {
            "cell_type": "markdown",
            "source": [
                "<span style=\"background-color: transparent; color: rgb(67, 67, 67); font-family: georgia, times, &quot;times new roman&quot;, serif; font-size: 20px; white-space: break-spaces; caret-color: rgb(21, 21, 21);\">11. Виберіть клієнтів з прізвищами, які починаються на \"П\" та мають більше 2 символів в імені та виведіть всі дані цих клієнтів.</span>"
            ],
            "metadata": {
                "azdata_cell_guid": "e5b0ae80-a117-42f9-ae2f-e1d1359fe0de"
            },
            "attachments": {}
        },
        {
            "cell_type": "code",
            "source": [
                "SELECT *\n",
                "FROM Customers\n",
                "WHERE LastName LIKE 'П%' AND LEN(LastName)>2"
            ],
            "metadata": {
                "azdata_cell_guid": "67f5795b-7d7b-4dee-9ef2-0ce5046eb4a0",
                "language": "sql"
            },
            "outputs": [
                {
                    "output_type": "display_data",
                    "data": {
                        "text/html": "(Затронута одна строка)"
                    },
                    "metadata": {}
                },
                {
                    "output_type": "display_data",
                    "data": {
                        "text/html": "Общее время выполнения: 00:00:00.063"
                    },
                    "metadata": {}
                },
                {
                    "output_type": "execute_result",
                    "execution_count": 13,
                    "data": {
                        "application/vnd.dataresource+json": {
                            "schema": {
                                "fields": [
                                    {
                                        "name": "CustomerID"
                                    },
                                    {
                                        "name": "FirstName"
                                    },
                                    {
                                        "name": "LastName"
                                    },
                                    {
                                        "name": "Email"
                                    },
                                    {
                                        "name": "Phone"
                                    },
                                    {
                                        "name": "Address"
                                    }
                                ]
                            },
                            "data": [
                                {
                                    "CustomerID": "1",
                                    "FirstName": "Гаррі",
                                    "LastName": "Поттер",
                                    "Email": "harry@example.com",
                                    "Phone": "+380123456789",
                                    "Address": "4 Привідна вулиця, Лондон"
                                }
                            ]
                        },
                        "text/html": "<table><tr><th>CustomerID</th><th>FirstName</th><th>LastName</th><th>Email</th><th>Phone</th><th>Address</th></tr><tr><td>1</td><td>Гаррі</td><td>Поттер</td><td>harry@example.com</td><td>+380123456789</td><td>4 Привідна вулиця, Лондон</td></tr></table>"
                    },
                    "metadata": {}
                }
            ],
            "execution_count": 13
        },
        {
            "cell_type": "markdown",
            "source": [
                "<span style=\"background-color: transparent; color: rgb(67, 67, 67); font-family: georgia, times, &quot;times new roman&quot;, serif; font-size: 20px; white-space: break-spaces; caret-color: rgb(21, 21, 21);\">12. Виберіть всі червоні вина з таблиці \"Wine\" та виведіть всі поля цих вин.</span>"
            ],
            "metadata": {
                "azdata_cell_guid": "369c3468-1ef0-489a-bf2a-3e36213cd3a4"
            },
            "attachments": {}
        },
        {
            "cell_type": "code",
            "source": [
                "SELECT *\n",
                "FROM Wine\n",
                "WHERE Type = 'Червоне'"
            ],
            "metadata": {
                "azdata_cell_guid": "6f282f2d-c89b-42e7-9daa-5ed03eeaadf0",
                "language": "sql"
            },
            "outputs": [
                {
                    "output_type": "display_data",
                    "data": {
                        "text/html": "(Затронуто строк: 2)"
                    },
                    "metadata": {}
                },
                {
                    "output_type": "display_data",
                    "data": {
                        "text/html": "Общее время выполнения: 00:00:00.055"
                    },
                    "metadata": {}
                },
                {
                    "output_type": "execute_result",
                    "execution_count": 14,
                    "data": {
                        "application/vnd.dataresource+json": {
                            "schema": {
                                "fields": [
                                    {
                                        "name": "ID"
                                    },
                                    {
                                        "name": "Name"
                                    },
                                    {
                                        "name": "Description"
                                    },
                                    {
                                        "name": "Type"
                                    },
                                    {
                                        "name": "Country"
                                    },
                                    {
                                        "name": "Price"
                                    }
                                ]
                            },
                            "data": [
                                {
                                    "ID": "1",
                                    "Name": "Chateau Margaux",
                                    "Description": "Червоне вино класу Grand Cru",
                                    "Type": "Червоне",
                                    "Country": "Франція",
                                    "Price": "500.00"
                                },
                                {
                                    "ID": "4",
                                    "Name": "Мерло",
                                    "Description": "Червоне вино",
                                    "Type": "Червоне",
                                    "Country": "Іспанія",
                                    "Price": "30.00"
                                }
                            ]
                        },
                        "text/html": "<table><tr><th>ID</th><th>Name</th><th>Description</th><th>Type</th><th>Country</th><th>Price</th></tr><tr><td>1</td><td>Chateau Margaux</td><td>Червоне вино класу Grand Cru</td><td>Червоне</td><td>Франція</td><td>500.00</td></tr><tr><td>4</td><td>Мерло</td><td>Червоне вино</td><td>Червоне</td><td>Іспанія</td><td>30.00</td></tr></table>"
                    },
                    "metadata": {}
                }
            ],
            "execution_count": 14
        },
        {
            "cell_type": "markdown",
            "source": [
                "<span style=\"background-color: transparent; color: rgb(67, 67, 67); font-family: georgia, times, &quot;times new roman&quot;, serif; font-size: 20px; white-space: break-spaces; caret-color: rgb(21, 21, 21);\">13. Запит на вибірку всіх клієнтів з об'єднаними іменами і прізвищами та виведіть ці дані в одному полі.</span>"
            ],
            "metadata": {
                "azdata_cell_guid": "50c79f52-41bd-428c-be74-2bbdd95a81b5"
            },
            "attachments": {}
        },
        {
            "cell_type": "code",
            "source": [
                "SELECT FirstName + ' ' + LastName AS Fullname\n",
                "FROM Customers"
            ],
            "metadata": {
                "azdata_cell_guid": "5ed2116d-86d8-4b4e-ae42-98a44959b1e9",
                "language": "sql"
            },
            "outputs": [
                {
                    "output_type": "display_data",
                    "data": {
                        "text/html": "(Затронуто строк: 5)"
                    },
                    "metadata": {}
                },
                {
                    "output_type": "display_data",
                    "data": {
                        "text/html": "Общее время выполнения: 00:00:00.641"
                    },
                    "metadata": {}
                },
                {
                    "output_type": "execute_result",
                    "metadata": {},
                    "execution_count": 2,
                    "data": {
                        "application/vnd.dataresource+json": {
                            "schema": {
                                "fields": [
                                    {
                                        "name": "Fullname"
                                    }
                                ]
                            },
                            "data": [
                                {
                                    "Fullname": "Гаррі Поттер"
                                },
                                {
                                    "Fullname": "Герміона Грейнджер"
                                },
                                {
                                    "Fullname": "Рон Уізлі"
                                },
                                {
                                    "Fullname": "Луна Лавґуд"
                                },
                                {
                                    "Fullname": "Сіріус Блек"
                                }
                            ]
                        },
                        "text/html": [
                            "<table>",
                            "<tr><th>Fullname</th></tr>",
                            "<tr><td>Гаррі Поттер</td></tr>",
                            "<tr><td>Герміона Грейнджер</td></tr>",
                            "<tr><td>Рон Уізлі</td></tr>",
                            "<tr><td>Луна Лавґуд</td></tr>",
                            "<tr><td>Сіріус Блек</td></tr>",
                            "</table>"
                        ]
                    }
                }
            ],
            "execution_count": 2
        },
        {
            "cell_type": "markdown",
            "source": [
                "<span style=\"background-color: transparent; color: rgb(67, 67, 67); font-family: georgia, times, &quot;times new roman&quot;, serif; font-size: 20px; white-space: break-spaces; caret-color: rgb(21, 21, 21);\">14. Запит на вибірку всіх вин з першою літерою назви у верхньому регістрі та виведіть всі поля цих вин.</span>"
            ],
            "metadata": {
                "azdata_cell_guid": "17aafe93-f6ab-4806-bdde-21ff1e07f990"
            },
            "attachments": {}
        },
        {
            "cell_type": "code",
            "source": [
                "SELECT *\n",
                "FROM Wine\n",
                "WHERE LEFT(Name, 1) = UPPER(LEFT(Name, 1))"
            ],
            "metadata": {
                "azdata_cell_guid": "fa979ade-e3e1-48b7-945e-dd84c7d9cc59",
                "language": "sql"
            },
            "outputs": [
                {
                    "output_type": "display_data",
                    "data": {
                        "text/html": "(Затронуто строк: 6)"
                    },
                    "metadata": {}
                },
                {
                    "output_type": "display_data",
                    "data": {
                        "text/html": "Общее время выполнения: 00:00:00.063"
                    },
                    "metadata": {}
                },
                {
                    "output_type": "execute_result",
                    "metadata": {},
                    "execution_count": 7,
                    "data": {
                        "application/vnd.dataresource+json": {
                            "schema": {
                                "fields": [
                                    {
                                        "name": "ID"
                                    },
                                    {
                                        "name": "Name"
                                    },
                                    {
                                        "name": "Description"
                                    },
                                    {
                                        "name": "Type"
                                    },
                                    {
                                        "name": "Country"
                                    },
                                    {
                                        "name": "Price"
                                    }
                                ]
                            },
                            "data": [
                                {
                                    "ID": "1",
                                    "Name": "Chateau Margaux",
                                    "Description": "Червоне вино класу Grand Cru",
                                    "Type": "Червоне",
                                    "Country": "Франція",
                                    "Price": "500.00"
                                },
                                {
                                    "ID": "2",
                                    "Name": "Chardonnay Reserve",
                                    "Description": "Біле вино з дубовим смаком",
                                    "Type": "Біле",
                                    "Country": "США",
                                    "Price": "45.00"
                                },
                                {
                                    "ID": "3",
                                    "Name": "Prosecco Extra Dry",
                                    "Description": "Італійське ігристе вино",
                                    "Type": "Ігристе",
                                    "Country": "Італія",
                                    "Price": "25.00"
                                },
                                {
                                    "ID": "4",
                                    "Name": "Мерло",
                                    "Description": "Червоне вино",
                                    "Type": "Червоне",
                                    "Country": "Іспанія",
                                    "Price": "30.00"
                                },
                                {
                                    "ID": "5",
                                    "Name": "Sauvignon Blanc",
                                    "Description": "Біле вино",
                                    "Type": "Біле",
                                    "Country": "Нова Зеландія",
                                    "Price": "40.00"
                                },
                                {
                                    "ID": "6",
                                    "Name": "Bardolino DOC Pasqua",
                                    "Description": "Сухий смак з яскраво вираженими фруктовими нотами ",
                                    "Type": "Червоне Сухе",
                                    "Country": "Італія",
                                    "Price": "190.00"
                                }
                            ]
                        },
                        "text/html": [
                            "<table>",
                            "<tr><th>ID</th><th>Name</th><th>Description</th><th>Type</th><th>Country</th><th>Price</th></tr>",
                            "<tr><td>1</td><td>Chateau Margaux</td><td>Червоне вино класу Grand Cru</td><td>Червоне</td><td>Франція</td><td>500.00</td></tr>",
                            "<tr><td>2</td><td>Chardonnay Reserve</td><td>Біле вино з дубовим смаком</td><td>Біле</td><td>США</td><td>45.00</td></tr>",
                            "<tr><td>3</td><td>Prosecco Extra Dry</td><td>Італійське ігристе вино</td><td>Ігристе</td><td>Італія</td><td>25.00</td></tr>",
                            "<tr><td>4</td><td>Мерло</td><td>Червоне вино</td><td>Червоне</td><td>Іспанія</td><td>30.00</td></tr>",
                            "<tr><td>5</td><td>Sauvignon Blanc</td><td>Біле вино</td><td>Біле</td><td>Нова Зеландія</td><td>40.00</td></tr>",
                            "<tr><td>6</td><td>Bardolino DOC Pasqua</td><td>Сухий смак з яскраво вираженими фруктовими нотами </td><td>Червоне Сухе</td><td>Італія</td><td>190.00</td></tr>",
                            "</table>"
                        ]
                    }
                }
            ],
            "execution_count": 7
        },
        {
            "cell_type": "markdown",
            "source": [
                "<span style=\"background-color: transparent; color: rgb(67, 67, 67); font-family: georgia, times, &quot;times new roman&quot;, serif; font-size: 20px; white-space: break-spaces; caret-color: rgb(21, 21, 21);\">15. Запит на вибірку всіх клієнтів, ім'я яких починається на \"А\" та виведіть всі дані цих клієнтів.</span>"
            ],
            "metadata": {
                "azdata_cell_guid": "45f1cc3f-129d-4c27-96da-309308c75e51"
            },
            "attachments": {}
        },
        {
            "cell_type": "code",
            "source": [
                "SELECT *\n",
                "FROM Customers\n",
                "WHERE FirstName LIKE 'А%'"
            ],
            "metadata": {
                "azdata_cell_guid": "ab9f2afc-b67d-4974-994e-23f58594960d",
                "language": "sql"
            },
            "outputs": [
                {
                    "output_type": "display_data",
                    "data": {
                        "text/html": "(Затронуто строк: 0)"
                    },
                    "metadata": {}
                },
                {
                    "output_type": "display_data",
                    "data": {
                        "text/html": "Общее время выполнения: 00:00:00.060"
                    },
                    "metadata": {}
                },
                {
                    "output_type": "execute_result",
                    "metadata": {},
                    "execution_count": 3,
                    "data": {
                        "application/vnd.dataresource+json": {
                            "schema": {
                                "fields": [
                                    {
                                        "name": "CustomerID"
                                    },
                                    {
                                        "name": "FirstName"
                                    },
                                    {
                                        "name": "LastName"
                                    },
                                    {
                                        "name": "Email"
                                    },
                                    {
                                        "name": "Phone"
                                    },
                                    {
                                        "name": "Address"
                                    }
                                ]
                            },
                            "data": []
                        },
                        "text/html": [
                            "<table>",
                            "<tr><th>CustomerID</th><th>FirstName</th><th>LastName</th><th>Email</th><th>Phone</th><th>Address</th></tr>",
                            "</table>"
                        ]
                    }
                }
            ],
            "execution_count": 3
        },
        {
            "cell_type": "markdown",
            "source": [
                "<span style=\"background-color: transparent; color: rgb(67, 67, 67); font-family: georgia, times, &quot;times new roman&quot;, serif; font-size: 20px; white-space: break-spaces; caret-color: rgb(21, 21, 21);\">16. Виберіть клієнтів, які мають електронну пошту від \"gmail\" та номер телефону, починаючи з \"+380\" та виведіть всі поля цих клієнтів.</span>"
            ],
            "metadata": {
                "azdata_cell_guid": "bfa327f4-e262-4156-9a40-8aeb0a8e7270"
            },
            "attachments": {}
        },
        {
            "cell_type": "code",
            "source": [
                "SELECT *\n",
                "FROM Customers\n",
                "WHERE Email LIKE '%gmail%'  AND Phone LIKE '+380%'"
            ],
            "metadata": {
                "azdata_cell_guid": "b2568761-6cb2-4cc1-94ef-f03e19a270e4",
                "language": "sql"
            },
            "outputs": [
                {
                    "output_type": "display_data",
                    "data": {
                        "text/html": "(Затронуто строк: 0)"
                    },
                    "metadata": {}
                },
                {
                    "output_type": "display_data",
                    "data": {
                        "text/html": "Общее время выполнения: 00:00:00.073"
                    },
                    "metadata": {}
                },
                {
                    "output_type": "execute_result",
                    "metadata": {},
                    "execution_count": 4,
                    "data": {
                        "application/vnd.dataresource+json": {
                            "schema": {
                                "fields": [
                                    {
                                        "name": "CustomerID"
                                    },
                                    {
                                        "name": "FirstName"
                                    },
                                    {
                                        "name": "LastName"
                                    },
                                    {
                                        "name": "Email"
                                    },
                                    {
                                        "name": "Phone"
                                    },
                                    {
                                        "name": "Address"
                                    }
                                ]
                            },
                            "data": []
                        },
                        "text/html": [
                            "<table>",
                            "<tr><th>CustomerID</th><th>FirstName</th><th>LastName</th><th>Email</th><th>Phone</th><th>Address</th></tr>",
                            "</table>"
                        ]
                    }
                }
            ],
            "execution_count": 4
        },
        {
            "cell_type": "markdown",
            "source": [
                "<span style=\"background-color: transparent; color: rgb(67, 67, 67); font-family: georgia, times, &quot;times new roman&quot;, serif; font-size: 20px; white-space: break-spaces; caret-color: rgb(21, 21, 21);\">17. Виберіть клієнтів, які мають номер телефону, починаючи з \"+380\", та електронну пошту, яка не відноситься до \"microsoft\" та виведіть всі дані цих клієнтів.</span>"
            ],
            "metadata": {
                "azdata_cell_guid": "33dfe287-5023-4ecf-b0e9-798680a28b03"
            },
            "attachments": {}
        },
        {
            "cell_type": "code",
            "source": [
                "SELECT *\n",
                "FROM Customers\n",
                "WHERE Email NOT LIKE '%microsoft%'  AND Phone LIKE '+380%'"
            ],
            "metadata": {
                "azdata_cell_guid": "db2bc8ec-a00d-4d65-89e9-be2428865310",
                "language": "sql"
            },
            "outputs": [
                {
                    "output_type": "display_data",
                    "data": {
                        "text/html": "(Затронуто строк: 4)"
                    },
                    "metadata": {}
                },
                {
                    "output_type": "display_data",
                    "data": {
                        "text/html": "Общее время выполнения: 00:00:00.075"
                    },
                    "metadata": {}
                },
                {
                    "output_type": "execute_result",
                    "metadata": {},
                    "execution_count": 5,
                    "data": {
                        "application/vnd.dataresource+json": {
                            "schema": {
                                "fields": [
                                    {
                                        "name": "CustomerID"
                                    },
                                    {
                                        "name": "FirstName"
                                    },
                                    {
                                        "name": "LastName"
                                    },
                                    {
                                        "name": "Email"
                                    },
                                    {
                                        "name": "Phone"
                                    },
                                    {
                                        "name": "Address"
                                    }
                                ]
                            },
                            "data": [
                                {
                                    "CustomerID": "1",
                                    "FirstName": "Гаррі",
                                    "LastName": "Поттер",
                                    "Email": "harry@example.com",
                                    "Phone": "+380123456789",
                                    "Address": "4 Привідна вулиця, Лондон"
                                },
                                {
                                    "CustomerID": "2",
                                    "FirstName": "Герміона",
                                    "LastName": "Грейнджер",
                                    "Email": "hermione@example.com",
                                    "Phone": "+380987654321",
                                    "Address": "7 Дубова вулиця, Лондон"
                                },
                                {
                                    "CustomerID": "3",
                                    "FirstName": "Рон",
                                    "LastName": "Уізлі",
                                    "Email": "ron@example.com",
                                    "Phone": "+380567890123",
                                    "Address": "12 Бурхлива вулиця, Лондон"
                                },
                                {
                                    "CustomerID": "4",
                                    "FirstName": "Луна",
                                    "LastName": "Лавґуд",
                                    "Email": "luna@example.com",
                                    "Phone": "+3801111222333",
                                    "Address": "23 Дивовижна вулиця, Лондон"
                                }
                            ]
                        },
                        "text/html": [
                            "<table>",
                            "<tr><th>CustomerID</th><th>FirstName</th><th>LastName</th><th>Email</th><th>Phone</th><th>Address</th></tr>",
                            "<tr><td>1</td><td>Гаррі</td><td>Поттер</td><td>harry@example.com</td><td>+380123456789</td><td>4 Привідна вулиця, Лондон</td></tr>",
                            "<tr><td>2</td><td>Герміона</td><td>Грейнджер</td><td>hermione@example.com</td><td>+380987654321</td><td>7 Дубова вулиця, Лондон</td></tr>",
                            "<tr><td>3</td><td>Рон</td><td>Уізлі</td><td>ron@example.com</td><td>+380567890123</td><td>12 Бурхлива вулиця, Лондон</td></tr>",
                            "<tr><td>4</td><td>Луна</td><td>Лавґуд</td><td>luna@example.com</td><td>+3801111222333</td><td>23 Дивовижна вулиця, Лондон</td></tr>",
                            "</table>"
                        ]
                    }
                }
            ],
            "execution_count": 5
        },
        {
            "cell_type": "markdown",
            "source": [
                "<span style=\"background-color: transparent; color: rgb(67, 67, 67); font-family: georgia, times, &quot;times new roman&quot;, serif; font-size: 20px; white-space: break-spaces; caret-color: rgb(21, 21, 21);\">18. Виберіть вина, які мають ціну менше 30.00 або країну виробництва \"Франція\" та виведіть всі поля цих вин.</span>"
            ],
            "metadata": {
                "azdata_cell_guid": "760f6d9f-6bcb-4be8-898f-4aaadc2911f4"
            },
            "attachments": {}
        },
        {
            "cell_type": "code",
            "source": [
                "SELECT *\n",
                "FROM Wine\n",
                "WHERE Price < 30.00 OR Country = 'Франція'"
            ],
            "metadata": {
                "azdata_cell_guid": "dfe424c0-20ac-4e3f-b57c-a5ba8ab3ffe4",
                "language": "sql"
            },
            "outputs": [
                {
                    "output_type": "display_data",
                    "data": {
                        "text/html": "(Затронуто строк: 2)"
                    },
                    "metadata": {}
                },
                {
                    "output_type": "display_data",
                    "data": {
                        "text/html": "Общее время выполнения: 00:00:00.062"
                    },
                    "metadata": {}
                },
                {
                    "output_type": "execute_result",
                    "metadata": {},
                    "execution_count": 6,
                    "data": {
                        "application/vnd.dataresource+json": {
                            "schema": {
                                "fields": [
                                    {
                                        "name": "ID"
                                    },
                                    {
                                        "name": "Name"
                                    },
                                    {
                                        "name": "Description"
                                    },
                                    {
                                        "name": "Type"
                                    },
                                    {
                                        "name": "Country"
                                    },
                                    {
                                        "name": "Price"
                                    }
                                ]
                            },
                            "data": [
                                {
                                    "ID": "1",
                                    "Name": "Chateau Margaux",
                                    "Description": "Червоне вино класу Grand Cru",
                                    "Type": "Червоне",
                                    "Country": "Франція",
                                    "Price": "500.00"
                                },
                                {
                                    "ID": "3",
                                    "Name": "Prosecco Extra Dry",
                                    "Description": "Італійське ігристе вино",
                                    "Type": "Ігристе",
                                    "Country": "Італія",
                                    "Price": "25.00"
                                }
                            ]
                        },
                        "text/html": [
                            "<table>",
                            "<tr><th>ID</th><th>Name</th><th>Description</th><th>Type</th><th>Country</th><th>Price</th></tr>",
                            "<tr><td>1</td><td>Chateau Margaux</td><td>Червоне вино класу Grand Cru</td><td>Червоне</td><td>Франція</td><td>500.00</td></tr>",
                            "<tr><td>3</td><td>Prosecco Extra Dry</td><td>Італійське ігристе вино</td><td>Ігристе</td><td>Італія</td><td>25.00</td></tr>",
                            "</table>"
                        ]
                    }
                }
            ],
            "execution_count": 6
        },
        {
            "cell_type": "markdown",
            "source": [
                "## <span style=\"box-sizing: border-box; --tw-border-spacing-x: 0; --tw-border-spacing-y: 0; --tw-translate-x: 0; --tw-translate-y: 0; --tw-rotate: 0; --tw-skew-x: 0; --tw-skew-y: 0; --tw-scale-x: 1; --tw-scale-y: 1; --tw-pan-x: ; --tw-pan-y: ; --tw-pinch-zoom: ; --tw-scroll-snap-strictness: proximity; --tw-ordinal: ; --tw-slashed-zero: ; --tw-numeric-figure: ; --tw-numeric-spacing: ; --tw-numeric-fraction: ; --tw-ring-inset: ; --tw-ring-offset-width: 0px; --tw-ring-offset-color: #fff; --tw-ring-color: #3b82f680; --tw-ring-offset-shadow: 0 0 #0000; --tw-ring-shadow: 0 0 #0000; --tw-shadow: 0 0 #0000; --tw-shadow-colored: 0 0 #0000; --tw-blur: ; --tw-brightness: ; --tw-contrast: ; --tw-grayscale: ; --tw-hue-rotate: ; --tw-invert: ; --tw-saturate: ; --tw-sepia: ; --tw-drop-shadow: ; --tw-backdrop-blur: ; --tw-backdrop-brightness: ; --tw-backdrop-contrast: ; --tw-backdrop-grayscale: ; --tw-backdrop-hue-rotate: ; --tw-backdrop-invert: ; --tw-backdrop-opacity: ; --tw-backdrop-saturate: ; --tw-backdrop-sepia: ; margin: 0px; padding: 0px; border: 0px; font-size: 23px; vertical-align: baseline; max-width: 100%; font-family: georgia, times, &quot;times new roman&quot;, serif; background-color: transparent; color: rgb(0, 0, 0);\">Завдання 3</span>\n",
                "\n",
                "<span style=\"box-sizing: border-box; --tw-border-spacing-x: 0; --tw-border-spacing-y: 0; --tw-translate-x: 0; --tw-translate-y: 0; --tw-rotate: 0; --tw-skew-x: 0; --tw-skew-y: 0; --tw-scale-x: 1; --tw-scale-y: 1; --tw-pan-x: ; --tw-pan-y: ; --tw-pinch-zoom: ; --tw-scroll-snap-strictness: proximity; --tw-ordinal: ; --tw-slashed-zero: ; --tw-numeric-figure: ; --tw-numeric-spacing: ; --tw-numeric-fraction: ; --tw-ring-inset: ; --tw-ring-offset-width: 0px; --tw-ring-offset-color: #fff; --tw-ring-color: #3b82f680; --tw-ring-offset-shadow: 0 0 #0000; --tw-ring-shadow: 0 0 #0000; --tw-shadow: 0 0 #0000; --tw-shadow-colored: 0 0 #0000; --tw-blur: ; --tw-brightness: ; --tw-contrast: ; --tw-grayscale: ; --tw-hue-rotate: ; --tw-invert: ; --tw-saturate: ; --tw-sepia: ; --tw-drop-shadow: ; --tw-backdrop-blur: ; --tw-backdrop-brightness: ; --tw-backdrop-contrast: ; --tw-backdrop-grayscale: ; --tw-backdrop-hue-rotate: ; --tw-backdrop-invert: ; --tw-backdrop-opacity: ; --tw-backdrop-saturate: ; --tw-backdrop-sepia: ; margin: 0px; padding: 0px; border: 0px; font-size: 20px; vertical-align: baseline; max-width: 100%; font-family: georgia, times, &quot;times new roman&quot;, serif; background-color: transparent; color: rgb(67, 67, 67);\">Блок завдань на роботу із датами.</span>"
            ],
            "metadata": {
                "language": "sql",
                "azdata_cell_guid": "f64b04b5-2b6d-4bee-8036-fd4ce82d5b1c"
            },
            "attachments": {}
        },
        {
            "cell_type": "markdown",
            "source": [
                "<span style=\"background-color: transparent; color: rgb(67, 67, 67); font-family: georgia, times, &quot;times new roman&quot;, serif; font-size: 20px; white-space: break-spaces; caret-color: rgb(21, 21, 21);\">19. Виберіть всі записи з таблиці \"Sales\" з датами продажу після 2023-09-15 та виведіть всі поля цих записів.</span>"
            ],
            "metadata": {
                "language": "sql",
                "azdata_cell_guid": "e3e35bb9-06d7-4692-a8e6-30a0c462a511"
            },
            "attachments": {}
        },
        {
            "cell_type": "code",
            "source": [
                "SELECT *\n",
                "FROM Sales\n",
                "WHERE SaleDate > '2023-09-15'"
            ],
            "metadata": {
                "language": "sql",
                "azdata_cell_guid": "4a645583-e4f2-4885-9dd5-e159badb5475"
            },
            "outputs": [
                {
                    "output_type": "display_data",
                    "data": {
                        "text/html": "(Затронуто строк: 20)"
                    },
                    "metadata": {}
                },
                {
                    "output_type": "display_data",
                    "data": {
                        "text/html": "Общее время выполнения: 00:00:00.062"
                    },
                    "metadata": {}
                },
                {
                    "output_type": "execute_result",
                    "metadata": {},
                    "execution_count": 155,
                    "data": {
                        "application/vnd.dataresource+json": {
                            "schema": {
                                "fields": [
                                    {
                                        "name": "SaleID"
                                    },
                                    {
                                        "name": "WineID"
                                    },
                                    {
                                        "name": "SaleDate"
                                    },
                                    {
                                        "name": "QuantitySold"
                                    },
                                    {
                                        "name": "TotalAmount"
                                    },
                                    {
                                        "name": "CustomerID"
                                    }
                                ]
                            },
                            "data": [
                                {
                                    "SaleID": "6",
                                    "WineID": "3",
                                    "SaleDate": "2023-09-20",
                                    "QuantitySold": "2",
                                    "TotalAmount": "50.00",
                                    "CustomerID": "1"
                                },
                                {
                                    "SaleID": "7",
                                    "WineID": "1",
                                    "SaleDate": "2023-09-21",
                                    "QuantitySold": "3",
                                    "TotalAmount": "150.00",
                                    "CustomerID": "2"
                                },
                                {
                                    "SaleID": "8",
                                    "WineID": "2",
                                    "SaleDate": "2023-09-22",
                                    "QuantitySold": "4",
                                    "TotalAmount": "180.00",
                                    "CustomerID": "3"
                                },
                                {
                                    "SaleID": "9",
                                    "WineID": "4",
                                    "SaleDate": "2023-09-23",
                                    "QuantitySold": "1",
                                    "TotalAmount": "30.00",
                                    "CustomerID": "4"
                                },
                                {
                                    "SaleID": "10",
                                    "WineID": "5",
                                    "SaleDate": "2023-09-24",
                                    "QuantitySold": "5",
                                    "TotalAmount": "200.00",
                                    "CustomerID": "5"
                                },
                                {
                                    "SaleID": "11",
                                    "WineID": "3",
                                    "SaleDate": "2023-09-25",
                                    "QuantitySold": "2",
                                    "TotalAmount": "50.00",
                                    "CustomerID": "1"
                                },
                                {
                                    "SaleID": "12",
                                    "WineID": "1",
                                    "SaleDate": "2023-09-26",
                                    "QuantitySold": "3",
                                    "TotalAmount": "150.00",
                                    "CustomerID": "2"
                                },
                                {
                                    "SaleID": "13",
                                    "WineID": "2",
                                    "SaleDate": "2023-09-27",
                                    "QuantitySold": "4",
                                    "TotalAmount": "180.00",
                                    "CustomerID": "3"
                                },
                                {
                                    "SaleID": "14",
                                    "WineID": "4",
                                    "SaleDate": "2023-09-28",
                                    "QuantitySold": "1",
                                    "TotalAmount": "30.00",
                                    "CustomerID": "4"
                                },
                                {
                                    "SaleID": "15",
                                    "WineID": "5",
                                    "SaleDate": "2023-09-29",
                                    "QuantitySold": "5",
                                    "TotalAmount": "200.00",
                                    "CustomerID": "5"
                                },
                                {
                                    "SaleID": "16",
                                    "WineID": "3",
                                    "SaleDate": "2023-09-30",
                                    "QuantitySold": "2",
                                    "TotalAmount": "50.00",
                                    "CustomerID": "1"
                                },
                                {
                                    "SaleID": "17",
                                    "WineID": "1",
                                    "SaleDate": "2023-10-01",
                                    "QuantitySold": "3",
                                    "TotalAmount": "150.00",
                                    "CustomerID": "2"
                                },
                                {
                                    "SaleID": "18",
                                    "WineID": "2",
                                    "SaleDate": "2023-10-02",
                                    "QuantitySold": "4",
                                    "TotalAmount": "180.00",
                                    "CustomerID": "3"
                                },
                                {
                                    "SaleID": "19",
                                    "WineID": "4",
                                    "SaleDate": "2023-10-03",
                                    "QuantitySold": "1",
                                    "TotalAmount": "30.00",
                                    "CustomerID": "4"
                                },
                                {
                                    "SaleID": "20",
                                    "WineID": "5",
                                    "SaleDate": "2023-10-04",
                                    "QuantitySold": "5",
                                    "TotalAmount": "200.00",
                                    "CustomerID": "5"
                                },
                                {
                                    "SaleID": "21",
                                    "WineID": "3",
                                    "SaleDate": "2023-10-05",
                                    "QuantitySold": "2",
                                    "TotalAmount": "50.00",
                                    "CustomerID": "1"
                                },
                                {
                                    "SaleID": "22",
                                    "WineID": "1",
                                    "SaleDate": "2023-10-06",
                                    "QuantitySold": "3",
                                    "TotalAmount": "150.00",
                                    "CustomerID": "2"
                                },
                                {
                                    "SaleID": "23",
                                    "WineID": "2",
                                    "SaleDate": "2023-10-07",
                                    "QuantitySold": "4",
                                    "TotalAmount": "180.00",
                                    "CustomerID": "3"
                                },
                                {
                                    "SaleID": "24",
                                    "WineID": "4",
                                    "SaleDate": "2023-10-08",
                                    "QuantitySold": "1",
                                    "TotalAmount": "30.00",
                                    "CustomerID": "4"
                                },
                                {
                                    "SaleID": "25",
                                    "WineID": "5",
                                    "SaleDate": "2023-10-09",
                                    "QuantitySold": "5",
                                    "TotalAmount": "200.00",
                                    "CustomerID": "5"
                                }
                            ]
                        },
                        "text/html": [
                            "<table>",
                            "<tr><th>SaleID</th><th>WineID</th><th>SaleDate</th><th>QuantitySold</th><th>TotalAmount</th><th>CustomerID</th></tr>",
                            "<tr><td>6</td><td>3</td><td>2023-09-20</td><td>2</td><td>50.00</td><td>1</td></tr>",
                            "<tr><td>7</td><td>1</td><td>2023-09-21</td><td>3</td><td>150.00</td><td>2</td></tr>",
                            "<tr><td>8</td><td>2</td><td>2023-09-22</td><td>4</td><td>180.00</td><td>3</td></tr>",
                            "<tr><td>9</td><td>4</td><td>2023-09-23</td><td>1</td><td>30.00</td><td>4</td></tr>",
                            "<tr><td>10</td><td>5</td><td>2023-09-24</td><td>5</td><td>200.00</td><td>5</td></tr>",
                            "<tr><td>11</td><td>3</td><td>2023-09-25</td><td>2</td><td>50.00</td><td>1</td></tr>",
                            "<tr><td>12</td><td>1</td><td>2023-09-26</td><td>3</td><td>150.00</td><td>2</td></tr>",
                            "<tr><td>13</td><td>2</td><td>2023-09-27</td><td>4</td><td>180.00</td><td>3</td></tr>",
                            "<tr><td>14</td><td>4</td><td>2023-09-28</td><td>1</td><td>30.00</td><td>4</td></tr>",
                            "<tr><td>15</td><td>5</td><td>2023-09-29</td><td>5</td><td>200.00</td><td>5</td></tr>",
                            "<tr><td>16</td><td>3</td><td>2023-09-30</td><td>2</td><td>50.00</td><td>1</td></tr>",
                            "<tr><td>17</td><td>1</td><td>2023-10-01</td><td>3</td><td>150.00</td><td>2</td></tr>",
                            "<tr><td>18</td><td>2</td><td>2023-10-02</td><td>4</td><td>180.00</td><td>3</td></tr>",
                            "<tr><td>19</td><td>4</td><td>2023-10-03</td><td>1</td><td>30.00</td><td>4</td></tr>",
                            "<tr><td>20</td><td>5</td><td>2023-10-04</td><td>5</td><td>200.00</td><td>5</td></tr>",
                            "<tr><td>21</td><td>3</td><td>2023-10-05</td><td>2</td><td>50.00</td><td>1</td></tr>",
                            "<tr><td>22</td><td>1</td><td>2023-10-06</td><td>3</td><td>150.00</td><td>2</td></tr>",
                            "<tr><td>23</td><td>2</td><td>2023-10-07</td><td>4</td><td>180.00</td><td>3</td></tr>",
                            "<tr><td>24</td><td>4</td><td>2023-10-08</td><td>1</td><td>30.00</td><td>4</td></tr>",
                            "<tr><td>25</td><td>5</td><td>2023-10-09</td><td>5</td><td>200.00</td><td>5</td></tr>",
                            "</table>"
                        ]
                    }
                }
            ],
            "execution_count": 155
        },
        {
            "cell_type": "markdown",
            "source": [
                "<span style=\"background-color: transparent; color: rgb(67, 67, 67); font-family: georgia, times, &quot;times new roman&quot;, serif; font-size: 20px; white-space: break-spaces; caret-color: rgb(21, 21, 21);\">20. Виберіть продажі, які відбулися від 2023-09-01 до 2023-09-15 та виведіть всі поля цих продажів.</span>"
            ],
            "metadata": {
                "language": "sql",
                "azdata_cell_guid": "687b5fa3-2f32-4ad1-8733-b4fad1187c58"
            },
            "attachments": {}
        },
        {
            "cell_type": "code",
            "source": [
                "SELECT *\n",
                "FROM Sales\n",
                "WHERE SaleDate BETWEEN '2023-09-01' AND '2023-09-15'"
            ],
            "metadata": {
                "azdata_cell_guid": "71e1df7d-3e09-4ee2-8d76-d5c5bdb77044",
                "language": "sql"
            },
            "outputs": [
                {
                    "output_type": "display_data",
                    "data": {
                        "text/html": "(Затронуто строк: 0)"
                    },
                    "metadata": {}
                },
                {
                    "output_type": "display_data",
                    "data": {
                        "text/html": "Общее время выполнения: 00:00:00.051"
                    },
                    "metadata": {}
                },
                {
                    "output_type": "execute_result",
                    "metadata": {},
                    "execution_count": 11,
                    "data": {
                        "application/vnd.dataresource+json": {
                            "schema": {
                                "fields": [
                                    {
                                        "name": "SaleID"
                                    },
                                    {
                                        "name": "WineID"
                                    },
                                    {
                                        "name": "SaleDate"
                                    },
                                    {
                                        "name": "QuantitySold"
                                    },
                                    {
                                        "name": "TotalAmount"
                                    },
                                    {
                                        "name": "CustomerID"
                                    }
                                ]
                            },
                            "data": []
                        },
                        "text/html": [
                            "<table>",
                            "<tr><th>SaleID</th><th>WineID</th><th>SaleDate</th><th>QuantitySold</th><th>TotalAmount</th><th>CustomerID</th></tr>",
                            "</table>"
                        ]
                    }
                }
            ],
            "execution_count": 11
        },
        {
            "cell_type": "markdown",
            "source": [
                "<span style=\"background-color: transparent; color: rgb(67, 67, 67); font-family: georgia, times, &quot;times new roman&quot;, serif; font-size: 20px; white-space: break-spaces; caret-color: rgb(21, 21, 21);\">21. Запит на вибірку всіх продажів, які відбулися в минулому місяці. Для цього скористайтеся відповідними умовами дат та виведіть всі поля цих продажів.</span>"
            ],
            "metadata": {
                "azdata_cell_guid": "ffc1b7fe-0d56-42f8-8150-6e34671ff677"
            },
            "attachments": {}
        },
        {
            "cell_type": "code",
            "source": [
                "SELECT *\n",
                "FROM Sales\n",
                "WHERE SaleDate LIKE '2023-10%'"
            ],
            "metadata": {
                "azdata_cell_guid": "d6ef036b-01c9-42e4-96c6-e9802ba94b16",
                "language": "sql"
            },
            "outputs": [
                {
                    "output_type": "display_data",
                    "data": {
                        "text/html": "(Затронуто строк: 9)"
                    },
                    "metadata": {}
                },
                {
                    "output_type": "display_data",
                    "data": {
                        "text/html": "Общее время выполнения: 00:00:00.069"
                    },
                    "metadata": {}
                },
                {
                    "output_type": "execute_result",
                    "metadata": {},
                    "execution_count": 153,
                    "data": {
                        "application/vnd.dataresource+json": {
                            "schema": {
                                "fields": [
                                    {
                                        "name": "SaleID"
                                    },
                                    {
                                        "name": "WineID"
                                    },
                                    {
                                        "name": "SaleDate"
                                    },
                                    {
                                        "name": "QuantitySold"
                                    },
                                    {
                                        "name": "TotalAmount"
                                    },
                                    {
                                        "name": "CustomerID"
                                    }
                                ]
                            },
                            "data": [
                                {
                                    "SaleID": "17",
                                    "WineID": "1",
                                    "SaleDate": "2023-10-01",
                                    "QuantitySold": "3",
                                    "TotalAmount": "150.00",
                                    "CustomerID": "2"
                                },
                                {
                                    "SaleID": "18",
                                    "WineID": "2",
                                    "SaleDate": "2023-10-02",
                                    "QuantitySold": "4",
                                    "TotalAmount": "180.00",
                                    "CustomerID": "3"
                                },
                                {
                                    "SaleID": "19",
                                    "WineID": "4",
                                    "SaleDate": "2023-10-03",
                                    "QuantitySold": "1",
                                    "TotalAmount": "30.00",
                                    "CustomerID": "4"
                                },
                                {
                                    "SaleID": "20",
                                    "WineID": "5",
                                    "SaleDate": "2023-10-04",
                                    "QuantitySold": "5",
                                    "TotalAmount": "200.00",
                                    "CustomerID": "5"
                                },
                                {
                                    "SaleID": "21",
                                    "WineID": "3",
                                    "SaleDate": "2023-10-05",
                                    "QuantitySold": "2",
                                    "TotalAmount": "50.00",
                                    "CustomerID": "1"
                                },
                                {
                                    "SaleID": "22",
                                    "WineID": "1",
                                    "SaleDate": "2023-10-06",
                                    "QuantitySold": "3",
                                    "TotalAmount": "150.00",
                                    "CustomerID": "2"
                                },
                                {
                                    "SaleID": "23",
                                    "WineID": "2",
                                    "SaleDate": "2023-10-07",
                                    "QuantitySold": "4",
                                    "TotalAmount": "180.00",
                                    "CustomerID": "3"
                                },
                                {
                                    "SaleID": "24",
                                    "WineID": "4",
                                    "SaleDate": "2023-10-08",
                                    "QuantitySold": "1",
                                    "TotalAmount": "30.00",
                                    "CustomerID": "4"
                                },
                                {
                                    "SaleID": "25",
                                    "WineID": "5",
                                    "SaleDate": "2023-10-09",
                                    "QuantitySold": "5",
                                    "TotalAmount": "200.00",
                                    "CustomerID": "5"
                                }
                            ]
                        },
                        "text/html": [
                            "<table>",
                            "<tr><th>SaleID</th><th>WineID</th><th>SaleDate</th><th>QuantitySold</th><th>TotalAmount</th><th>CustomerID</th></tr>",
                            "<tr><td>17</td><td>1</td><td>2023-10-01</td><td>3</td><td>150.00</td><td>2</td></tr>",
                            "<tr><td>18</td><td>2</td><td>2023-10-02</td><td>4</td><td>180.00</td><td>3</td></tr>",
                            "<tr><td>19</td><td>4</td><td>2023-10-03</td><td>1</td><td>30.00</td><td>4</td></tr>",
                            "<tr><td>20</td><td>5</td><td>2023-10-04</td><td>5</td><td>200.00</td><td>5</td></tr>",
                            "<tr><td>21</td><td>3</td><td>2023-10-05</td><td>2</td><td>50.00</td><td>1</td></tr>",
                            "<tr><td>22</td><td>1</td><td>2023-10-06</td><td>3</td><td>150.00</td><td>2</td></tr>",
                            "<tr><td>23</td><td>2</td><td>2023-10-07</td><td>4</td><td>180.00</td><td>3</td></tr>",
                            "<tr><td>24</td><td>4</td><td>2023-10-08</td><td>1</td><td>30.00</td><td>4</td></tr>",
                            "<tr><td>25</td><td>5</td><td>2023-10-09</td><td>5</td><td>200.00</td><td>5</td></tr>",
                            "</table>"
                        ]
                    }
                }
            ],
            "execution_count": 153
        },
        {
            "cell_type": "markdown",
            "source": [
                "<span style=\"background-color: transparent; color: rgb(67, 67, 67); font-family: georgia, times, &quot;times new roman&quot;, serif; font-size: 20px; white-space: break-spaces; caret-color: rgb(21, 21, 21);\">22. Запит на вибірку всіх продажів, які відбулися в останні 7 днів. Використовуйте поточну дату та відповідні умови дат для вибору продажів і виведіть всі поля цих продажів.</span>"
            ],
            "metadata": {
                "azdata_cell_guid": "5a66586e-f462-474a-80dd-0e20dbe8c60f"
            },
            "attachments": {}
        },
        {
            "cell_type": "code",
            "source": [
                "SELECT *\n",
                "FROM Sales\n",
                "WHERE SaleDate >= DATEADD(DAY, -7, GETDATE())"
            ],
            "metadata": {
                "azdata_cell_guid": "67756355-acc1-4d29-988b-074022bffeba",
                "language": "sql"
            },
            "outputs": [
                {
                    "output_type": "display_data",
                    "data": {
                        "text/html": "(Затронуто строк: 0)"
                    },
                    "metadata": {}
                },
                {
                    "output_type": "display_data",
                    "data": {
                        "text/html": "Общее время выполнения: 00:00:00.063"
                    },
                    "metadata": {}
                },
                {
                    "output_type": "execute_result",
                    "metadata": {},
                    "execution_count": 17,
                    "data": {
                        "application/vnd.dataresource+json": {
                            "schema": {
                                "fields": [
                                    {
                                        "name": "SaleID"
                                    },
                                    {
                                        "name": "WineID"
                                    },
                                    {
                                        "name": "SaleDate"
                                    },
                                    {
                                        "name": "QuantitySold"
                                    },
                                    {
                                        "name": "TotalAmount"
                                    },
                                    {
                                        "name": "CustomerID"
                                    }
                                ]
                            },
                            "data": []
                        },
                        "text/html": [
                            "<table>",
                            "<tr><th>SaleID</th><th>WineID</th><th>SaleDate</th><th>QuantitySold</th><th>TotalAmount</th><th>CustomerID</th></tr>",
                            "</table>"
                        ]
                    }
                }
            ],
            "execution_count": 17
        },
        {
            "cell_type": "markdown",
            "source": [
                "<span style=\"background-color: transparent; color: rgb(67, 67, 67); font-family: georgia, times, &quot;times new roman&quot;, serif; font-size: 20px; white-space: break-spaces; caret-color: rgb(21, 21, 21);\">23. Запит на вибірку всіх продажів, які відбулися в поточному кварталі. Використайте відповідні умови дат для вибору продажів і виведіть всі поля цих продажів.</span>"
            ],
            "metadata": {
                "azdata_cell_guid": "522c2e01-cba9-4efe-b027-5af7132acf56"
            },
            "attachments": {}
        },
        {
            "cell_type": "code",
            "source": [
                "SELECT *\n",
                "FROM Sales\n",
                "WHERE DATEPART(QUARTER, SaleDate) = DATEPART(QUARTER, GETDATE()) "
            ],
            "metadata": {
                "azdata_cell_guid": "b8f51b1f-1968-49b4-80c6-dc9ad7b0c9d7",
                "language": "sql"
            },
            "outputs": [
                {
                    "output_type": "display_data",
                    "data": {
                        "text/html": "(Затронуто строк: 9)"
                    },
                    "metadata": {}
                },
                {
                    "output_type": "display_data",
                    "data": {
                        "text/html": "Общее время выполнения: 00:00:00.065"
                    },
                    "metadata": {}
                },
                {
                    "output_type": "execute_result",
                    "metadata": {},
                    "execution_count": 150,
                    "data": {
                        "application/vnd.dataresource+json": {
                            "schema": {
                                "fields": [
                                    {
                                        "name": "SaleID"
                                    },
                                    {
                                        "name": "WineID"
                                    },
                                    {
                                        "name": "SaleDate"
                                    },
                                    {
                                        "name": "QuantitySold"
                                    },
                                    {
                                        "name": "TotalAmount"
                                    },
                                    {
                                        "name": "CustomerID"
                                    }
                                ]
                            },
                            "data": [
                                {
                                    "SaleID": "17",
                                    "WineID": "1",
                                    "SaleDate": "2023-10-01",
                                    "QuantitySold": "3",
                                    "TotalAmount": "150.00",
                                    "CustomerID": "2"
                                },
                                {
                                    "SaleID": "18",
                                    "WineID": "2",
                                    "SaleDate": "2023-10-02",
                                    "QuantitySold": "4",
                                    "TotalAmount": "180.00",
                                    "CustomerID": "3"
                                },
                                {
                                    "SaleID": "19",
                                    "WineID": "4",
                                    "SaleDate": "2023-10-03",
                                    "QuantitySold": "1",
                                    "TotalAmount": "30.00",
                                    "CustomerID": "4"
                                },
                                {
                                    "SaleID": "20",
                                    "WineID": "5",
                                    "SaleDate": "2023-10-04",
                                    "QuantitySold": "5",
                                    "TotalAmount": "200.00",
                                    "CustomerID": "5"
                                },
                                {
                                    "SaleID": "21",
                                    "WineID": "3",
                                    "SaleDate": "2023-10-05",
                                    "QuantitySold": "2",
                                    "TotalAmount": "50.00",
                                    "CustomerID": "1"
                                },
                                {
                                    "SaleID": "22",
                                    "WineID": "1",
                                    "SaleDate": "2023-10-06",
                                    "QuantitySold": "3",
                                    "TotalAmount": "150.00",
                                    "CustomerID": "2"
                                },
                                {
                                    "SaleID": "23",
                                    "WineID": "2",
                                    "SaleDate": "2023-10-07",
                                    "QuantitySold": "4",
                                    "TotalAmount": "180.00",
                                    "CustomerID": "3"
                                },
                                {
                                    "SaleID": "24",
                                    "WineID": "4",
                                    "SaleDate": "2023-10-08",
                                    "QuantitySold": "1",
                                    "TotalAmount": "30.00",
                                    "CustomerID": "4"
                                },
                                {
                                    "SaleID": "25",
                                    "WineID": "5",
                                    "SaleDate": "2023-10-09",
                                    "QuantitySold": "5",
                                    "TotalAmount": "200.00",
                                    "CustomerID": "5"
                                }
                            ]
                        },
                        "text/html": [
                            "<table>",
                            "<tr><th>SaleID</th><th>WineID</th><th>SaleDate</th><th>QuantitySold</th><th>TotalAmount</th><th>CustomerID</th></tr>",
                            "<tr><td>17</td><td>1</td><td>2023-10-01</td><td>3</td><td>150.00</td><td>2</td></tr>",
                            "<tr><td>18</td><td>2</td><td>2023-10-02</td><td>4</td><td>180.00</td><td>3</td></tr>",
                            "<tr><td>19</td><td>4</td><td>2023-10-03</td><td>1</td><td>30.00</td><td>4</td></tr>",
                            "<tr><td>20</td><td>5</td><td>2023-10-04</td><td>5</td><td>200.00</td><td>5</td></tr>",
                            "<tr><td>21</td><td>3</td><td>2023-10-05</td><td>2</td><td>50.00</td><td>1</td></tr>",
                            "<tr><td>22</td><td>1</td><td>2023-10-06</td><td>3</td><td>150.00</td><td>2</td></tr>",
                            "<tr><td>23</td><td>2</td><td>2023-10-07</td><td>4</td><td>180.00</td><td>3</td></tr>",
                            "<tr><td>24</td><td>4</td><td>2023-10-08</td><td>1</td><td>30.00</td><td>4</td></tr>",
                            "<tr><td>25</td><td>5</td><td>2023-10-09</td><td>5</td><td>200.00</td><td>5</td></tr>",
                            "</table>"
                        ]
                    }
                }
            ],
            "execution_count": 150
        },
        {
            "cell_type": "markdown",
            "source": [
                "## <span style=\"box-sizing: border-box; --tw-border-spacing-x: 0; --tw-border-spacing-y: 0; --tw-translate-x: 0; --tw-translate-y: 0; --tw-rotate: 0; --tw-skew-x: 0; --tw-skew-y: 0; --tw-scale-x: 1; --tw-scale-y: 1; --tw-pan-x: ; --tw-pan-y: ; --tw-pinch-zoom: ; --tw-scroll-snap-strictness: proximity; --tw-ordinal: ; --tw-slashed-zero: ; --tw-numeric-figure: ; --tw-numeric-spacing: ; --tw-numeric-fraction: ; --tw-ring-inset: ; --tw-ring-offset-width: 0px; --tw-ring-offset-color: #fff; --tw-ring-color: #3b82f680; --tw-ring-offset-shadow: 0 0 #0000; --tw-ring-shadow: 0 0 #0000; --tw-shadow: 0 0 #0000; --tw-shadow-colored: 0 0 #0000; --tw-blur: ; --tw-brightness: ; --tw-contrast: ; --tw-grayscale: ; --tw-hue-rotate: ; --tw-invert: ; --tw-saturate: ; --tw-sepia: ; --tw-drop-shadow: ; --tw-backdrop-blur: ; --tw-backdrop-brightness: ; --tw-backdrop-contrast: ; --tw-backdrop-grayscale: ; --tw-backdrop-hue-rotate: ; --tw-backdrop-invert: ; --tw-backdrop-opacity: ; --tw-backdrop-saturate: ; --tw-backdrop-sepia: ; margin: 0px; padding: 0px; border: 0px; font-size: 23px; vertical-align: baseline; max-width: 100%; font-family: georgia, times, &quot;times new roman&quot;, serif; background-color: transparent; color: rgb(0, 0, 0);\">Завдання 4</span>\n",
                "\n",
                "<span style=\"box-sizing: border-box; --tw-border-spacing-x: 0; --tw-border-spacing-y: 0; --tw-translate-x: 0; --tw-translate-y: 0; --tw-rotate: 0; --tw-skew-x: 0; --tw-skew-y: 0; --tw-scale-x: 1; --tw-scale-y: 1; --tw-pan-x: ; --tw-pan-y: ; --tw-pinch-zoom: ; --tw-scroll-snap-strictness: proximity; --tw-ordinal: ; --tw-slashed-zero: ; --tw-numeric-figure: ; --tw-numeric-spacing: ; --tw-numeric-fraction: ; --tw-ring-inset: ; --tw-ring-offset-width: 0px; --tw-ring-offset-color: #fff; --tw-ring-color: #3b82f680; --tw-ring-offset-shadow: 0 0 #0000; --tw-ring-shadow: 0 0 #0000; --tw-shadow: 0 0 #0000; --tw-shadow-colored: 0 0 #0000; --tw-blur: ; --tw-brightness: ; --tw-contrast: ; --tw-grayscale: ; --tw-hue-rotate: ; --tw-invert: ; --tw-saturate: ; --tw-sepia: ; --tw-drop-shadow: ; --tw-backdrop-blur: ; --tw-backdrop-brightness: ; --tw-backdrop-contrast: ; --tw-backdrop-grayscale: ; --tw-backdrop-hue-rotate: ; --tw-backdrop-invert: ; --tw-backdrop-opacity: ; --tw-backdrop-saturate: ; --tw-backdrop-sepia: ; margin: 0px; padding: 0px; border: 0px; font-size: 20px; vertical-align: baseline; max-width: 100%; font-family: georgia, times, &quot;times new roman&quot;, serif; background-color: transparent; color: rgb(67, 67, 67);\">Блок завдань на роботу з агрегованими даними.</span>"
            ],
            "metadata": {
                "azdata_cell_guid": "0835f4fe-1079-4fa0-ab9d-ad683d01a923"
            },
            "attachments": {}
        },
        {
            "cell_type": "markdown",
            "source": [
                "<span style=\"background-color: transparent; color: rgb(67, 67, 67); font-family: georgia, times, &quot;times new roman&quot;, serif; font-size: 20px; white-space: break-spaces; caret-color: rgb(21, 21, 21);\">24. Знайдіть кількість закупок для кожного клієнта та впорядкуйте результат в порядку спадання. Виведіть ім'я клієнта та кількість їхніх закупок.</span>"
            ],
            "metadata": {
                "azdata_cell_guid": "ab74b368-f6fa-4afb-bcab-6eac76f546dc"
            },
            "attachments": {}
        },
        {
            "cell_type": "code",
            "source": [
                "SELECT Customers.FirstName, Customers.LastName, SUM(Sales.QuantitySold) AS PurchaseCount\n",
                "FROM Customers\n",
                "JOIN Sales ON Customers.CustomerID = Sales.CustomerID\n",
                "GROUP BY Customers.FirstName, Customers.LastName, Sales.QuantitySold\n",
                "ORDER BY PurchaseCount DESC"
            ],
            "metadata": {
                "azdata_cell_guid": "c268a014-ee67-4919-8da5-a837dce9aa07",
                "language": "sql",
                "tags": []
            },
            "outputs": [
                {
                    "output_type": "display_data",
                    "data": {
                        "text/html": "(Затронуто строк: 5)"
                    },
                    "metadata": {}
                },
                {
                    "output_type": "display_data",
                    "data": {
                        "text/html": "Общее время выполнения: 00:00:00.063"
                    },
                    "metadata": {}
                },
                {
                    "output_type": "execute_result",
                    "metadata": {},
                    "execution_count": 145,
                    "data": {
                        "application/vnd.dataresource+json": {
                            "schema": {
                                "fields": [
                                    {
                                        "name": "FirstName"
                                    },
                                    {
                                        "name": "LastName"
                                    },
                                    {
                                        "name": "PurchaseCount"
                                    }
                                ]
                            },
                            "data": [
                                {
                                    "FirstName": "Сіріус",
                                    "LastName": "Блек",
                                    "PurchaseCount": "20"
                                },
                                {
                                    "FirstName": "Рон",
                                    "LastName": "Уізлі",
                                    "PurchaseCount": "16"
                                },
                                {
                                    "FirstName": "Герміона",
                                    "LastName": "Грейнджер",
                                    "PurchaseCount": "12"
                                },
                                {
                                    "FirstName": "Гаррі",
                                    "LastName": "Поттер",
                                    "PurchaseCount": "8"
                                },
                                {
                                    "FirstName": "Луна",
                                    "LastName": "Лавґуд",
                                    "PurchaseCount": "4"
                                }
                            ]
                        },
                        "text/html": [
                            "<table>",
                            "<tr><th>FirstName</th><th>LastName</th><th>PurchaseCount</th></tr>",
                            "<tr><td>Сіріус</td><td>Блек</td><td>20</td></tr>",
                            "<tr><td>Рон</td><td>Уізлі</td><td>16</td></tr>",
                            "<tr><td>Герміона</td><td>Грейнджер</td><td>12</td></tr>",
                            "<tr><td>Гаррі</td><td>Поттер</td><td>8</td></tr>",
                            "<tr><td>Луна</td><td>Лавґуд</td><td>4</td></tr>",
                            "</table>"
                        ]
                    }
                }
            ],
            "execution_count": 145
        },
        {
            "cell_type": "markdown",
            "source": [
                "<span style=\"background-color: transparent; color: rgb(67, 67, 67); font-family: georgia, times, &quot;times new roman&quot;, serif; font-size: 20px; white-space: break-spaces; caret-color: rgb(21, 21, 21);\">25. Підрахунок кількості записів клієнтів для кожного міста в адресі. Згрупуйте дані за містами та виведіть кількість клієнтів для кожного міста.</span>"
            ],
            "metadata": {
                "azdata_cell_guid": "a18e3992-a943-45d6-ac6e-b4144d9520fc"
            },
            "attachments": {}
        },
        {
            "cell_type": "code",
            "source": [
                "\n",
                "SELECT\n",
                "    SUBSTRING(Address, CHARINDEX(',', Address) + 2, LEN(Address)) AS City,\n",
                "    COUNT(*) AS CustomerCount\n",
                "FROM Customers\n",
                "GROUP BY SUBSTRING(Address, CHARINDEX(',', Address) + 2, LEN(Address))"
            ],
            "metadata": {
                "azdata_cell_guid": "9ebbe23a-54fa-4547-97b5-3652c5bf3ef9",
                "language": "sql"
            },
            "outputs": [
                {
                    "output_type": "display_data",
                    "data": {
                        "text/html": "(Затронута одна строка)"
                    },
                    "metadata": {}
                },
                {
                    "output_type": "display_data",
                    "data": {
                        "text/html": "Общее время выполнения: 00:00:00.055"
                    },
                    "metadata": {}
                },
                {
                    "output_type": "execute_result",
                    "metadata": {},
                    "execution_count": 113,
                    "data": {
                        "application/vnd.dataresource+json": {
                            "schema": {
                                "fields": [
                                    {
                                        "name": "City"
                                    },
                                    {
                                        "name": "CustomerCount"
                                    }
                                ]
                            },
                            "data": [
                                {
                                    "City": "Лондон",
                                    "CustomerCount": "5"
                                }
                            ]
                        },
                        "text/html": [
                            "<table>",
                            "<tr><th>City</th><th>CustomerCount</th></tr>",
                            "<tr><td>Лондон</td><td>5</td></tr>",
                            "</table>"
                        ]
                    }
                }
            ],
            "execution_count": 113
        },
        {
            "cell_type": "markdown",
            "source": [
                "<span style=\"background-color: transparent; color: rgb(67, 67, 67); font-family: georgia, times, &quot;times new roman&quot;, serif; font-size: 20px; white-space: break-spaces; caret-color: rgb(21, 21, 21);\">26. Середня ціна вина за кожною країною виробництва. Згрупуйте дані за країною виробництва та виведіть середню ціну для кожної країни.</span>"
            ],
            "metadata": {
                "azdata_cell_guid": "f02cce06-70d9-4d5a-9d7e-e7af4e6a515a"
            },
            "attachments": {}
        },
        {
            "cell_type": "code",
            "source": [
                "SELECT Country, AVG(Price) AS AvgPrice\n",
                "FROM Wine\n",
                "GROUP BY Country"
            ],
            "metadata": {
                "azdata_cell_guid": "f657b0ae-36d6-4406-87a4-f1a8c363d618",
                "language": "sql"
            },
            "outputs": [
                {
                    "output_type": "display_data",
                    "data": {
                        "text/html": "(Затронуто строк: 5)"
                    },
                    "metadata": {}
                },
                {
                    "output_type": "display_data",
                    "data": {
                        "text/html": "Общее время выполнения: 00:00:00.073"
                    },
                    "metadata": {}
                },
                {
                    "output_type": "execute_result",
                    "metadata": {},
                    "execution_count": 47,
                    "data": {
                        "application/vnd.dataresource+json": {
                            "schema": {
                                "fields": [
                                    {
                                        "name": "Country"
                                    },
                                    {
                                        "name": "AvgPrice"
                                    }
                                ]
                            },
                            "data": [
                                {
                                    "Country": "Іспанія",
                                    "AvgPrice": "30.000000"
                                },
                                {
                                    "Country": "Італія",
                                    "AvgPrice": "107.500000"
                                },
                                {
                                    "Country": "Нова Зеландія",
                                    "AvgPrice": "40.000000"
                                },
                                {
                                    "Country": "США",
                                    "AvgPrice": "45.000000"
                                },
                                {
                                    "Country": "Франція",
                                    "AvgPrice": "500.000000"
                                }
                            ]
                        },
                        "text/html": [
                            "<table>",
                            "<tr><th>Country</th><th>AvgPrice</th></tr>",
                            "<tr><td>Іспанія</td><td>30.000000</td></tr>",
                            "<tr><td>Італія</td><td>107.500000</td></tr>",
                            "<tr><td>Нова Зеландія</td><td>40.000000</td></tr>",
                            "<tr><td>США</td><td>45.000000</td></tr>",
                            "<tr><td>Франція</td><td>500.000000</td></tr>",
                            "</table>"
                        ]
                    }
                }
            ],
            "execution_count": 47
        },
        {
            "cell_type": "markdown",
            "source": [
                "<span style=\"background-color: transparent; color: rgb(67, 67, 67); font-family: georgia, times, &quot;times new roman&quot;, serif; font-size: 20px; white-space: break-spaces; caret-color: rgb(21, 21, 21);\">27. Максимальна кількість закуплених пляшок вина для кожного клієнта. Виведіть ім'я клієнта та максимальну кількість закуплених пляшок.</span>"
            ],
            "metadata": {
                "azdata_cell_guid": "724a7aa1-af4c-42e5-81fd-66cc8cda04d3"
            },
            "attachments": {}
        },
        {
            "cell_type": "code",
            "source": [
                "SELECT Customers.FirstName, Customers.LastName, MAX(Sales.QuantitySold) AS MaxPurchaseQuantity\n",
                "FROM Customers\n",
                "JOIN Sales ON Customers.CustomerID = Sales.CustomerID\n",
                "GROUP BY Customers.CustomerID, Customers.FirstName, Customers.LastName"
            ],
            "metadata": {
                "azdata_cell_guid": "c12e1a9c-b296-417c-98ca-0555cf46ea00",
                "language": "sql"
            },
            "outputs": [
                {
                    "output_type": "display_data",
                    "data": {
                        "text/html": "(Затронуто строк: 5)"
                    },
                    "metadata": {}
                },
                {
                    "output_type": "display_data",
                    "data": {
                        "text/html": "Общее время выполнения: 00:00:00.048"
                    },
                    "metadata": {}
                },
                {
                    "output_type": "execute_result",
                    "metadata": {},
                    "execution_count": 149,
                    "data": {
                        "application/vnd.dataresource+json": {
                            "schema": {
                                "fields": [
                                    {
                                        "name": "FirstName"
                                    },
                                    {
                                        "name": "LastName"
                                    },
                                    {
                                        "name": "MaxPurchaseQuantity"
                                    }
                                ]
                            },
                            "data": [
                                {
                                    "FirstName": "Гаррі",
                                    "LastName": "Поттер",
                                    "MaxPurchaseQuantity": "2"
                                },
                                {
                                    "FirstName": "Герміона",
                                    "LastName": "Грейнджер",
                                    "MaxPurchaseQuantity": "3"
                                },
                                {
                                    "FirstName": "Рон",
                                    "LastName": "Уізлі",
                                    "MaxPurchaseQuantity": "4"
                                },
                                {
                                    "FirstName": "Луна",
                                    "LastName": "Лавґуд",
                                    "MaxPurchaseQuantity": "1"
                                },
                                {
                                    "FirstName": "Сіріус",
                                    "LastName": "Блек",
                                    "MaxPurchaseQuantity": "5"
                                }
                            ]
                        },
                        "text/html": [
                            "<table>",
                            "<tr><th>FirstName</th><th>LastName</th><th>MaxPurchaseQuantity</th></tr>",
                            "<tr><td>Гаррі</td><td>Поттер</td><td>2</td></tr>",
                            "<tr><td>Герміона</td><td>Грейнджер</td><td>3</td></tr>",
                            "<tr><td>Рон</td><td>Уізлі</td><td>4</td></tr>",
                            "<tr><td>Луна</td><td>Лавґуд</td><td>1</td></tr>",
                            "<tr><td>Сіріус</td><td>Блек</td><td>5</td></tr>",
                            "</table>"
                        ]
                    }
                }
            ],
            "execution_count": 149
        },
        {
            "cell_type": "markdown",
            "source": [
                "<span style=\"background-color: transparent; color: rgb(67, 67, 67); font-family: georgia, times, &quot;times new roman&quot;, serif; font-size: 20px; white-space: break-spaces; caret-color: rgb(21, 21, 21);\">28. Загальна кількість проданих пляшок кожного типу вина. Згрупуйте дані за типом вина та виведіть загальну кількість проданих пляшок.</span>"
            ],
            "metadata": {
                "azdata_cell_guid": "e3e0ca97-3b86-484b-8807-d59f74e28994"
            },
            "attachments": {}
        },
        {
            "cell_type": "code",
            "source": [
                "SELECT Wine.Type, SUM(QuantitySold) AS TotalSoldQuantity\n",
                "FROM Sales\n",
                "JOIN Wine ON Sales.WineID = Wine.ID\n",
                "GROUP BY Type"
            ],
            "metadata": {
                "azdata_cell_guid": "6c1fe8f0-0bee-4d21-84b3-b25ff497f819",
                "language": "sql"
            },
            "outputs": [
                {
                    "output_type": "display_data",
                    "data": {
                        "text/html": "(Затронуто строк: 3)"
                    },
                    "metadata": {}
                },
                {
                    "output_type": "display_data",
                    "data": {
                        "text/html": "Общее время выполнения: 00:00:00.053"
                    },
                    "metadata": {}
                },
                {
                    "output_type": "execute_result",
                    "metadata": {},
                    "execution_count": 78,
                    "data": {
                        "application/vnd.dataresource+json": {
                            "schema": {
                                "fields": [
                                    {
                                        "name": "Type"
                                    },
                                    {
                                        "name": "TotalSoldQuantity"
                                    }
                                ]
                            },
                            "data": [
                                {
                                    "Type": "Біле",
                                    "TotalSoldQuantity": "36"
                                },
                                {
                                    "Type": "Ігристе",
                                    "TotalSoldQuantity": "8"
                                },
                                {
                                    "Type": "Червоне",
                                    "TotalSoldQuantity": "16"
                                }
                            ]
                        },
                        "text/html": [
                            "<table>",
                            "<tr><th>Type</th><th>TotalSoldQuantity</th></tr>",
                            "<tr><td>Біле</td><td>36</td></tr>",
                            "<tr><td>Ігристе</td><td>8</td></tr>",
                            "<tr><td>Червоне</td><td>16</td></tr>",
                            "</table>"
                        ]
                    }
                }
            ],
            "execution_count": 78
        },
        {
            "cell_type": "markdown",
            "source": [
                "<span style=\"background-color: transparent; color: rgb(67, 67, 67); font-family: georgia, times, &quot;times new roman&quot;, serif; font-size: 20px; white-space: break-spaces; caret-color: rgb(21, 21, 21);\">29. Середня сума продажу для кожного місяця в році. Згрупуйте дані за місяцем і роком та виведіть середню суму продажу.</span>"
            ],
            "metadata": {
                "azdata_cell_guid": "271d51c5-742c-488f-8110-43f08ba8028c"
            },
            "attachments": {}
        },
        {
            "cell_type": "code",
            "source": [
                "SELECT MONTH(SaleDate) AS Month, AVG(TotalAmount) AS AvgSaleAmount\n",
                "FROM Sales\n",
                "GROUP BY MONTH(SaleDate)"
            ],
            "metadata": {
                "azdata_cell_guid": "9ec6d181-1133-477b-999d-d6c5b420acd5",
                "language": "sql"
            },
            "outputs": [
                {
                    "output_type": "display_data",
                    "data": {
                        "text/html": "(Затронуто строк: 2)"
                    },
                    "metadata": {}
                },
                {
                    "output_type": "display_data",
                    "data": {
                        "text/html": "Общее время выполнения: 00:00:00.052"
                    },
                    "metadata": {}
                },
                {
                    "output_type": "execute_result",
                    "metadata": {},
                    "execution_count": 143,
                    "data": {
                        "application/vnd.dataresource+json": {
                            "schema": {
                                "fields": [
                                    {
                                        "name": "Month"
                                    },
                                    {
                                        "name": "AvgSaleAmount"
                                    }
                                ]
                            },
                            "data": [
                                {
                                    "Month": "9",
                                    "AvgSaleAmount": "115.454545"
                                },
                                {
                                    "Month": "10",
                                    "AvgSaleAmount": "130.000000"
                                }
                            ]
                        },
                        "text/html": [
                            "<table>",
                            "<tr><th>Month</th><th>AvgSaleAmount</th></tr>",
                            "<tr><td>9</td><td>115.454545</td></tr>",
                            "<tr><td>10</td><td>130.000000</td></tr>",
                            "</table>"
                        ]
                    }
                }
            ],
            "execution_count": 143
        },
        {
            "cell_type": "markdown",
            "source": [
                "<span style=\"background-color: transparent; color: rgb(67, 67, 67); font-family: georgia, times, &quot;times new roman&quot;, serif; font-size: 20px; white-space: break-spaces; caret-color: rgb(21, 21, 21);\">30. Сумарна вартість всіх закупок кожного клієнта. Виведіть ім'я клієнта та сумарну вартість їхніх закупок.</span>"
            ],
            "metadata": {
                "azdata_cell_guid": "a1622b19-b8df-47d9-9bef-a7376d8a0ead"
            },
            "attachments": {}
        },
        {
            "cell_type": "code",
            "source": [
                "SELECT Customers.FirstName, Customers.LastName, SUM(Sales.TotalAmount) AS TotalPurchaseAmount\n",
                "FROM Customers\n",
                "JOIN Sales ON Customers.CustomerID = Sales.CustomerID\n",
                "GROUP BY Customers.CustomerID, Customers.FirstName, Customers.LastName"
            ],
            "metadata": {
                "azdata_cell_guid": "55d56a7a-4a1c-4f68-80cc-48b3a65f82b2",
                "language": "sql"
            },
            "outputs": [
                {
                    "output_type": "display_data",
                    "data": {
                        "text/html": "(Затронуто строк: 5)"
                    },
                    "metadata": {}
                },
                {
                    "output_type": "display_data",
                    "data": {
                        "text/html": "Общее время выполнения: 00:00:00.071"
                    },
                    "metadata": {}
                },
                {
                    "output_type": "execute_result",
                    "metadata": {},
                    "execution_count": 79,
                    "data": {
                        "application/vnd.dataresource+json": {
                            "schema": {
                                "fields": [
                                    {
                                        "name": "FirstName"
                                    },
                                    {
                                        "name": "LastName"
                                    },
                                    {
                                        "name": "TotalPurchaseAmount"
                                    }
                                ]
                            },
                            "data": [
                                {
                                    "FirstName": "Гаррі",
                                    "LastName": "Поттер",
                                    "TotalPurchaseAmount": "200.00"
                                },
                                {
                                    "FirstName": "Герміона",
                                    "LastName": "Грейнджер",
                                    "TotalPurchaseAmount": "600.00"
                                },
                                {
                                    "FirstName": "Рон",
                                    "LastName": "Уізлі",
                                    "TotalPurchaseAmount": "720.00"
                                },
                                {
                                    "FirstName": "Луна",
                                    "LastName": "Лавґуд",
                                    "TotalPurchaseAmount": "120.00"
                                },
                                {
                                    "FirstName": "Сіріус",
                                    "LastName": "Блек",
                                    "TotalPurchaseAmount": "800.00"
                                }
                            ]
                        },
                        "text/html": [
                            "<table>",
                            "<tr><th>FirstName</th><th>LastName</th><th>TotalPurchaseAmount</th></tr>",
                            "<tr><td>Гаррі</td><td>Поттер</td><td>200.00</td></tr>",
                            "<tr><td>Герміона</td><td>Грейнджер</td><td>600.00</td></tr>",
                            "<tr><td>Рон</td><td>Уізлі</td><td>720.00</td></tr>",
                            "<tr><td>Луна</td><td>Лавґуд</td><td>120.00</td></tr>",
                            "<tr><td>Сіріус</td><td>Блек</td><td>800.00</td></tr>",
                            "</table>"
                        ]
                    }
                }
            ],
            "execution_count": 79
        },
        {
            "cell_type": "markdown",
            "source": [
                "<span style=\"background-color: transparent; color: rgb(67, 67, 67); font-family: georgia, times, &quot;times new roman&quot;, serif; font-size: 20px; white-space: break-spaces; caret-color: rgb(21, 21, 21);\">31. Знайти всі види вина (Type), які мають ціну більше 30.00. Виведіть ці види в порядку зростання ціни.</span>"
            ],
            "metadata": {
                "azdata_cell_guid": "dda3a0e9-5234-446e-8b70-9612d6bde836"
            },
            "attachments": {}
        },
        {
            "cell_type": "code",
            "source": [
                "SELECT Name, Type, Price\n",
                "FROM Wine\n",
                "WHERE Price > 30.00\n",
                "ORDER BY Price ASC"
            ],
            "metadata": {
                "azdata_cell_guid": "2ad0f5e3-0078-47d3-ba2f-5577d052dd3c",
                "language": "sql"
            },
            "outputs": [
                {
                    "output_type": "display_data",
                    "data": {
                        "text/html": "(Затронуто строк: 4)"
                    },
                    "metadata": {}
                },
                {
                    "output_type": "display_data",
                    "data": {
                        "text/html": "Общее время выполнения: 00:00:00.052"
                    },
                    "metadata": {}
                },
                {
                    "output_type": "execute_result",
                    "metadata": {},
                    "execution_count": 67,
                    "data": {
                        "application/vnd.dataresource+json": {
                            "schema": {
                                "fields": [
                                    {
                                        "name": "Name"
                                    },
                                    {
                                        "name": "Type"
                                    },
                                    {
                                        "name": "Price"
                                    }
                                ]
                            },
                            "data": [
                                {
                                    "Name": "Sauvignon Blanc",
                                    "Type": "Біле",
                                    "Price": "40.00"
                                },
                                {
                                    "Name": "Chardonnay Reserve",
                                    "Type": "Біле",
                                    "Price": "45.00"
                                },
                                {
                                    "Name": "Bardolino DOC Pasqua",
                                    "Type": "Червоне Сухе",
                                    "Price": "190.00"
                                },
                                {
                                    "Name": "Chateau Margaux",
                                    "Type": "Червоне",
                                    "Price": "500.00"
                                }
                            ]
                        },
                        "text/html": [
                            "<table>",
                            "<tr><th>Name</th><th>Type</th><th>Price</th></tr>",
                            "<tr><td>Sauvignon Blanc</td><td>Біле</td><td>40.00</td></tr>",
                            "<tr><td>Chardonnay Reserve</td><td>Біле</td><td>45.00</td></tr>",
                            "<tr><td>Bardolino DOC Pasqua</td><td>Червоне Сухе</td><td>190.00</td></tr>",
                            "<tr><td>Chateau Margaux</td><td>Червоне</td><td>500.00</td></tr>",
                            "</table>"
                        ]
                    }
                }
            ],
            "execution_count": 67
        },
        {
            "cell_type": "markdown",
            "source": [
                "<span style=\"background-color: transparent; color: rgb(67, 67, 67); font-family: georgia, times, &quot;times new roman&quot;, serif; font-size: 20px; white-space: break-spaces; caret-color: rgb(21, 21, 21);\">32. Знайти кількість пляшок кожного виду вина (Type), де кількість пляшок на складі більше 50. Виведіть цю інформацію в порядку спадання кількості пляшок.</span>"
            ],
            "metadata": {
                "azdata_cell_guid": "123e8bbc-f17f-4a98-8c39-0bae452cac84"
            },
            "attachments": {}
        },
        {
            "cell_type": "code",
            "source": [
                "SELECT Wine.Type, SUM(Purchases.QuantityPurchased) - SUM(Sales.QuantitySold) AS TotalQuantity\n",
                "FROM Wine\n",
                "JOIN Purchases ON Wine.ID = Purchases.WineID\n",
                "JOIN Sales ON Wine.ID = Sales.WineID\n",
                "GROUP BY Wine.Type\n",
                "HAVING SUM(Purchases.QuantityPurchased) - SUM(Sales.QuantitySold) > 50\n",
                "ORDER BY TotalQuantity DESC"
            ],
            "metadata": {
                "azdata_cell_guid": "409fcaa3-75d8-47f0-b237-c2f0d380e670",
                "language": "sql"
            },
            "outputs": [
                {
                    "output_type": "display_data",
                    "data": {
                        "text/html": "(Затронуто строк: 0)"
                    },
                    "metadata": {}
                },
                {
                    "output_type": "display_data",
                    "data": {
                        "text/html": "Общее время выполнения: 00:00:00.051"
                    },
                    "metadata": {}
                },
                {
                    "output_type": "execute_result",
                    "metadata": {},
                    "execution_count": 132,
                    "data": {
                        "application/vnd.dataresource+json": {
                            "schema": {
                                "fields": [
                                    {
                                        "name": "Type"
                                    },
                                    {
                                        "name": "TotalQuantity"
                                    }
                                ]
                            },
                            "data": []
                        },
                        "text/html": [
                            "<table>",
                            "<tr><th>Type</th><th>TotalQuantity</th></tr>",
                            "</table>"
                        ]
                    }
                }
            ],
            "execution_count": 132
        },
        {
            "cell_type": "markdown",
            "source": [
                "## <span style=\"box-sizing: border-box; --tw-border-spacing-x: 0; --tw-border-spacing-y: 0; --tw-translate-x: 0; --tw-translate-y: 0; --tw-rotate: 0; --tw-skew-x: 0; --tw-skew-y: 0; --tw-scale-x: 1; --tw-scale-y: 1; --tw-pan-x: ; --tw-pan-y: ; --tw-pinch-zoom: ; --tw-scroll-snap-strictness: proximity; --tw-ordinal: ; --tw-slashed-zero: ; --tw-numeric-figure: ; --tw-numeric-spacing: ; --tw-numeric-fraction: ; --tw-ring-inset: ; --tw-ring-offset-width: 0px; --tw-ring-offset-color: #fff; --tw-ring-color: #3b82f680; --tw-ring-offset-shadow: 0 0 #0000; --tw-ring-shadow: 0 0 #0000; --tw-shadow: 0 0 #0000; --tw-shadow-colored: 0 0 #0000; --tw-blur: ; --tw-brightness: ; --tw-contrast: ; --tw-grayscale: ; --tw-hue-rotate: ; --tw-invert: ; --tw-saturate: ; --tw-sepia: ; --tw-drop-shadow: ; --tw-backdrop-blur: ; --tw-backdrop-brightness: ; --tw-backdrop-contrast: ; --tw-backdrop-grayscale: ; --tw-backdrop-hue-rotate: ; --tw-backdrop-invert: ; --tw-backdrop-opacity: ; --tw-backdrop-saturate: ; --tw-backdrop-sepia: ; margin: 0px; padding: 0px; border: 0px; font-size: 23px; vertical-align: baseline; max-width: 100%; font-family: georgia, times, &quot;times new roman&quot;, serif; background-color: transparent; color: rgb(0, 0, 0);\">Завдання 5</span>\n",
                "\n",
                "<span style=\"background-color: rgb(255, 255, 255); color: rgb(67, 67, 67); font-family: georgia, times, &quot;times new roman&quot;, serif; font-size: 20px; white-space: break-spaces; caret-color: rgb(67, 67, 67);\">Блок завдань на групування з накладанням умови.</span>"
            ],
            "metadata": {
                "language": "sql",
                "azdata_cell_guid": "89499291-1267-4fa8-a721-3265287f0ac6"
            },
            "attachments": {}
        },
        {
            "cell_type": "markdown",
            "source": [
                "<span style=\"background-color: transparent; color: rgb(67, 67, 67); font-family: georgia, times, &quot;times new roman&quot;, serif; font-size: 20px; white-space: break-spaces; caret-color: rgb(21, 21, 21);\">33. Знайти країни виробництва вина, де середня ціна вина перевищує 40.00. Згрупуйте дані за країною виробництва, обчисліть середню ціну для кожної країни та виведіть тільки ті країни, для яких середня ціна перевищує 40.00. Виведіть країни та їхні середні ціни.</span>"
            ],
            "metadata": {
                "language": "sql",
                "azdata_cell_guid": "6c6da1b4-812a-483c-b7c5-f2b57086786e"
            },
            "attachments": {}
        },
        {
            "cell_type": "code",
            "source": [
                "SELECT Country, AVG(Price) AS AvgPrice\n",
                "FROM Wine\n",
                "GROUP BY Country\n",
                "HAVING AVG(Price) > 40.00"
            ],
            "metadata": {
                "language": "sql",
                "azdata_cell_guid": "84d3a360-0151-48ed-8ee0-331250b39e15"
            },
            "outputs": [
                {
                    "output_type": "display_data",
                    "data": {
                        "text/html": "(Затронуто строк: 3)"
                    },
                    "metadata": {}
                },
                {
                    "output_type": "display_data",
                    "data": {
                        "text/html": "Общее время выполнения: 00:00:00.060"
                    },
                    "metadata": {}
                },
                {
                    "output_type": "execute_result",
                    "metadata": {},
                    "execution_count": 73,
                    "data": {
                        "application/vnd.dataresource+json": {
                            "schema": {
                                "fields": [
                                    {
                                        "name": "Country"
                                    },
                                    {
                                        "name": "AvgPrice"
                                    }
                                ]
                            },
                            "data": [
                                {
                                    "Country": "Італія",
                                    "AvgPrice": "107.500000"
                                },
                                {
                                    "Country": "США",
                                    "AvgPrice": "45.000000"
                                },
                                {
                                    "Country": "Франція",
                                    "AvgPrice": "500.000000"
                                }
                            ]
                        },
                        "text/html": [
                            "<table>",
                            "<tr><th>Country</th><th>AvgPrice</th></tr>",
                            "<tr><td>Італія</td><td>107.500000</td></tr>",
                            "<tr><td>США</td><td>45.000000</td></tr>",
                            "<tr><td>Франція</td><td>500.000000</td></tr>",
                            "</table>"
                        ]
                    }
                }
            ],
            "execution_count": 73
        },
        {
            "cell_type": "markdown",
            "source": [
                "<span style=\"background-color: transparent; color: rgb(67, 67, 67); font-family: georgia, times, &quot;times new roman&quot;, serif; font-size: 20px; white-space: break-spaces; caret-color: rgb(21, 21, 21);\">34. Знайти типи вин, для яких існує хоча б одне вино з ціною більше 50.00. Групуйте дані за типом вина, перевірте наявність вин з ціною більше 50.00 та виведіть ці типи вин та загальну кількість таких вин.</span>"
            ],
            "metadata": {
                "language": "sql",
                "azdata_cell_guid": "8c01bf37-f2af-48ce-a9a0-a4788c44cb11"
            },
            "attachments": {}
        },
        {
            "cell_type": "code",
            "source": [
                "SELECT Type, COUNT(*) AS TotalCount\n",
                "FROM Wine\n",
                "WHERE ID IN (SELECT ID FROM Wine WHERE Price > 50.00)\n",
                "GROUP BY Type"
            ],
            "metadata": {
                "language": "sql",
                "azdata_cell_guid": "465b5150-47a8-4399-aad8-18fbcbfb0b0e"
            },
            "outputs": [
                {
                    "output_type": "display_data",
                    "data": {
                        "text/html": "(Затронуто строк: 2)"
                    },
                    "metadata": {}
                },
                {
                    "output_type": "display_data",
                    "data": {
                        "text/html": "Общее время выполнения: 00:00:00.052"
                    },
                    "metadata": {}
                },
                {
                    "output_type": "execute_result",
                    "metadata": {},
                    "execution_count": 76,
                    "data": {
                        "application/vnd.dataresource+json": {
                            "schema": {
                                "fields": [
                                    {
                                        "name": "Type"
                                    },
                                    {
                                        "name": "TotalCount"
                                    }
                                ]
                            },
                            "data": [
                                {
                                    "Type": "Червоне",
                                    "TotalCount": "1"
                                },
                                {
                                    "Type": "Червоне Сухе",
                                    "TotalCount": "1"
                                }
                            ]
                        },
                        "text/html": [
                            "<table>",
                            "<tr><th>Type</th><th>TotalCount</th></tr>",
                            "<tr><td>Червоне</td><td>1</td></tr>",
                            "<tr><td>Червоне Сухе</td><td>1</td></tr>",
                            "</table>"
                        ]
                    }
                }
            ],
            "execution_count": 76
        },
        {
            "cell_type": "markdown",
            "source": [
                "<span style=\"background-color: transparent; color: rgb(67, 67, 67); font-family: georgia, times, &quot;times new roman&quot;, serif; font-size: 20px; white-space: break-spaces; caret-color: rgb(21, 21, 21);\">35. Знайти роки виробництва вин, для яких середня ціна вина перевищує 35.00. Згрупуйте дані за роком виробництва, обчисліть середню ціну для кожного року та виведіть тільки ті роки, для яких середня ціна перевищує 35.00. Виведіть роки та їхні середні ціни.</span>"
            ],
            "metadata": {
                "language": "sql",
                "azdata_cell_guid": "7bc29b46-85b7-43d6-9008-707d0f178441"
            },
            "attachments": {}
        },
        {
            "cell_type": "code",
            "source": [
                "SELECT YEAR(SaleDate) AS ProductionYear, AVG(Price) AS AvgPrice\n",
                "FROM Sales\n",
                "JOIN Wine ON Wine.ID = Sales.WineID\n",
                "GROUP BY YEAR(SaleDate)\n",
                "HAVING AVG(Price) > 35.00"
            ],
            "metadata": {
                "language": "sql",
                "azdata_cell_guid": "2607a305-4aff-4df3-b83a-de8411d92591"
            },
            "outputs": [
                {
                    "output_type": "display_data",
                    "data": {
                        "text/html": "(Затронута одна строка)"
                    },
                    "metadata": {}
                },
                {
                    "output_type": "display_data",
                    "data": {
                        "text/html": "Общее время выполнения: 00:00:00.967"
                    },
                    "metadata": {}
                },
                {
                    "output_type": "execute_result",
                    "metadata": {},
                    "execution_count": 92,
                    "data": {
                        "application/vnd.dataresource+json": {
                            "schema": {
                                "fields": [
                                    {
                                        "name": "ProductionYear"
                                    },
                                    {
                                        "name": "AvgPrice"
                                    }
                                ]
                            },
                            "data": [
                                {
                                    "ProductionYear": "2023",
                                    "AvgPrice": "128.000000"
                                }
                            ]
                        },
                        "text/html": [
                            "<table>",
                            "<tr><th>ProductionYear</th><th>AvgPrice</th></tr>",
                            "<tr><td>2023</td><td>128.000000</td></tr>",
                            "</table>"
                        ]
                    }
                }
            ],
            "execution_count": 92
        }
    ]
}