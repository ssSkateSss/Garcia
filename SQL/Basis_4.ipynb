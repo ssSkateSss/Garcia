{
    "metadata": {
        "kernelspec": {
            "name": "SQL",
            "display_name": "SQL",
            "language": "sql"
        },
        "language_info": {
            "name": "sql",
            "version": ""
        }
    },
    "nbformat_minor": 2,
    "nbformat": 4,
    "cells": [
        {
            "cell_type": "markdown",
            "source": [
                "# <span style=\"box-sizing: border-box; --tw-border-spacing-x: 0; --tw-border-spacing-y: 0; --tw-translate-x: 0; --tw-translate-y: 0; --tw-rotate: 0; --tw-skew-x: 0; --tw-skew-y: 0; --tw-scale-x: 1; --tw-scale-y: 1; --tw-pan-x: ; --tw-pan-y: ; --tw-pinch-zoom: ; --tw-scroll-snap-strictness: proximity; --tw-ordinal: ; --tw-slashed-zero: ; --tw-numeric-figure: ; --tw-numeric-spacing: ; --tw-numeric-fraction: ; --tw-ring-inset: ; --tw-ring-offset-width: 0px; --tw-ring-offset-color: #fff; --tw-ring-color: #3b82f680; --tw-ring-offset-shadow: 0 0 #0000; --tw-ring-shadow: 0 0 #0000; --tw-shadow: 0 0 #0000; --tw-shadow-colored: 0 0 #0000; --tw-blur: ; --tw-brightness: ; --tw-contrast: ; --tw-grayscale: ; --tw-hue-rotate: ; --tw-invert: ; --tw-saturate: ; --tw-sepia: ; --tw-drop-shadow: ; --tw-backdrop-blur: ; --tw-backdrop-brightness: ; --tw-backdrop-contrast: ; --tw-backdrop-grayscale: ; --tw-backdrop-hue-rotate: ; --tw-backdrop-invert: ; --tw-backdrop-opacity: ; --tw-backdrop-saturate: ; --tw-backdrop-sepia: ; margin: 0px; padding: 0px; border: 0px; font-size: 23px; vertical-align: baseline; max-width: 100%; font-family: georgia, times, &quot;times new roman&quot;, serif; background-color: transparent; color: rgb(55, 65, 81);\">Тема</span>\n",
                "\n",
                "<span style=\"box-sizing: border-box; --tw-border-spacing-x: 0; --tw-border-spacing-y: 0; --tw-translate-x: 0; --tw-translate-y: 0; --tw-rotate: 0; --tw-skew-x: 0; --tw-skew-y: 0; --tw-scale-x: 1; --tw-scale-y: 1; --tw-pan-x: ; --tw-pan-y: ; --tw-pinch-zoom: ; --tw-scroll-snap-strictness: proximity; --tw-ordinal: ; --tw-slashed-zero: ; --tw-numeric-figure: ; --tw-numeric-spacing: ; --tw-numeric-fraction: ; --tw-ring-inset: ; --tw-ring-offset-width: 0px; --tw-ring-offset-color: #fff; --tw-ring-color: #3b82f680; --tw-ring-offset-shadow: 0 0 #0000; --tw-ring-shadow: 0 0 #0000; --tw-shadow: 0 0 #0000; --tw-shadow-colored: 0 0 #0000; --tw-blur: ; --tw-brightness: ; --tw-contrast: ; --tw-grayscale: ; --tw-hue-rotate: ; --tw-invert: ; --tw-saturate: ; --tw-sepia: ; --tw-drop-shadow: ; --tw-backdrop-blur: ; --tw-backdrop-brightness: ; --tw-backdrop-contrast: ; --tw-backdrop-grayscale: ; --tw-backdrop-hue-rotate: ; --tw-backdrop-invert: ; --tw-backdrop-opacity: ; --tw-backdrop-saturate: ; --tw-backdrop-sepia: ; margin: 0px; padding: 0px; border: 0px; font-size: 20px; vertical-align: baseline; max-width: 100%; font-family: georgia, times, &quot;times new roman&quot;, serif; background-color: transparent; color: rgb(55, 65, 81);\">Складні конструкції запитів.</span>"
            ],
            "metadata": {
                "azdata_cell_guid": "def927c4-a2ca-4685-b5f1-8a8a066a52f8"
            },
            "attachments": {}
        },
        {
            "cell_type": "markdown",
            "source": [
                "## <span style=\"box-sizing: border-box; --tw-border-spacing-x: 0; --tw-border-spacing-y: 0; --tw-translate-x: 0; --tw-translate-y: 0; --tw-rotate: 0; --tw-skew-x: 0; --tw-skew-y: 0; --tw-scale-x: 1; --tw-scale-y: 1; --tw-pan-x: ; --tw-pan-y: ; --tw-pinch-zoom: ; --tw-scroll-snap-strictness: proximity; --tw-ordinal: ; --tw-slashed-zero: ; --tw-numeric-figure: ; --tw-numeric-spacing: ; --tw-numeric-fraction: ; --tw-ring-inset: ; --tw-ring-offset-width: 0px; --tw-ring-offset-color: #fff; --tw-ring-color: #3b82f680; --tw-ring-offset-shadow: 0 0 #0000; --tw-ring-shadow: 0 0 #0000; --tw-shadow: 0 0 #0000; --tw-shadow-colored: 0 0 #0000; --tw-blur: ; --tw-brightness: ; --tw-contrast: ; --tw-grayscale: ; --tw-hue-rotate: ; --tw-invert: ; --tw-saturate: ; --tw-sepia: ; --tw-drop-shadow: ; --tw-backdrop-blur: ; --tw-backdrop-brightness: ; --tw-backdrop-contrast: ; --tw-backdrop-grayscale: ; --tw-backdrop-hue-rotate: ; --tw-backdrop-invert: ; --tw-backdrop-opacity: ; --tw-backdrop-saturate: ; --tw-backdrop-sepia: ; margin: 0px; padding: 0px; border: 0px; font-size: 23px; vertical-align: baseline; max-width: 100%; font-family: georgia, times, &quot;times new roman&quot;, serif; background-color: transparent; color: rgb(55, 65, 81);\">Завдання 1</span>\n",
                "\n",
                "<span style=\"background-color: transparent; color: rgb(55, 65, 81); font-family: georgia, times, &quot;times new roman&quot;, serif; font-size: 20px; white-space: break-spaces; caret-color: rgb(21, 21, 21);\">1. Виберіть всі записи з таблиці \"Wine\" і додайте новий стовпець \"PriceCategory\". В цьому стовпці визначте категорію ціни вина за такими правилами:</span>  \n",
                "\n",
                "<span style=\"box-sizing: border-box; --tw-border-spacing-x: 0; --tw-border-spacing-y: 0; --tw-translate-x: 0; --tw-translate-y: 0; --tw-rotate: 0; --tw-skew-x: 0; --tw-skew-y: 0; --tw-scale-x: 1; --tw-scale-y: 1; --tw-pan-x: ; --tw-pan-y: ; --tw-pinch-zoom: ; --tw-scroll-snap-strictness: proximity; --tw-ordinal: ; --tw-slashed-zero: ; --tw-numeric-figure: ; --tw-numeric-spacing: ; --tw-numeric-fraction: ; --tw-ring-inset: ; --tw-ring-offset-width: 0px; --tw-ring-offset-color: #fff; --tw-ring-color: #3b82f680; --tw-ring-offset-shadow: 0 0 #0000; --tw-ring-shadow: 0 0 #0000; --tw-shadow: 0 0 #0000; --tw-shadow-colored: 0 0 #0000; --tw-blur: ; --tw-brightness: ; --tw-contrast: ; --tw-grayscale: ; --tw-hue-rotate: ; --tw-invert: ; --tw-saturate: ; --tw-sepia: ; --tw-drop-shadow: ; --tw-backdrop-blur: ; --tw-backdrop-brightness: ; --tw-backdrop-contrast: ; --tw-backdrop-grayscale: ; --tw-backdrop-hue-rotate: ; --tw-backdrop-invert: ; --tw-backdrop-opacity: ; --tw-backdrop-saturate: ; --tw-backdrop-sepia: ; margin: 0px; padding: 0px; border: 0px; font-size: 20px; vertical-align: baseline; max-width: 100%; font-family: georgia, times, &quot;times new roman&quot;, serif; background-color: transparent; color: rgb(55, 65, 81);\">- Якщо ціна вина менше або рівна 30, то категорія \"Доступне вино\".</span>\n",
                "\n",
                "<span style=\"box-sizing: border-box; --tw-border-spacing-x: 0; --tw-border-spacing-y: 0; --tw-translate-x: 0; --tw-translate-y: 0; --tw-rotate: 0; --tw-skew-x: 0; --tw-skew-y: 0; --tw-scale-x: 1; --tw-scale-y: 1; --tw-pan-x: ; --tw-pan-y: ; --tw-pinch-zoom: ; --tw-scroll-snap-strictness: proximity; --tw-ordinal: ; --tw-slashed-zero: ; --tw-numeric-figure: ; --tw-numeric-spacing: ; --tw-numeric-fraction: ; --tw-ring-inset: ; --tw-ring-offset-width: 0px; --tw-ring-offset-color: #fff; --tw-ring-color: #3b82f680; --tw-ring-offset-shadow: 0 0 #0000; --tw-ring-shadow: 0 0 #0000; --tw-shadow: 0 0 #0000; --tw-shadow-colored: 0 0 #0000; --tw-blur: ; --tw-brightness: ; --tw-contrast: ; --tw-grayscale: ; --tw-hue-rotate: ; --tw-invert: ; --tw-saturate: ; --tw-sepia: ; --tw-drop-shadow: ; --tw-backdrop-blur: ; --tw-backdrop-brightness: ; --tw-backdrop-contrast: ; --tw-backdrop-grayscale: ; --tw-backdrop-hue-rotate: ; --tw-backdrop-invert: ; --tw-backdrop-opacity: ; --tw-backdrop-saturate: ; --tw-backdrop-sepia: ; margin: 0px; padding: 0px; border: 0px; font-size: 20px; vertical-align: baseline; max-width: 100%; font-family: georgia, times, &quot;times new roman&quot;, serif; background-color: transparent; color: rgb(55, 65, 81);\">- Якщо ціна вина більше 30 і менше або рівна 50, то категорія \"Середня ціна\".</span>\n",
                "\n",
                "<span style=\"box-sizing: border-box; --tw-border-spacing-x: 0; --tw-border-spacing-y: 0; --tw-translate-x: 0; --tw-translate-y: 0; --tw-rotate: 0; --tw-skew-x: 0; --tw-skew-y: 0; --tw-scale-x: 1; --tw-scale-y: 1; --tw-pan-x: ; --tw-pan-y: ; --tw-pinch-zoom: ; --tw-scroll-snap-strictness: proximity; --tw-ordinal: ; --tw-slashed-zero: ; --tw-numeric-figure: ; --tw-numeric-spacing: ; --tw-numeric-fraction: ; --tw-ring-inset: ; --tw-ring-offset-width: 0px; --tw-ring-offset-color: #fff; --tw-ring-color: #3b82f680; --tw-ring-offset-shadow: 0 0 #0000; --tw-ring-shadow: 0 0 #0000; --tw-shadow: 0 0 #0000; --tw-shadow-colored: 0 0 #0000; --tw-blur: ; --tw-brightness: ; --tw-contrast: ; --tw-grayscale: ; --tw-hue-rotate: ; --tw-invert: ; --tw-saturate: ; --tw-sepia: ; --tw-drop-shadow: ; --tw-backdrop-blur: ; --tw-backdrop-brightness: ; --tw-backdrop-contrast: ; --tw-backdrop-grayscale: ; --tw-backdrop-hue-rotate: ; --tw-backdrop-invert: ; --tw-backdrop-opacity: ; --tw-backdrop-saturate: ; --tw-backdrop-sepia: ; margin: 0px; padding: 0px; border: 0px; font-size: 20px; vertical-align: baseline; max-width: 100%; font-family: georgia, times, &quot;times new roman&quot;, serif; background-color: transparent; color: rgb(55, 65, 81);\">- Якщо ціна вина більше 50, то категорія \"Дороге вино\".</span>"
            ],
            "metadata": {
                "azdata_cell_guid": "5b05a1a0-3720-4e8c-ab29-47cdf912bd23"
            },
            "attachments": {}
        },
        {
            "cell_type": "code",
            "source": [
                "SELECT *,\n",
                "    CASE\n",
                "        WHEN Price <= 30 THEN 'Доступне вино'\n",
                "        WHEN Price BETWEEN 30 AND 50 THEN 'Середня ціна'\n",
                "        ELSE 'Дороге вино'\n",
                "    END AS PriceCategory\n",
                "FROM Wine\n",
                ""
            ],
            "metadata": {
                "azdata_cell_guid": "bcc7a144-2efe-4d92-bc01-c731bbede967",
                "language": "sql"
            },
            "outputs": [
                {
                    "output_type": "display_data",
                    "data": {
                        "text/html": "(Затронуто строк: 6)"
                    },
                    "metadata": {}
                },
                {
                    "output_type": "display_data",
                    "data": {
                        "text/html": "Общее время выполнения: 00:00:00.060"
                    },
                    "metadata": {}
                },
                {
                    "output_type": "execute_result",
                    "metadata": {},
                    "execution_count": 7,
                    "data": {
                        "application/vnd.dataresource+json": {
                            "schema": {
                                "fields": [
                                    {
                                        "name": "ID"
                                    },
                                    {
                                        "name": "Name"
                                    },
                                    {
                                        "name": "Description"
                                    },
                                    {
                                        "name": "Type"
                                    },
                                    {
                                        "name": "Country"
                                    },
                                    {
                                        "name": "Price"
                                    },
                                    {
                                        "name": "PriceCategory"
                                    }
                                ]
                            },
                            "data": [
                                {
                                    "ID": "1",
                                    "Name": "Chateau Margaux",
                                    "Description": "Червоне вино класу Grand Cru",
                                    "Type": "Червоне",
                                    "Country": "Франція",
                                    "Price": "500.00",
                                    "PriceCategory": "Дороге вино"
                                },
                                {
                                    "ID": "2",
                                    "Name": "Chardonnay Reserve",
                                    "Description": "Біле вино з дубовим смаком",
                                    "Type": "Біле",
                                    "Country": "США",
                                    "Price": "45.00",
                                    "PriceCategory": "Середня ціна"
                                },
                                {
                                    "ID": "3",
                                    "Name": "Prosecco Extra Dry",
                                    "Description": "Італійське ігристе вино",
                                    "Type": "Ігристе",
                                    "Country": "Італія",
                                    "Price": "25.00",
                                    "PriceCategory": "Доступне вино"
                                },
                                {
                                    "ID": "4",
                                    "Name": "Мерло",
                                    "Description": "Червоне вино",
                                    "Type": "Червоне",
                                    "Country": "Іспанія",
                                    "Price": "30.00",
                                    "PriceCategory": "Доступне вино"
                                },
                                {
                                    "ID": "5",
                                    "Name": "Sauvignon Blanc",
                                    "Description": "Біле вино",
                                    "Type": "Біле",
                                    "Country": "Нова Зеландія",
                                    "Price": "40.00",
                                    "PriceCategory": "Середня ціна"
                                },
                                {
                                    "ID": "6",
                                    "Name": "Bardolino DOC Pasqua",
                                    "Description": "Сухий смак з яскраво вираженими фруктовими нотами ",
                                    "Type": "Червоне Сухе",
                                    "Country": "Італія",
                                    "Price": "190.00",
                                    "PriceCategory": "Дороге вино"
                                }
                            ]
                        },
                        "text/html": [
                            "<table>",
                            "<tr><th>ID</th><th>Name</th><th>Description</th><th>Type</th><th>Country</th><th>Price</th><th>PriceCategory</th></tr>",
                            "<tr><td>1</td><td>Chateau Margaux</td><td>Червоне вино класу Grand Cru</td><td>Червоне</td><td>Франція</td><td>500.00</td><td>Дороге вино</td></tr>",
                            "<tr><td>2</td><td>Chardonnay Reserve</td><td>Біле вино з дубовим смаком</td><td>Біле</td><td>США</td><td>45.00</td><td>Середня ціна</td></tr>",
                            "<tr><td>3</td><td>Prosecco Extra Dry</td><td>Італійське ігристе вино</td><td>Ігристе</td><td>Італія</td><td>25.00</td><td>Доступне вино</td></tr>",
                            "<tr><td>4</td><td>Мерло</td><td>Червоне вино</td><td>Червоне</td><td>Іспанія</td><td>30.00</td><td>Доступне вино</td></tr>",
                            "<tr><td>5</td><td>Sauvignon Blanc</td><td>Біле вино</td><td>Біле</td><td>Нова Зеландія</td><td>40.00</td><td>Середня ціна</td></tr>",
                            "<tr><td>6</td><td>Bardolino DOC Pasqua</td><td>Сухий смак з яскраво вираженими фруктовими нотами </td><td>Червоне Сухе</td><td>Італія</td><td>190.00</td><td>Дороге вино</td></tr>",
                            "</table>"
                        ]
                    }
                }
            ],
            "execution_count": 7
        },
        {
            "cell_type": "markdown",
            "source": [
                "<span style=\"background-color: transparent; color: rgb(55, 65, 81); font-family: georgia, times, &quot;times new roman&quot;, serif; font-size: 20px; white-space: break-spaces; caret-color: rgb(21, 21, 21);\">2. Виберіть всі записи з таблиці \"Sales\" і додайте новий стовпець \"DiscountApplied\". В цьому стовпці визначте, чи була надана знижка на продаж за такими правилами:</span>  \n",
                "\n",
                "<span style=\"box-sizing: border-box; --tw-border-spacing-x: 0; --tw-border-spacing-y: 0; --tw-translate-x: 0; --tw-translate-y: 0; --tw-rotate: 0; --tw-skew-x: 0; --tw-skew-y: 0; --tw-scale-x: 1; --tw-scale-y: 1; --tw-pan-x: ; --tw-pan-y: ; --tw-pinch-zoom: ; --tw-scroll-snap-strictness: proximity; --tw-ordinal: ; --tw-slashed-zero: ; --tw-numeric-figure: ; --tw-numeric-spacing: ; --tw-numeric-fraction: ; --tw-ring-inset: ; --tw-ring-offset-width: 0px; --tw-ring-offset-color: #fff; --tw-ring-color: #3b82f680; --tw-ring-offset-shadow: 0 0 #0000; --tw-ring-shadow: 0 0 #0000; --tw-shadow: 0 0 #0000; --tw-shadow-colored: 0 0 #0000; --tw-blur: ; --tw-brightness: ; --tw-contrast: ; --tw-grayscale: ; --tw-hue-rotate: ; --tw-invert: ; --tw-saturate: ; --tw-sepia: ; --tw-drop-shadow: ; --tw-backdrop-blur: ; --tw-backdrop-brightness: ; --tw-backdrop-contrast: ; --tw-backdrop-grayscale: ; --tw-backdrop-hue-rotate: ; --tw-backdrop-invert: ; --tw-backdrop-opacity: ; --tw-backdrop-saturate: ; --tw-backdrop-sepia: ; margin: 0px; padding: 0px; border: 0px; font-size: 20px; vertical-align: baseline; max-width: 100%; font-family: georgia, times, &quot;times new roman&quot;, serif; background-color: transparent; color: rgb(55, 65, 81);\">- Якщо кількість проданих пляшок вина більше або рівна 10, то знижка була надана (встановіть значення \"Так\").</span>\n",
                "\n",
                "<span style=\"box-sizing: border-box; --tw-border-spacing-x: 0; --tw-border-spacing-y: 0; --tw-translate-x: 0; --tw-translate-y: 0; --tw-rotate: 0; --tw-skew-x: 0; --tw-skew-y: 0; --tw-scale-x: 1; --tw-scale-y: 1; --tw-pan-x: ; --tw-pan-y: ; --tw-pinch-zoom: ; --tw-scroll-snap-strictness: proximity; --tw-ordinal: ; --tw-slashed-zero: ; --tw-numeric-figure: ; --tw-numeric-spacing: ; --tw-numeric-fraction: ; --tw-ring-inset: ; --tw-ring-offset-width: 0px; --tw-ring-offset-color: #fff; --tw-ring-color: #3b82f680; --tw-ring-offset-shadow: 0 0 #0000; --tw-ring-shadow: 0 0 #0000; --tw-shadow: 0 0 #0000; --tw-shadow-colored: 0 0 #0000; --tw-blur: ; --tw-brightness: ; --tw-contrast: ; --tw-grayscale: ; --tw-hue-rotate: ; --tw-invert: ; --tw-saturate: ; --tw-sepia: ; --tw-drop-shadow: ; --tw-backdrop-blur: ; --tw-backdrop-brightness: ; --tw-backdrop-contrast: ; --tw-backdrop-grayscale: ; --tw-backdrop-hue-rotate: ; --tw-backdrop-invert: ; --tw-backdrop-opacity: ; --tw-backdrop-saturate: ; --tw-backdrop-sepia: ; margin: 0px; padding: 0px; border: 0px; font-size: 20px; vertical-align: baseline; max-width: 100%; font-family: georgia, times, &quot;times new roman&quot;, serif; background-color: transparent; color: rgb(55, 65, 81);\">- Якщо кількість проданих пляшок вина менше 10, то знижки не було (встановіть значення \"Ні\").</span>"
            ],
            "metadata": {
                "azdata_cell_guid": "7480a1bc-8cd9-4224-82dc-401309e465b9"
            },
            "attachments": {}
        },
        {
            "cell_type": "code",
            "source": [
                "SELECT *,\n",
                "    IIF(QuantitySold >= 10, 'Так', 'Ні') AS DiscountApplied\n",
                "FROM Sales"
            ],
            "metadata": {
                "azdata_cell_guid": "42077d97-aca7-4ae4-9d3d-3c3988bff328",
                "language": "sql",
                "tags": []
            },
            "outputs": [
                {
                    "output_type": "display_data",
                    "data": {
                        "text/html": "(Затронуто строк: 20)"
                    },
                    "metadata": {}
                },
                {
                    "output_type": "display_data",
                    "data": {
                        "text/html": "Общее время выполнения: 00:00:00.419"
                    },
                    "metadata": {}
                },
                {
                    "output_type": "execute_result",
                    "metadata": {},
                    "execution_count": 10,
                    "data": {
                        "application/vnd.dataresource+json": {
                            "schema": {
                                "fields": [
                                    {
                                        "name": "SaleID"
                                    },
                                    {
                                        "name": "WineID"
                                    },
                                    {
                                        "name": "SaleDate"
                                    },
                                    {
                                        "name": "QuantitySold"
                                    },
                                    {
                                        "name": "TotalAmount"
                                    },
                                    {
                                        "name": "CustomerID"
                                    },
                                    {
                                        "name": "DiscountApplied"
                                    }
                                ]
                            },
                            "data": [
                                {
                                    "SaleID": "6",
                                    "WineID": "3",
                                    "SaleDate": "2023-09-20",
                                    "QuantitySold": "2",
                                    "TotalAmount": "50.00",
                                    "CustomerID": "1",
                                    "DiscountApplied": "Ні"
                                },
                                {
                                    "SaleID": "7",
                                    "WineID": "1",
                                    "SaleDate": "2023-09-21",
                                    "QuantitySold": "3",
                                    "TotalAmount": "150.00",
                                    "CustomerID": "2",
                                    "DiscountApplied": "Ні"
                                },
                                {
                                    "SaleID": "8",
                                    "WineID": "2",
                                    "SaleDate": "2023-09-22",
                                    "QuantitySold": "4",
                                    "TotalAmount": "180.00",
                                    "CustomerID": "3",
                                    "DiscountApplied": "Ні"
                                },
                                {
                                    "SaleID": "9",
                                    "WineID": "4",
                                    "SaleDate": "2023-09-23",
                                    "QuantitySold": "1",
                                    "TotalAmount": "30.00",
                                    "CustomerID": "4",
                                    "DiscountApplied": "Ні"
                                },
                                {
                                    "SaleID": "10",
                                    "WineID": "5",
                                    "SaleDate": "2023-09-24",
                                    "QuantitySold": "5",
                                    "TotalAmount": "200.00",
                                    "CustomerID": "5",
                                    "DiscountApplied": "Ні"
                                },
                                {
                                    "SaleID": "11",
                                    "WineID": "3",
                                    "SaleDate": "2023-09-25",
                                    "QuantitySold": "2",
                                    "TotalAmount": "50.00",
                                    "CustomerID": "1",
                                    "DiscountApplied": "Ні"
                                },
                                {
                                    "SaleID": "12",
                                    "WineID": "1",
                                    "SaleDate": "2023-09-26",
                                    "QuantitySold": "3",
                                    "TotalAmount": "150.00",
                                    "CustomerID": "2",
                                    "DiscountApplied": "Ні"
                                },
                                {
                                    "SaleID": "13",
                                    "WineID": "2",
                                    "SaleDate": "2023-09-27",
                                    "QuantitySold": "4",
                                    "TotalAmount": "180.00",
                                    "CustomerID": "3",
                                    "DiscountApplied": "Ні"
                                },
                                {
                                    "SaleID": "14",
                                    "WineID": "4",
                                    "SaleDate": "2023-09-28",
                                    "QuantitySold": "1",
                                    "TotalAmount": "30.00",
                                    "CustomerID": "4",
                                    "DiscountApplied": "Ні"
                                },
                                {
                                    "SaleID": "15",
                                    "WineID": "5",
                                    "SaleDate": "2023-09-29",
                                    "QuantitySold": "5",
                                    "TotalAmount": "200.00",
                                    "CustomerID": "5",
                                    "DiscountApplied": "Ні"
                                },
                                {
                                    "SaleID": "16",
                                    "WineID": "3",
                                    "SaleDate": "2023-09-30",
                                    "QuantitySold": "2",
                                    "TotalAmount": "50.00",
                                    "CustomerID": "1",
                                    "DiscountApplied": "Ні"
                                },
                                {
                                    "SaleID": "17",
                                    "WineID": "1",
                                    "SaleDate": "2023-10-01",
                                    "QuantitySold": "3",
                                    "TotalAmount": "150.00",
                                    "CustomerID": "2",
                                    "DiscountApplied": "Ні"
                                },
                                {
                                    "SaleID": "18",
                                    "WineID": "2",
                                    "SaleDate": "2023-10-02",
                                    "QuantitySold": "4",
                                    "TotalAmount": "180.00",
                                    "CustomerID": "3",
                                    "DiscountApplied": "Ні"
                                },
                                {
                                    "SaleID": "19",
                                    "WineID": "4",
                                    "SaleDate": "2023-10-03",
                                    "QuantitySold": "1",
                                    "TotalAmount": "30.00",
                                    "CustomerID": "4",
                                    "DiscountApplied": "Ні"
                                },
                                {
                                    "SaleID": "20",
                                    "WineID": "5",
                                    "SaleDate": "2023-10-04",
                                    "QuantitySold": "5",
                                    "TotalAmount": "200.00",
                                    "CustomerID": "5",
                                    "DiscountApplied": "Ні"
                                },
                                {
                                    "SaleID": "21",
                                    "WineID": "3",
                                    "SaleDate": "2023-10-05",
                                    "QuantitySold": "2",
                                    "TotalAmount": "50.00",
                                    "CustomerID": "1",
                                    "DiscountApplied": "Ні"
                                },
                                {
                                    "SaleID": "22",
                                    "WineID": "1",
                                    "SaleDate": "2023-10-06",
                                    "QuantitySold": "3",
                                    "TotalAmount": "150.00",
                                    "CustomerID": "2",
                                    "DiscountApplied": "Ні"
                                },
                                {
                                    "SaleID": "23",
                                    "WineID": "2",
                                    "SaleDate": "2023-10-07",
                                    "QuantitySold": "4",
                                    "TotalAmount": "180.00",
                                    "CustomerID": "3",
                                    "DiscountApplied": "Ні"
                                },
                                {
                                    "SaleID": "24",
                                    "WineID": "4",
                                    "SaleDate": "2023-10-08",
                                    "QuantitySold": "1",
                                    "TotalAmount": "30.00",
                                    "CustomerID": "4",
                                    "DiscountApplied": "Ні"
                                },
                                {
                                    "SaleID": "25",
                                    "WineID": "5",
                                    "SaleDate": "2023-10-09",
                                    "QuantitySold": "5",
                                    "TotalAmount": "200.00",
                                    "CustomerID": "5",
                                    "DiscountApplied": "Ні"
                                }
                            ]
                        },
                        "text/html": [
                            "<table>",
                            "<tr><th>SaleID</th><th>WineID</th><th>SaleDate</th><th>QuantitySold</th><th>TotalAmount</th><th>CustomerID</th><th>DiscountApplied</th></tr>",
                            "<tr><td>6</td><td>3</td><td>2023-09-20</td><td>2</td><td>50.00</td><td>1</td><td>Ні</td></tr>",
                            "<tr><td>7</td><td>1</td><td>2023-09-21</td><td>3</td><td>150.00</td><td>2</td><td>Ні</td></tr>",
                            "<tr><td>8</td><td>2</td><td>2023-09-22</td><td>4</td><td>180.00</td><td>3</td><td>Ні</td></tr>",
                            "<tr><td>9</td><td>4</td><td>2023-09-23</td><td>1</td><td>30.00</td><td>4</td><td>Ні</td></tr>",
                            "<tr><td>10</td><td>5</td><td>2023-09-24</td><td>5</td><td>200.00</td><td>5</td><td>Ні</td></tr>",
                            "<tr><td>11</td><td>3</td><td>2023-09-25</td><td>2</td><td>50.00</td><td>1</td><td>Ні</td></tr>",
                            "<tr><td>12</td><td>1</td><td>2023-09-26</td><td>3</td><td>150.00</td><td>2</td><td>Ні</td></tr>",
                            "<tr><td>13</td><td>2</td><td>2023-09-27</td><td>4</td><td>180.00</td><td>3</td><td>Ні</td></tr>",
                            "<tr><td>14</td><td>4</td><td>2023-09-28</td><td>1</td><td>30.00</td><td>4</td><td>Ні</td></tr>",
                            "<tr><td>15</td><td>5</td><td>2023-09-29</td><td>5</td><td>200.00</td><td>5</td><td>Ні</td></tr>",
                            "<tr><td>16</td><td>3</td><td>2023-09-30</td><td>2</td><td>50.00</td><td>1</td><td>Ні</td></tr>",
                            "<tr><td>17</td><td>1</td><td>2023-10-01</td><td>3</td><td>150.00</td><td>2</td><td>Ні</td></tr>",
                            "<tr><td>18</td><td>2</td><td>2023-10-02</td><td>4</td><td>180.00</td><td>3</td><td>Ні</td></tr>",
                            "<tr><td>19</td><td>4</td><td>2023-10-03</td><td>1</td><td>30.00</td><td>4</td><td>Ні</td></tr>",
                            "<tr><td>20</td><td>5</td><td>2023-10-04</td><td>5</td><td>200.00</td><td>5</td><td>Ні</td></tr>",
                            "<tr><td>21</td><td>3</td><td>2023-10-05</td><td>2</td><td>50.00</td><td>1</td><td>Ні</td></tr>",
                            "<tr><td>22</td><td>1</td><td>2023-10-06</td><td>3</td><td>150.00</td><td>2</td><td>Ні</td></tr>",
                            "<tr><td>23</td><td>2</td><td>2023-10-07</td><td>4</td><td>180.00</td><td>3</td><td>Ні</td></tr>",
                            "<tr><td>24</td><td>4</td><td>2023-10-08</td><td>1</td><td>30.00</td><td>4</td><td>Ні</td></tr>",
                            "<tr><td>25</td><td>5</td><td>2023-10-09</td><td>5</td><td>200.00</td><td>5</td><td>Ні</td></tr>",
                            "</table>"
                        ]
                    }
                }
            ],
            "execution_count": 10
        },
        {
            "cell_type": "markdown",
            "source": [
                "<span style=\"background-color: transparent; color: rgb(55, 65, 81); font-family: georgia, times, &quot;times new roman&quot;, serif; font-size: 20px; white-space: break-spaces; caret-color: rgb(21, 21, 21);\">3. Знайдіть усіх клієнтів (ім'я та прізвище) з бази даних, які здійснили покупки (мають відповідні записи в таблиці \"Sales\"). Використайте внутрішній підзапит для отримання списку унікальних клієнтів, які вже купували вино.</span>"
            ],
            "metadata": {
                "azdata_cell_guid": "1ff9b703-d185-4642-9394-d717749cbe2a"
            },
            "attachments": {}
        },
        {
            "cell_type": "code",
            "source": [
                "SELECT C.FirstName, C.LastName\n",
                "FROM Customers AS C\n",
                "WHERE C.CustomerID IN (\n",
                "    SELECT DISTINCT S.CustomerID\n",
                "    FROM Sales AS S)"
            ],
            "metadata": {
                "language": "sql",
                "azdata_cell_guid": "7efed112-f165-4654-9a34-296b1e7fa417",
                "tags": []
            },
            "outputs": [
                {
                    "output_type": "display_data",
                    "data": {
                        "text/html": "(Затронуто строк: 5)"
                    },
                    "metadata": {}
                },
                {
                    "output_type": "display_data",
                    "data": {
                        "text/html": "Общее время выполнения: 00:00:00.057"
                    },
                    "metadata": {}
                },
                {
                    "output_type": "execute_result",
                    "metadata": {},
                    "execution_count": 27,
                    "data": {
                        "application/vnd.dataresource+json": {
                            "schema": {
                                "fields": [
                                    {
                                        "name": "FirstName"
                                    },
                                    {
                                        "name": "LastName"
                                    }
                                ]
                            },
                            "data": [
                                {
                                    "FirstName": "Гаррі",
                                    "LastName": "Поттер"
                                },
                                {
                                    "FirstName": "Герміона",
                                    "LastName": "Грейнджер"
                                },
                                {
                                    "FirstName": "Рон",
                                    "LastName": "Уізлі"
                                },
                                {
                                    "FirstName": "Луна",
                                    "LastName": "Лавґуд"
                                },
                                {
                                    "FirstName": "Сіріус",
                                    "LastName": "Блек"
                                }
                            ]
                        },
                        "text/html": [
                            "<table>",
                            "<tr><th>FirstName</th><th>LastName</th></tr>",
                            "<tr><td>Гаррі</td><td>Поттер</td></tr>",
                            "<tr><td>Герміона</td><td>Грейнджер</td></tr>",
                            "<tr><td>Рон</td><td>Уізлі</td></tr>",
                            "<tr><td>Луна</td><td>Лавґуд</td></tr>",
                            "<tr><td>Сіріус</td><td>Блек</td></tr>",
                            "</table>"
                        ]
                    }
                }
            ],
            "execution_count": 27
        },
        {
            "cell_type": "markdown",
            "source": [
                "<span style=\"background-color: transparent; color: rgb(55, 65, 81); font-family: georgia, times, &quot;times new roman&quot;, serif; font-size: 20px; white-space: break-spaces; caret-color: rgb(21, 21, 21);\">4. Знайдіть назви всіх видів вина (стовпець \"Type\" з таблиці \"Wine\"), які були продані клієнтам з ім'ям \"Гаррі\". Використайте внутрішній підзапит для вибору відповідних записів з таблиці \"Sales\" та потім з'єднайте їх з таблицею \"Wine\", щоб отримати назви видів вина.</span>"
            ],
            "metadata": {
                "azdata_cell_guid": "84d6a075-21d4-4e93-ac03-01aa61c2105e"
            },
            "attachments": {}
        },
        {
            "cell_type": "code",
            "source": [
                "SELECT DISTINCT Wine.Type\n",
                "FROM Wine\n",
                "WHERE Wine.ID IN (\n",
                "    SELECT Sales.WineID\n",
                "    FROM Sales\n",
                "    JOIN Customers ON Sales.CustomerID = Customers.CustomerID\n",
                "    WHERE Customers.FirstName = 'Гаррі'\n",
                ")"
            ],
            "metadata": {
                "azdata_cell_guid": "67b70c18-6cc1-47fe-a48f-9066d4972c18",
                "language": "sql"
            },
            "outputs": [
                {
                    "output_type": "display_data",
                    "data": {
                        "text/html": "(Затронута одна строка)"
                    },
                    "metadata": {}
                },
                {
                    "output_type": "display_data",
                    "data": {
                        "text/html": "Общее время выполнения: 00:00:00.078"
                    },
                    "metadata": {}
                },
                {
                    "output_type": "execute_result",
                    "metadata": {},
                    "execution_count": 28,
                    "data": {
                        "application/vnd.dataresource+json": {
                            "schema": {
                                "fields": [
                                    {
                                        "name": "Type"
                                    }
                                ]
                            },
                            "data": [
                                {
                                    "Type": "Ігристе"
                                }
                            ]
                        },
                        "text/html": [
                            "<table>",
                            "<tr><th>Type</th></tr>",
                            "<tr><td>Ігристе</td></tr>",
                            "</table>"
                        ]
                    }
                }
            ],
            "execution_count": 28
        },
        {
            "cell_type": "markdown",
            "source": [
                "<span style=\"background-color: transparent; color: rgb(55, 65, 81); font-family: georgia, times, &quot;times new roman&quot;, serif; font-size: 20px; white-space: break-spaces; caret-color: rgb(21, 21, 21);\">5. Знайдіть всі записи з таблиці \"Purchases\", де кількість придбаних пляшок вина перевищує середню кількість придбаних пляшок вина для всіх покупок. Використайте внутрішній підзапит для обчислення середньої кількості придбаних пляшок вина, а потім використовуйте це значення в умові для вибору відповідних записів з таблиці \"Purchases\".</span>"
            ],
            "metadata": {
                "language": "sql",
                "azdata_cell_guid": "483b6b81-42e2-4307-af92-286ee2d7691d"
            },
            "attachments": {}
        },
        {
            "cell_type": "code",
            "source": [
                "SELECT *\n",
                "FROM Purchases\n",
                "WHERE QuantityPurchased > (\n",
                "    SELECT AVG(QuantityPurchased)\n",
                "    FROM Purchases\n",
                ")"
            ],
            "metadata": {
                "language": "sql",
                "azdata_cell_guid": "24673aff-3f90-4206-81fc-814494883ea9"
            },
            "outputs": [
                {
                    "output_type": "display_data",
                    "data": {
                        "text/html": "(Затронуто строк: 10)"
                    },
                    "metadata": {}
                },
                {
                    "output_type": "display_data",
                    "data": {
                        "text/html": "Общее время выполнения: 00:00:00.064"
                    },
                    "metadata": {}
                },
                {
                    "output_type": "execute_result",
                    "metadata": {},
                    "execution_count": 29,
                    "data": {
                        "application/vnd.dataresource+json": {
                            "schema": {
                                "fields": [
                                    {
                                        "name": "PurchaseID"
                                    },
                                    {
                                        "name": "WineID"
                                    },
                                    {
                                        "name": "PurchaseDate"
                                    },
                                    {
                                        "name": "QuantityPurchased"
                                    },
                                    {
                                        "name": "Cost"
                                    }
                                ]
                            },
                            "data": [
                                {
                                    "PurchaseID": "7",
                                    "WineID": "1",
                                    "PurchaseDate": "2023-09-21",
                                    "QuantityPurchased": "3",
                                    "Cost": "135.00"
                                },
                                {
                                    "PurchaseID": "8",
                                    "WineID": "2",
                                    "PurchaseDate": "2023-09-22",
                                    "QuantityPurchased": "4",
                                    "Cost": "160.00"
                                },
                                {
                                    "PurchaseID": "10",
                                    "WineID": "5",
                                    "PurchaseDate": "2023-09-24",
                                    "QuantityPurchased": "5",
                                    "Cost": "195.00"
                                },
                                {
                                    "PurchaseID": "12",
                                    "WineID": "1",
                                    "PurchaseDate": "2023-09-26",
                                    "QuantityPurchased": "3",
                                    "Cost": "135.00"
                                },
                                {
                                    "PurchaseID": "13",
                                    "WineID": "2",
                                    "PurchaseDate": "2023-09-27",
                                    "QuantityPurchased": "4",
                                    "Cost": "160.00"
                                },
                                {
                                    "PurchaseID": "15",
                                    "WineID": "5",
                                    "PurchaseDate": "2023-09-29",
                                    "QuantityPurchased": "5",
                                    "Cost": "195.00"
                                },
                                {
                                    "PurchaseID": "17",
                                    "WineID": "1",
                                    "PurchaseDate": "2023-10-01",
                                    "QuantityPurchased": "3",
                                    "Cost": "135.00"
                                },
                                {
                                    "PurchaseID": "18",
                                    "WineID": "2",
                                    "PurchaseDate": "2023-10-02",
                                    "QuantityPurchased": "4",
                                    "Cost": "160.00"
                                },
                                {
                                    "PurchaseID": "20",
                                    "WineID": "5",
                                    "PurchaseDate": "2023-10-04",
                                    "QuantityPurchased": "5",
                                    "Cost": "195.00"
                                },
                                {
                                    "PurchaseID": "22",
                                    "WineID": "1",
                                    "PurchaseDate": "2023-10-06",
                                    "QuantityPurchased": "3",
                                    "Cost": "135.00"
                                }
                            ]
                        },
                        "text/html": [
                            "<table>",
                            "<tr><th>PurchaseID</th><th>WineID</th><th>PurchaseDate</th><th>QuantityPurchased</th><th>Cost</th></tr>",
                            "<tr><td>7</td><td>1</td><td>2023-09-21</td><td>3</td><td>135.00</td></tr>",
                            "<tr><td>8</td><td>2</td><td>2023-09-22</td><td>4</td><td>160.00</td></tr>",
                            "<tr><td>10</td><td>5</td><td>2023-09-24</td><td>5</td><td>195.00</td></tr>",
                            "<tr><td>12</td><td>1</td><td>2023-09-26</td><td>3</td><td>135.00</td></tr>",
                            "<tr><td>13</td><td>2</td><td>2023-09-27</td><td>4</td><td>160.00</td></tr>",
                            "<tr><td>15</td><td>5</td><td>2023-09-29</td><td>5</td><td>195.00</td></tr>",
                            "<tr><td>17</td><td>1</td><td>2023-10-01</td><td>3</td><td>135.00</td></tr>",
                            "<tr><td>18</td><td>2</td><td>2023-10-02</td><td>4</td><td>160.00</td></tr>",
                            "<tr><td>20</td><td>5</td><td>2023-10-04</td><td>5</td><td>195.00</td></tr>",
                            "<tr><td>22</td><td>1</td><td>2023-10-06</td><td>3</td><td>135.00</td></tr>",
                            "</table>"
                        ]
                    }
                }
            ],
            "execution_count": 29
        },
        {
            "cell_type": "markdown",
            "source": [
                "<span style=\"background-color: transparent; color: rgb(55, 65, 81); font-family: georgia, times, &quot;times new roman&quot;, serif; font-size: 20px; white-space: break-spaces; caret-color: rgb(21, 21, 21);\">6. Виберіть клієнтів, які зробили понад 5 покупок.</span>"
            ],
            "metadata": {
                "language": "sql",
                "azdata_cell_guid": "9a496b9d-82be-4f91-94bb-b312254c3eea"
            },
            "attachments": {}
        },
        {
            "cell_type": "code",
            "source": [
                "SELECT C.FirstName, C.LastName\n",
                "FROM Customers C\n",
                "JOIN (\n",
                "    SELECT CustomerID, COUNT(*) AS SaleCount\n",
                "    FROM Sales\n",
                "    GROUP BY CustomerID\n",
                "    HAVING COUNT(*) > 5\n",
                ") AS P\n",
                "ON C.CustomerID = P.CustomerID"
            ],
            "metadata": {
                "azdata_cell_guid": "f47de0b1-a852-4805-9e97-0b41413ef91f",
                "language": "sql"
            },
            "outputs": [
                {
                    "output_type": "display_data",
                    "data": {
                        "text/html": "(Затронуто строк: 0)"
                    },
                    "metadata": {}
                },
                {
                    "output_type": "display_data",
                    "data": {
                        "text/html": "Общее время выполнения: 00:00:00.062"
                    },
                    "metadata": {}
                },
                {
                    "output_type": "execute_result",
                    "metadata": {},
                    "execution_count": 17,
                    "data": {
                        "application/vnd.dataresource+json": {
                            "schema": {
                                "fields": [
                                    {
                                        "name": "FirstName"
                                    },
                                    {
                                        "name": "LastName"
                                    }
                                ]
                            },
                            "data": []
                        },
                        "text/html": [
                            "<table>",
                            "<tr><th>FirstName</th><th>LastName</th></tr>",
                            "</table>"
                        ]
                    }
                }
            ],
            "execution_count": 17
        },
        {
            "cell_type": "markdown",
            "source": [
                "<span style=\"background-color: transparent; color: rgb(55, 65, 81); font-family: georgia, times, &quot;times new roman&quot;, serif; font-size: 20px; white-space: break-spaces; caret-color: rgb(21, 21, 21);\">7. Виберіть всі вина, ціна яких менше середньої ціни для всіх вин.</span>"
            ],
            "metadata": {
                "azdata_cell_guid": "8a313394-2fca-4bdc-b19b-bdc3c84bd7be"
            },
            "attachments": {}
        },
        {
            "cell_type": "code",
            "source": [
                "SELECT *\n",
                "FROM Wine\n",
                "WHERE Price < (SELECT AVG(Price) FROM Wine)"
            ],
            "metadata": {
                "azdata_cell_guid": "77d58fff-4d35-40dc-9543-731a25cee96c",
                "language": "sql"
            },
            "outputs": [
                {
                    "output_type": "display_data",
                    "data": {
                        "text/html": "(Затронуто строк: 4)"
                    },
                    "metadata": {}
                },
                {
                    "output_type": "display_data",
                    "data": {
                        "text/html": "Общее время выполнения: 00:00:00.068"
                    },
                    "metadata": {}
                },
                {
                    "output_type": "execute_result",
                    "metadata": {},
                    "execution_count": 14,
                    "data": {
                        "application/vnd.dataresource+json": {
                            "schema": {
                                "fields": [
                                    {
                                        "name": "ID"
                                    },
                                    {
                                        "name": "Name"
                                    },
                                    {
                                        "name": "Description"
                                    },
                                    {
                                        "name": "Type"
                                    },
                                    {
                                        "name": "Country"
                                    },
                                    {
                                        "name": "Price"
                                    }
                                ]
                            },
                            "data": [
                                {
                                    "ID": "2",
                                    "Name": "Chardonnay Reserve",
                                    "Description": "Біле вино з дубовим смаком",
                                    "Type": "Біле",
                                    "Country": "США",
                                    "Price": "45.00"
                                },
                                {
                                    "ID": "3",
                                    "Name": "Prosecco Extra Dry",
                                    "Description": "Італійське ігристе вино",
                                    "Type": "Ігристе",
                                    "Country": "Італія",
                                    "Price": "25.00"
                                },
                                {
                                    "ID": "4",
                                    "Name": "Мерло",
                                    "Description": "Червоне вино",
                                    "Type": "Червоне",
                                    "Country": "Іспанія",
                                    "Price": "30.00"
                                },
                                {
                                    "ID": "5",
                                    "Name": "Sauvignon Blanc",
                                    "Description": "Біле вино",
                                    "Type": "Біле",
                                    "Country": "Нова Зеландія",
                                    "Price": "40.00"
                                }
                            ]
                        },
                        "text/html": [
                            "<table>",
                            "<tr><th>ID</th><th>Name</th><th>Description</th><th>Type</th><th>Country</th><th>Price</th></tr>",
                            "<tr><td>2</td><td>Chardonnay Reserve</td><td>Біле вино з дубовим смаком</td><td>Біле</td><td>США</td><td>45.00</td></tr>",
                            "<tr><td>3</td><td>Prosecco Extra Dry</td><td>Італійське ігристе вино</td><td>Ігристе</td><td>Італія</td><td>25.00</td></tr>",
                            "<tr><td>4</td><td>Мерло</td><td>Червоне вино</td><td>Червоне</td><td>Іспанія</td><td>30.00</td></tr>",
                            "<tr><td>5</td><td>Sauvignon Blanc</td><td>Біле вино</td><td>Біле</td><td>Нова Зеландія</td><td>40.00</td></tr>",
                            "</table>"
                        ]
                    }
                }
            ],
            "execution_count": 14
        },
        {
            "cell_type": "markdown",
            "source": [
                "## <span style=\"box-sizing: border-box; --tw-border-spacing-x: 0; --tw-border-spacing-y: 0; --tw-translate-x: 0; --tw-translate-y: 0; --tw-rotate: 0; --tw-skew-x: 0; --tw-skew-y: 0; --tw-scale-x: 1; --tw-scale-y: 1; --tw-pan-x: ; --tw-pan-y: ; --tw-pinch-zoom: ; --tw-scroll-snap-strictness: proximity; --tw-ordinal: ; --tw-slashed-zero: ; --tw-numeric-figure: ; --tw-numeric-spacing: ; --tw-numeric-fraction: ; --tw-ring-inset: ; --tw-ring-offset-width: 0px; --tw-ring-offset-color: #fff; --tw-ring-color: #3b82f680; --tw-ring-offset-shadow: 0 0 #0000; --tw-ring-shadow: 0 0 #0000; --tw-shadow: 0 0 #0000; --tw-shadow-colored: 0 0 #0000; --tw-blur: ; --tw-brightness: ; --tw-contrast: ; --tw-grayscale: ; --tw-hue-rotate: ; --tw-invert: ; --tw-saturate: ; --tw-sepia: ; --tw-drop-shadow: ; --tw-backdrop-blur: ; --tw-backdrop-brightness: ; --tw-backdrop-contrast: ; --tw-backdrop-grayscale: ; --tw-backdrop-hue-rotate: ; --tw-backdrop-invert: ; --tw-backdrop-opacity: ; --tw-backdrop-saturate: ; --tw-backdrop-sepia: ; margin: 0px; padding: 0px; border: 0px; font-size: 23px; vertical-align: baseline; max-width: 100%; font-family: georgia, times, &quot;times new roman&quot;, serif; background-color: transparent; color: rgb(55, 65, 81);\">Завдання 2</span>"
            ],
            "metadata": {
                "azdata_cell_guid": "a1850b38-34b7-44d2-b466-3c540d5dc381"
            },
            "attachments": {}
        },
        {
            "cell_type": "markdown",
            "source": [
                "<span style=\"background-color: transparent; color: rgb(55, 65, 81); font-family: georgia, times, &quot;times new roman&quot;, serif; font-size: 20px; white-space: break-spaces; caret-color: rgb(21, 21, 21);\">8. Порахувати, скільки разів кожна книга була замовлена і вивести інформацію про кожну книгу разом із іменем її автора. Результат сортувати за фаміліями авторів та назвами книг.</span>"
            ],
            "metadata": {
                "azdata_cell_guid": "161029fb-a3f5-409b-b451-cc57b7d1d11c"
            },
            "attachments": {}
        },
        {
            "cell_type": "code",
            "source": [
                "SELECT  B.title, A.name_author, COUNT(S.book_id) AS OrdersCount\n",
                "FROM book AS B\n",
                "JOIN author AS A ON B.author_id = A.author_id\n",
                "JOIN buy_book AS S ON B.book_id = S.book_id\n",
                "GROUP BY A.name_author, B.title\n",
                "ORDER BY A.name_author, B.title"
            ],
            "metadata": {
                "azdata_cell_guid": "c4c58d42-074c-4d3f-b94c-23c1c957abb8",
                "language": "sql"
            },
            "outputs": [
                {
                    "output_type": "display_data",
                    "data": {
                        "text/html": "(Затронуто строк: 5)"
                    },
                    "metadata": {}
                },
                {
                    "output_type": "display_data",
                    "data": {
                        "text/html": "Общее время выполнения: 00:00:00.057"
                    },
                    "metadata": {}
                },
                {
                    "output_type": "execute_result",
                    "metadata": {},
                    "execution_count": 40,
                    "data": {
                        "application/vnd.dataresource+json": {
                            "schema": {
                                "fields": [
                                    {
                                        "name": "title"
                                    },
                                    {
                                        "name": "name_author"
                                    },
                                    {
                                        "name": "OrdersCount"
                                    }
                                ]
                            },
                            "data": [
                                {
                                    "title": "Захар Беркут",
                                    "name_author": "Іван Франко",
                                    "OrdersCount": "2"
                                },
                                {
                                    "title": "Лісова пісня",
                                    "name_author": "Леся Українка",
                                    "OrdersCount": "1"
                                },
                                {
                                    "title": "Чорна рада",
                                    "name_author": "Леся Українка",
                                    "OrdersCount": "1"
                                },
                                {
                                    "title": "Синя птиця",
                                    "name_author": "Остап Вишня",
                                    "OrdersCount": "1"
                                },
                                {
                                    "title": "Кобзар",
                                    "name_author": "Тарас Шевченко",
                                    "OrdersCount": "2"
                                }
                            ]
                        },
                        "text/html": [
                            "<table>",
                            "<tr><th>title</th><th>name_author</th><th>OrdersCount</th></tr>",
                            "<tr><td>Захар Беркут</td><td>Іван Франко</td><td>2</td></tr>",
                            "<tr><td>Лісова пісня</td><td>Леся Українка</td><td>1</td></tr>",
                            "<tr><td>Чорна рада</td><td>Леся Українка</td><td>1</td></tr>",
                            "<tr><td>Синя птиця</td><td>Остап Вишня</td><td>1</td></tr>",
                            "<tr><td>Кобзар</td><td>Тарас Шевченко</td><td>2</td></tr>",
                            "</table>"
                        ]
                    }
                }
            ],
            "execution_count": 40
        },
        {
            "cell_type": "markdown",
            "source": [
                "<span style=\"background-color: transparent; color: rgb(55, 65, 81); font-family: georgia, times, &quot;times new roman&quot;, serif; font-size: 20px; white-space: break-spaces; caret-color: rgb(21, 21, 21);\">9. Вивести список міст, в яких живуть клієнти, що робили замовлення в інтернет-магазині, та підрахувати кількість замовлень в кожному місті. Результат сортувати за спаданням кількості замовлень, а потім за алфавітом назв міст.</span>"
            ],
            "metadata": {
                "azdata_cell_guid": "a996066d-ec9b-4119-8437-e137fd3bbee8"
            },
            "attachments": {}
        },
        {
            "cell_type": "code",
            "source": [
                "SELECT city.name_city, COUNT(buy.buy_id) AS OrderCount\n",
                "FROM city\n",
                "JOIN client ON city.city_id = client.city_id\n",
                "JOIN buy ON buy.client_id = client.client_id\n",
                "GROUP BY city.name_city\n",
                "ORDER BY OrderCount DESC, city.name_city"
            ],
            "metadata": {
                "azdata_cell_guid": "980f8058-a1e4-48f0-a722-08a6a32790e5",
                "language": "sql"
            },
            "outputs": [
                {
                    "output_type": "display_data",
                    "data": {
                        "text/html": "(Затронуто строк: 2)"
                    },
                    "metadata": {}
                },
                {
                    "output_type": "display_data",
                    "data": {
                        "text/html": "Общее время выполнения: 00:00:00.064"
                    },
                    "metadata": {}
                },
                {
                    "output_type": "execute_result",
                    "metadata": {},
                    "execution_count": 64,
                    "data": {
                        "application/vnd.dataresource+json": {
                            "schema": {
                                "fields": [
                                    {
                                        "name": "name_city"
                                    },
                                    {
                                        "name": "OrderCount"
                                    }
                                ]
                            },
                            "data": [
                                {
                                    "name_city": "Годрікс Холлоу",
                                    "OrderCount": "3"
                                },
                                {
                                    "name_city": "Діагон-Алья",
                                    "OrderCount": "1"
                                }
                            ]
                        },
                        "text/html": [
                            "<table>",
                            "<tr><th>name_city</th><th>OrderCount</th></tr>",
                            "<tr><td>Годрікс Холлоу</td><td>3</td></tr>",
                            "<tr><td>Діагон-Алья</td><td>1</td></tr>",
                            "</table>"
                        ]
                    }
                }
            ],
            "execution_count": 64
        },
        {
            "cell_type": "markdown",
            "source": [
                "<span style=\"background-color: transparent; color: rgb(55, 65, 81); font-family: georgia, times, &quot;times new roman&quot;, serif; font-size: 20px; white-space: break-spaces; caret-color: rgb(21, 21, 21);\">10. Вивести номери всіх оплачених замовлень та дати їх оплати.</span>"
            ],
            "metadata": {
                "language": "sql",
                "azdata_cell_guid": "31c503ae-337f-4db8-bcd5-fbc766d886d6"
            },
            "attachments": {}
        },
        {
            "cell_type": "code",
            "source": [
                "SELECT buy.buy_id, buy_step.date_step_end\n",
                "FROM buy\n",
                "JOIN buy_step ON buy.buy_id = buy_step.buy_id\n",
                "WHERE buy_step.date_step_end IS NOT NULL AND buy_step.step_id = 1"
            ],
            "metadata": {
                "language": "sql",
                "azdata_cell_guid": "5a398376-72c3-4e75-84ec-23fb44fcf2db"
            },
            "outputs": [
                {
                    "output_type": "display_data",
                    "data": {
                        "text/html": "(Затронуто строк: 3)"
                    },
                    "metadata": {}
                },
                {
                    "output_type": "display_data",
                    "data": {
                        "text/html": "Общее время выполнения: 00:00:00.069"
                    },
                    "metadata": {}
                },
                {
                    "output_type": "execute_result",
                    "metadata": {},
                    "execution_count": 74,
                    "data": {
                        "application/vnd.dataresource+json": {
                            "schema": {
                                "fields": [
                                    {
                                        "name": "buy_id"
                                    },
                                    {
                                        "name": "date_step_end"
                                    }
                                ]
                            },
                            "data": [
                                {
                                    "buy_id": "1",
                                    "date_step_end": "2020-02-20"
                                },
                                {
                                    "buy_id": "2",
                                    "date_step_end": "2020-02-28"
                                },
                                {
                                    "buy_id": "3",
                                    "date_step_end": "2020-03-05"
                                }
                            ]
                        },
                        "text/html": [
                            "<table>",
                            "<tr><th>buy_id</th><th>date_step_end</th></tr>",
                            "<tr><td>1</td><td>2020-02-20</td></tr>",
                            "<tr><td>2</td><td>2020-02-28</td></tr>",
                            "<tr><td>3</td><td>2020-03-05</td></tr>",
                            "</table>"
                        ]
                    }
                }
            ],
            "execution_count": 74
        },
        {
            "cell_type": "markdown",
            "source": [
                "<span style=\"background-color: transparent; color: rgb(55, 65, 81); font-family: georgia, times, &quot;times new roman&quot;, serif; font-size: 20px; white-space: break-spaces; caret-color: rgb(21, 21, 21);\">11. Вивести інформацію про кожне замовлення: його номер, хто зробив замовлення (фамілія клієнта) та його вартість (сума кількостей замовлених книг та їх цін). Результат сортувати за номером замовлення.</span>"
            ],
            "metadata": {
                "language": "sql",
                "azdata_cell_guid": "7965e3df-e5da-4cf4-9d66-e6084a4b5349"
            },
            "attachments": {}
        },
        {
            "cell_type": "code",
            "source": [
                "SELECT buy.buy_id, client.name_client, SUM(book.price * buy_book.amount) AS OrderTotal\n",
                "FROM buy\n",
                "LEFT JOIN buy_book ON buy_book.buy_id = buy.buy_id\n",
                "LEFT JOIN book ON book.book_id = buy_book.book_id\n",
                "LEFT JOIN client ON client.client_id = buy.client_id\n",
                "GROUP BY buy.buy_id, client.name_client\n",
                "ORDER BY buy.buy_id"
            ],
            "metadata": {
                "language": "sql",
                "azdata_cell_guid": "276be1b3-bf04-44a1-9c23-1042c58f1e4a",
                "tags": []
            },
            "outputs": [
                {
                    "output_type": "display_data",
                    "data": {
                        "text/html": "Warning: Null value is eliminated by an aggregate or other SET operation."
                    },
                    "metadata": {}
                },
                {
                    "output_type": "display_data",
                    "data": {
                        "text/html": "(Затронуто строк: 4)"
                    },
                    "metadata": {}
                },
                {
                    "output_type": "display_data",
                    "data": {
                        "text/html": "Общее время выполнения: 00:00:00.073"
                    },
                    "metadata": {}
                },
                {
                    "output_type": "execute_result",
                    "metadata": {},
                    "execution_count": 127,
                    "data": {
                        "application/vnd.dataresource+json": {
                            "schema": {
                                "fields": [
                                    {
                                        "name": "buy_id"
                                    },
                                    {
                                        "name": "name_client"
                                    },
                                    {
                                        "name": "OrderTotal"
                                    }
                                ]
                            },
                            "data": [
                                {
                                    "buy_id": "1",
                                    "name_client": "Іван Петров",
                                    "OrderTotal": "1108.97"
                                },
                                {
                                    "buy_id": "2",
                                    "name_client": "Петро Сидоров",
                                    "OrderTotal": "NULL"
                                },
                                {
                                    "buy_id": "3",
                                    "name_client": "Марія Іванова",
                                    "OrderTotal": "871.49"
                                },
                                {
                                    "buy_id": "4",
                                    "name_client": "Іван Петров",
                                    "OrderTotal": "180.50"
                                }
                            ]
                        },
                        "text/html": [
                            "<table>",
                            "<tr><th>buy_id</th><th>name_client</th><th>OrderTotal</th></tr>",
                            "<tr><td>1</td><td>Іван Петров</td><td>1108.97</td></tr>",
                            "<tr><td>2</td><td>Петро Сидоров</td><td>NULL</td></tr>",
                            "<tr><td>3</td><td>Марія Іванова</td><td>871.49</td></tr>",
                            "<tr><td>4</td><td>Іван Петров</td><td>180.50</td></tr>",
                            "</table>"
                        ]
                    }
                }
            ],
            "execution_count": 127
        },
        {
            "cell_type": "markdown",
            "source": [
                "<span style=\"caret-color: rgb(55, 65, 81); color: rgb(55, 65, 81); font-family: georgia, times, &quot;times new roman&quot;, serif; font-size: 20px; white-space: break-spaces; text-size-adjust: auto; background-color: rgb(255, 255, 255);\">12. Вивести номери замовлень та етапи, на яких вони знаходяться в даний момент, за умови, що замовлення ще не доставлені. Результат сортувати за зростанням номерів замовлень.</span>"
            ],
            "metadata": {
                "language": "sql",
                "azdata_cell_guid": "cd985a32-cbbe-43bf-8c43-1286cdabd8ec"
            },
            "attachments": {}
        },
        {
            "cell_type": "code",
            "source": [
                "SELECT buy.buy_id, step.name_step\n",
                "FROM buy\n",
                "JOIN buy_step ON buy_step.buy_id = buy.buy_id\n",
                "JOIN step ON step.step_id = buy_step.step_id\n",
                "WHERE buy_step.date_step_beg IS NOT NULL AND buy_step.date_step_end IS NULL\n",
                "ORDER BY buy.buy_id"
            ],
            "metadata": {
                "language": "sql",
                "azdata_cell_guid": "a2ddda27-4bcd-4fbf-a41d-8f112ff674e4",
                "tags": []
            },
            "outputs": [
                {
                    "output_type": "display_data",
                    "data": {
                        "text/html": "(Затронуто строк: 3)"
                    },
                    "metadata": {}
                },
                {
                    "output_type": "display_data",
                    "data": {
                        "text/html": "Общее время выполнения: 00:00:00.090"
                    },
                    "metadata": {}
                },
                {
                    "output_type": "execute_result",
                    "metadata": {},
                    "execution_count": 89,
                    "data": {
                        "application/vnd.dataresource+json": {
                            "schema": {
                                "fields": [
                                    {
                                        "name": "buy_id"
                                    },
                                    {
                                        "name": "name_step"
                                    }
                                ]
                            },
                            "data": [
                                {
                                    "buy_id": "2",
                                    "name_step": "Транспортування"
                                },
                                {
                                    "buy_id": "3",
                                    "name_step": "Доставка"
                                },
                                {
                                    "buy_id": "4",
                                    "name_step": "Оплата"
                                }
                            ]
                        },
                        "text/html": [
                            "<table>",
                            "<tr><th>buy_id</th><th>name_step</th></tr>",
                            "<tr><td>2</td><td>Транспортування</td></tr>",
                            "<tr><td>3</td><td>Доставка</td></tr>",
                            "<tr><td>4</td><td>Оплата</td></tr>",
                            "</table>"
                        ]
                    }
                }
            ],
            "execution_count": 89
        },
        {
            "cell_type": "markdown",
            "source": [
                "<span style=\"background-color: transparent; color: rgb(55, 65, 81); font-family: georgia, times, &quot;times new roman&quot;, serif; font-size: 20px; white-space: break-spaces; caret-color: rgb(21, 21, 21);\">13. Для кожного міста в таблиці \"city\" зазначено кількість днів, за які можливо доставити замовлення в це місто (розглядається лише етап \"Транспортування\"). Для замовлень, які пройшли етап транспортування, вивести кількість днів, за які замовлення було реально доставлено до міста, а також, якщо замовлення було доставлено з запізненням, вказати кількість днів затримки; в іншому випадку вивести 0. Включити номер замовлення (buy_id) та обчислені стовпці \"Кількість_днів\" та \"Затримка\". Результат сортувати за номером замовлення.</span>"
            ],
            "metadata": {
                "language": "sql",
                "azdata_cell_guid": "5559c702-69b3-4326-9fef-6bf44c2af434"
            },
            "attachments": {}
        },
        {
            "cell_type": "code",
            "source": [
                "SELECT buy.buy_id, DATEDIFF(DAY, buy_step.date_step_beg, buy_step.date_step_end) AS Кількість_днів,  - city.days_delivery - SUM(DATEDIFF(DAY, buy_step.date_step_end, buy_step.date_step_beg)) AS Затримка\n",
                "FROM city\n",
                "JOIN client ON client.city_id = city.city_id\n",
                "JOIN buy ON client.client_id = buy.client_id\n",
                "JOIN buy_step ON buy_step.buy_id = buy.buy_id\n",
                "WHERE buy_step.step_id = 3 AND buy_step.date_step_end IS NOT NULL\n",
                "GROUP BY buy.buy_id, buy_step.date_step_end, buy_step.date_step_beg, city.days_delivery\n",
                ""
            ],
            "metadata": {
                "language": "sql",
                "azdata_cell_guid": "c1c408ef-4928-42c5-9c09-e704855fb31e"
            },
            "outputs": [
                {
                    "output_type": "display_data",
                    "data": {
                        "text/html": "(Затронуто строк: 2)"
                    },
                    "metadata": {}
                },
                {
                    "output_type": "display_data",
                    "data": {
                        "text/html": "Общее время выполнения: 00:00:00.068"
                    },
                    "metadata": {}
                },
                {
                    "output_type": "execute_result",
                    "metadata": {},
                    "execution_count": 173,
                    "data": {
                        "application/vnd.dataresource+json": {
                            "schema": {
                                "fields": [
                                    {
                                        "name": "buy_id"
                                    },
                                    {
                                        "name": "Кількість_днів"
                                    },
                                    {
                                        "name": "Затримка"
                                    }
                                ]
                            },
                            "data": [
                                {
                                    "buy_id": "1",
                                    "Кількість_днів": "14",
                                    "Затримка": "9"
                                },
                                {
                                    "buy_id": "3",
                                    "Кількість_днів": "4",
                                    "Затримка": "1"
                                }
                            ]
                        },
                        "text/html": [
                            "<table>",
                            "<tr><th>buy_id</th><th>Кількість_днів</th><th>Затримка</th></tr>",
                            "<tr><td>1</td><td>14</td><td>9</td></tr>",
                            "<tr><td>3</td><td>4</td><td>1</td></tr>",
                            "</table>"
                        ]
                    }
                }
            ],
            "execution_count": 173
        },
        {
            "cell_type": "markdown",
            "source": [
                "<span style=\"background-color: transparent; color: rgb(55, 65, 81); font-family: georgia, times, &quot;times new roman&quot;, serif; font-size: 20px; white-space: break-spaces; caret-color: rgb(21, 21, 21);\">14. Вибрати всіх клієнтів, які робили замовлення книг Тараса Шевченка та вивести їх інформацію в алфавітному порядку. Використовуйте фамілію автора, а не його ідентифікатор.</span>"
            ],
            "metadata": {
                "language": "sql",
                "azdata_cell_guid": "8f5d5567-0236-44a7-b507-923b67b8c8ef"
            },
            "attachments": {}
        },
        {
            "cell_type": "code",
            "source": [
                "SELECT client.*\n",
                "FROM client\n",
                "JOIN buy ON client.client_id = buy.client_id\n",
                "JOIN buy_book ON buy_book.buy_id = buy.buy_id\n",
                "JOIN book ON book.book_id = buy_book.book_id\n",
                "JOIN author ON author.author_id = book.author_id\n",
                "WHERE author.name_author = 'Тарас Шевченко'\n",
                "ORDER BY client.name_client"
            ],
            "metadata": {
                "language": "sql",
                "azdata_cell_guid": "57713b0c-5f31-4659-8095-a19cb9afc4ff"
            },
            "outputs": [
                {
                    "output_type": "display_data",
                    "data": {
                        "text/html": "(Затронуто строк: 2)"
                    },
                    "metadata": {}
                },
                {
                    "output_type": "display_data",
                    "data": {
                        "text/html": "Общее время выполнения: 00:00:00.073"
                    },
                    "metadata": {}
                },
                {
                    "output_type": "execute_result",
                    "metadata": {},
                    "execution_count": 121,
                    "data": {
                        "application/vnd.dataresource+json": {
                            "schema": {
                                "fields": [
                                    {
                                        "name": "client_id"
                                    },
                                    {
                                        "name": "name_client"
                                    },
                                    {
                                        "name": "city_id"
                                    },
                                    {
                                        "name": "email"
                                    }
                                ]
                            },
                            "data": [
                                {
                                    "client_id": "1",
                                    "name_client": "Іван Петров",
                                    "city_id": "1",
                                    "email": "ivan@gmail.com"
                                },
                                {
                                    "client_id": "2",
                                    "name_client": "Марія Іванова",
                                    "city_id": "2",
                                    "email": "maria@gmail.com"
                                }
                            ]
                        },
                        "text/html": [
                            "<table>",
                            "<tr><th>client_id</th><th>name_client</th><th>city_id</th><th>email</th></tr>",
                            "<tr><td>1</td><td>Іван Петров</td><td>1</td><td>ivan@gmail.com</td></tr>",
                            "<tr><td>2</td><td>Марія Іванова</td><td>2</td><td>maria@gmail.com</td></tr>",
                            "</table>"
                        ]
                    }
                }
            ],
            "execution_count": 121
        },
        {
            "cell_type": "markdown",
            "source": [
                "<span style=\"background-color: transparent; color: rgb(55, 65, 81); font-family: georgia, times, &quot;times new roman&quot;, serif; font-size: 20px; white-space: break-spaces; caret-color: rgb(21, 21, 21);\">15. Вивести жанр (або жанри), в яких було замовлено найбільше кількість книг, та зазначити цю кількість. Останній стовпець назвати \"Кількість\".</span>"
            ],
            "metadata": {
                "language": "sql",
                "azdata_cell_guid": "7781cca4-63bf-48d0-98e6-ba7898a6fc02"
            },
            "attachments": {}
        },
        {
            "cell_type": "code",
            "source": [
                "SELECT TOP 1 genre.name_genre, COUNT(buy_book.amount) AS Кількість\n",
                "FROM genre\n",
                "JOIN book ON book.genre_id = genre.genre_id\n",
                "JOIN buy_book ON buy_book.book_id = book.book_id\n",
                "GROUP BY genre.name_genre\n",
                "ORDER BY Кількість DESC"
            ],
            "metadata": {
                "language": "sql",
                "azdata_cell_guid": "d2260598-2dfb-4ac6-b8f7-e9e2a1db1917"
            },
            "outputs": [
                {
                    "output_type": "display_data",
                    "data": {
                        "text/html": "(Затронута одна строка)"
                    },
                    "metadata": {}
                },
                {
                    "output_type": "display_data",
                    "data": {
                        "text/html": "Общее время выполнения: 00:00:00.051"
                    },
                    "metadata": {}
                },
                {
                    "output_type": "execute_result",
                    "metadata": {},
                    "execution_count": 115,
                    "data": {
                        "application/vnd.dataresource+json": {
                            "schema": {
                                "fields": [
                                    {
                                        "name": "name_genre"
                                    },
                                    {
                                        "name": "Кількість"
                                    }
                                ]
                            },
                            "data": [
                                {
                                    "name_genre": "Поезія",
                                    "Кількість": "4"
                                }
                            ]
                        },
                        "text/html": [
                            "<table>",
                            "<tr><th>name_genre</th><th>Кількість</th></tr>",
                            "<tr><td>Поезія</td><td>4</td></tr>",
                            "</table>"
                        ]
                    }
                }
            ],
            "execution_count": 115
        },
        {
            "cell_type": "markdown",
            "source": [
                "<span style=\"background-color: transparent; color: rgb(55, 65, 81); font-family: georgia, times, &quot;times new roman&quot;, serif; font-size: 20px; white-space: break-spaces; caret-color: rgb(21, 21, 21);\">16. Порівняти щомісячний дохід від продажу книг за поточний та попередній роки. Для цього вивести рік, місяць та суму доходу, спершу за зростанням місяців, а потім за зростанням років. Назви стовпців: \"Рік\", \"Місяць\", \"Сума\".</span>"
            ],
            "metadata": {
                "language": "sql",
                "azdata_cell_guid": "ba70c7c4-9c88-4df6-b90b-367c94d91e2e"
            },
            "attachments": {}
        },
        {
            "cell_type": "code",
            "source": [
                "SELECT YEAR(buy_step.date_step_beg) AS Рік, MONTH(buy_step.date_step_beg) AS Місяць, SUM(book.price * buy_book.amount) AS Сума\n",
                "FROM buy_step\n",
                "JOIN buy ON buy.buy_id = buy_step.buy_id\n",
                "JOIN buy_book ON buy_book.buy_id = buy.buy_id\n",
                "JOIN book ON book.book_id = buy_book.book_id\n",
                "WHERE buy_step.step_id = 1\n",
                "GROUP BY YEAR(buy_step.date_step_beg), MONTH(buy_step.date_step_beg)\n",
                "ORDER BY Рік, Місяць"
            ],
            "metadata": {
                "language": "sql",
                "azdata_cell_guid": "d6034c99-9e5b-4dbb-9a47-4857583ecd09"
            },
            "outputs": [
                {
                    "output_type": "display_data",
                    "data": {
                        "text/html": "(Затронуто строк: 2)"
                    },
                    "metadata": {}
                },
                {
                    "output_type": "display_data",
                    "data": {
                        "text/html": "Общее время выполнения: 00:00:00.061"
                    },
                    "metadata": {}
                },
                {
                    "output_type": "execute_result",
                    "metadata": {},
                    "execution_count": 136,
                    "data": {
                        "application/vnd.dataresource+json": {
                            "schema": {
                                "fields": [
                                    {
                                        "name": "Рік"
                                    },
                                    {
                                        "name": "Місяць"
                                    },
                                    {
                                        "name": "Сума"
                                    }
                                ]
                            },
                            "data": [
                                {
                                    "Рік": "2020",
                                    "Місяць": "2",
                                    "Сума": "1108.97"
                                },
                                {
                                    "Рік": "2020",
                                    "Місяць": "3",
                                    "Сума": "1051.99"
                                }
                            ]
                        },
                        "text/html": [
                            "<table>",
                            "<tr><th>Рік</th><th>Місяць</th><th>Сума</th></tr>",
                            "<tr><td>2020</td><td>2</td><td>1108.97</td></tr>",
                            "<tr><td>2020</td><td>3</td><td>1051.99</td></tr>",
                            "</table>"
                        ]
                    }
                }
            ],
            "execution_count": 136
        },
        {
            "cell_type": "markdown",
            "source": [
                "<span style=\"background-color: transparent; color: rgb(55, 65, 81); font-family: georgia, times, &quot;times new roman&quot;, serif; font-size: 20px; white-space: break-spaces; caret-color: rgb(21, 21, 21);\">17. Для кожної окремої книги вивести інформацію про кількість проданих копій та їх вартість за 2020 і 2019 роки. Обчислювані стовпці назвати \"Кількість\" і \"Сума\". Інформацію сортувати за спаданням вартості.</span>"
            ],
            "metadata": {
                "language": "sql",
                "azdata_cell_guid": "9fb27952-6472-47a0-8b2c-9e4a158f4168"
            },
            "attachments": {}
        },
        {
            "cell_type": "code",
            "source": [
                "SELECT book.title AS Назва_книги,\n",
                "    SUM(CASE WHEN YEAR(buy_step.date_step_end) = 2020 THEN buy_book.amount ELSE 0 END) AS Кількість_2020,\n",
                "    SUM(CASE WHEN YEAR(buy_step.date_step_end) = 2019 THEN buy_book.amount ELSE 0 END) AS Кількість_2019,\n",
                "    SUM(CASE WHEN YEAR(buy_step.date_step_end) = 2020 THEN book.price * buy_book.amount ELSE 0 END) AS Сума_2020,\n",
                "    SUM(CASE WHEN YEAR(buy_step.date_step_end) = 2019 THEN book.price * buy_book.amount ELSE 0 END) AS Сума_2019\n",
                "FROM book\n",
                "JOIN buy_book ON buy_book.book_id = book.book_id\n",
                "JOIN buy_step ON buy_step.buy_id = buy_book.buy_id\n",
                "WHERE buy_step.step_id = 1\n",
                "GROUP BY book.title\n",
                "ORDER BY Сума_2020, Сума_2019 DESC"
            ],
            "metadata": {
                "language": "sql",
                "azdata_cell_guid": "166cfe6a-97e7-44f5-bf05-83f834f65e0b"
            },
            "outputs": [
                {
                    "output_type": "display_data",
                    "data": {
                        "text/html": "(Затронуто строк: 5)"
                    },
                    "metadata": {}
                },
                {
                    "output_type": "display_data",
                    "data": {
                        "text/html": "Общее время выполнения: 00:00:00.056"
                    },
                    "metadata": {}
                },
                {
                    "output_type": "execute_result",
                    "metadata": {},
                    "execution_count": 159,
                    "data": {
                        "application/vnd.dataresource+json": {
                            "schema": {
                                "fields": [
                                    {
                                        "name": "Назва_книги"
                                    },
                                    {
                                        "name": "Кількість_2020"
                                    },
                                    {
                                        "name": "Кількість_2019"
                                    },
                                    {
                                        "name": "Сума_2020"
                                    },
                                    {
                                        "name": "Сума_2019"
                                    }
                                ]
                            },
                            "data": [
                                {
                                    "Назва_книги": "Синя птиця",
                                    "Кількість_2020": "0",
                                    "Кількість_2019": "0",
                                    "Сума_2020": "0.00",
                                    "Сума_2019": "0.00"
                                },
                                {
                                    "Назва_книги": "Лісова пісня",
                                    "Кількість_2020": "1",
                                    "Кількість_2019": "0",
                                    "Сума_2020": "180.50",
                                    "Сума_2019": "0.00"
                                },
                                {
                                    "Назва_книги": "Кобзар",
                                    "Кількість_2020": "2",
                                    "Кількість_2019": "0",
                                    "Сума_2020": "501.98",
                                    "Сума_2019": "0.00"
                                },
                                {
                                    "Назва_книги": "Чорна рада",
                                    "Кількість_2020": "2",
                                    "Кількість_2019": "0",
                                    "Сума_2020": "637.98",
                                    "Сума_2019": "0.00"
                                },
                                {
                                    "Назва_книги": "Захар Беркут",
                                    "Кількість_2020": "3",
                                    "Кількість_2019": "0",
                                    "Сума_2020": "660.00",
                                    "Сума_2019": "0.00"
                                }
                            ]
                        },
                        "text/html": [
                            "<table>",
                            "<tr><th>Назва_книги</th><th>Кількість_2020</th><th>Кількість_2019</th><th>Сума_2020</th><th>Сума_2019</th></tr>",
                            "<tr><td>Синя птиця</td><td>0</td><td>0</td><td>0.00</td><td>0.00</td></tr>",
                            "<tr><td>Лісова пісня</td><td>1</td><td>0</td><td>180.50</td><td>0.00</td></tr>",
                            "<tr><td>Кобзар</td><td>2</td><td>0</td><td>501.98</td><td>0.00</td></tr>",
                            "<tr><td>Чорна рада</td><td>2</td><td>0</td><td>637.98</td><td>0.00</td></tr>",
                            "<tr><td>Захар Беркут</td><td>3</td><td>0</td><td>660.00</td><td>0.00</td></tr>",
                            "</table>"
                        ]
                    }
                }
            ],
            "execution_count": 159
        }
    ]
}