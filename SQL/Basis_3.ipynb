{
    "metadata": {
        "kernelspec": {
            "name": "SQL",
            "display_name": "SQL",
            "language": "sql"
        },
        "language_info": {
            "name": "sql",
            "version": ""
        }
    },
    "nbformat_minor": 2,
    "nbformat": 4,
    "cells": [
        {
            "cell_type": "markdown",
            "source": [
                "## <span style=\"box-sizing: border-box; --tw-border-spacing-x: 0; --tw-border-spacing-y: 0; --tw-translate-x: 0; --tw-translate-y: 0; --tw-rotate: 0; --tw-skew-x: 0; --tw-skew-y: 0; --tw-scale-x: 1; --tw-scale-y: 1; --tw-pan-x: ; --tw-pan-y: ; --tw-pinch-zoom: ; --tw-scroll-snap-strictness: proximity; --tw-ordinal: ; --tw-slashed-zero: ; --tw-numeric-figure: ; --tw-numeric-spacing: ; --tw-numeric-fraction: ; --tw-ring-inset: ; --tw-ring-offset-width: 0px; --tw-ring-offset-color: #fff; --tw-ring-color: #3b82f680; --tw-ring-offset-shadow: 0 0 #0000; --tw-ring-shadow: 0 0 #0000; --tw-shadow: 0 0 #0000; --tw-shadow-colored: 0 0 #0000; --tw-blur: ; --tw-brightness: ; --tw-contrast: ; --tw-grayscale: ; --tw-hue-rotate: ; --tw-invert: ; --tw-saturate: ; --tw-sepia: ; --tw-drop-shadow: ; --tw-backdrop-blur: ; --tw-backdrop-brightness: ; --tw-backdrop-contrast: ; --tw-backdrop-grayscale: ; --tw-backdrop-hue-rotate: ; --tw-backdrop-invert: ; --tw-backdrop-opacity: ; --tw-backdrop-saturate: ; --tw-backdrop-sepia: ; margin: 0px; padding: 0px; border: 0px; font-size: 23px; vertical-align: baseline; max-width: 100%; font-family: georgia, times, &quot;times new roman&quot;, serif; background-color: transparent; color: rgb(67, 67, 67);\">Завдання 1</span>\n",
                "\n",
                "<span style=\"box-sizing: border-box; --tw-border-spacing-x: 0; --tw-border-spacing-y: 0; --tw-translate-x: 0; --tw-translate-y: 0; --tw-rotate: 0; --tw-skew-x: 0; --tw-skew-y: 0; --tw-scale-x: 1; --tw-scale-y: 1; --tw-pan-x: ; --tw-pan-y: ; --tw-pinch-zoom: ; --tw-scroll-snap-strictness: proximity; --tw-ordinal: ; --tw-slashed-zero: ; --tw-numeric-figure: ; --tw-numeric-spacing: ; --tw-numeric-fraction: ; --tw-ring-inset: ; --tw-ring-offset-width: 0px; --tw-ring-offset-color: #fff; --tw-ring-color: #3b82f680; --tw-ring-offset-shadow: 0 0 #0000; --tw-ring-shadow: 0 0 #0000; --tw-shadow: 0 0 #0000; --tw-shadow-colored: 0 0 #0000; --tw-blur: ; --tw-brightness: ; --tw-contrast: ; --tw-grayscale: ; --tw-hue-rotate: ; --tw-invert: ; --tw-saturate: ; --tw-sepia: ; --tw-drop-shadow: ; --tw-backdrop-blur: ; --tw-backdrop-brightness: ; --tw-backdrop-contrast: ; --tw-backdrop-grayscale: ; --tw-backdrop-hue-rotate: ; --tw-backdrop-invert: ; --tw-backdrop-opacity: ; --tw-backdrop-saturate: ; --tw-backdrop-sepia: ; margin: 0px; padding: 0px; border: 0px; font-size: 23px; vertical-align: baseline; max-width: 100%; font-family: georgia, times, &quot;times new roman&quot;, serif; background-color: transparent; color: rgb(67, 67, 67);\"><span style=\"caret-color: rgb(67, 67, 67); font-size: 20px; white-space: break-spaces; text-size-adjust: auto; background-color: rgb(255, 255, 255);\">Основні принципи роботи операторів JOIN в мові SQL.</span><br></span>"
            ],
            "metadata": {
                "azdata_cell_guid": "54d45b97-cca8-452f-b662-2285791cfad5"
            },
            "attachments": {}
        },
        {
            "cell_type": "markdown",
            "source": [
                "<span style=\"background-color: transparent; color: rgb(67, 67, 67); font-family: georgia, times, &quot;times new roman&quot;, serif; font-size: 20px;\">1. Знайдіть всі продажі вина типу \"Червоне\" (Red), разом з інформацією про саме вино, яке було продане.</span>"
            ],
            "metadata": {
                "azdata_cell_guid": "1191591d-5611-4361-902b-03fda6c76267"
            },
            "attachments": {}
        },
        {
            "cell_type": "code",
            "source": [
                "SELECT *\n",
                "FROM Sales\n",
                "LEFT JOIN Wine ON Sales.WineID = Wine.ID\n",
                "WHERE Type = 'Червоне'"
            ],
            "metadata": {
                "azdata_cell_guid": "452c470f-3a5f-4630-a496-072beab3f224",
                "language": "sql",
                "tags": []
            },
            "outputs": [
                {
                    "output_type": "display_data",
                    "data": {
                        "text/html": "(Затронуто строк: 8)"
                    },
                    "metadata": {}
                },
                {
                    "output_type": "display_data",
                    "data": {
                        "text/html": "Общее время выполнения: 00:00:00.059"
                    },
                    "metadata": {}
                },
                {
                    "output_type": "execute_result",
                    "execution_count": 6,
                    "data": {
                        "application/vnd.dataresource+json": {
                            "schema": {
                                "fields": [
                                    {
                                        "name": "SaleID"
                                    },
                                    {
                                        "name": "WineID"
                                    },
                                    {
                                        "name": "SaleDate"
                                    },
                                    {
                                        "name": "QuantitySold"
                                    },
                                    {
                                        "name": "TotalAmount"
                                    },
                                    {
                                        "name": "CustomerID"
                                    },
                                    {
                                        "name": "ID"
                                    },
                                    {
                                        "name": "Name"
                                    },
                                    {
                                        "name": "Description"
                                    },
                                    {
                                        "name": "Type"
                                    },
                                    {
                                        "name": "Country"
                                    },
                                    {
                                        "name": "Price"
                                    }
                                ]
                            },
                            "data": [
                                {
                                    "SaleID": "7",
                                    "WineID": "1",
                                    "SaleDate": "2023-09-21",
                                    "QuantitySold": "3",
                                    "TotalAmount": "150.00",
                                    "CustomerID": "2",
                                    "ID": "1",
                                    "Name": "Chateau Margaux",
                                    "Description": "Червоне вино класу Grand Cru",
                                    "Type": "Червоне",
                                    "Country": "Франція",
                                    "Price": "500.00"
                                },
                                {
                                    "SaleID": "9",
                                    "WineID": "4",
                                    "SaleDate": "2023-09-23",
                                    "QuantitySold": "1",
                                    "TotalAmount": "30.00",
                                    "CustomerID": "4",
                                    "ID": "4",
                                    "Name": "Мерло",
                                    "Description": "Червоне вино",
                                    "Type": "Червоне",
                                    "Country": "Іспанія",
                                    "Price": "30.00"
                                },
                                {
                                    "SaleID": "12",
                                    "WineID": "1",
                                    "SaleDate": "2023-09-26",
                                    "QuantitySold": "3",
                                    "TotalAmount": "150.00",
                                    "CustomerID": "2",
                                    "ID": "1",
                                    "Name": "Chateau Margaux",
                                    "Description": "Червоне вино класу Grand Cru",
                                    "Type": "Червоне",
                                    "Country": "Франція",
                                    "Price": "500.00"
                                },
                                {
                                    "SaleID": "14",
                                    "WineID": "4",
                                    "SaleDate": "2023-09-28",
                                    "QuantitySold": "1",
                                    "TotalAmount": "30.00",
                                    "CustomerID": "4",
                                    "ID": "4",
                                    "Name": "Мерло",
                                    "Description": "Червоне вино",
                                    "Type": "Червоне",
                                    "Country": "Іспанія",
                                    "Price": "30.00"
                                },
                                {
                                    "SaleID": "17",
                                    "WineID": "1",
                                    "SaleDate": "2023-10-01",
                                    "QuantitySold": "3",
                                    "TotalAmount": "150.00",
                                    "CustomerID": "2",
                                    "ID": "1",
                                    "Name": "Chateau Margaux",
                                    "Description": "Червоне вино класу Grand Cru",
                                    "Type": "Червоне",
                                    "Country": "Франція",
                                    "Price": "500.00"
                                },
                                {
                                    "SaleID": "19",
                                    "WineID": "4",
                                    "SaleDate": "2023-10-03",
                                    "QuantitySold": "1",
                                    "TotalAmount": "30.00",
                                    "CustomerID": "4",
                                    "ID": "4",
                                    "Name": "Мерло",
                                    "Description": "Червоне вино",
                                    "Type": "Червоне",
                                    "Country": "Іспанія",
                                    "Price": "30.00"
                                },
                                {
                                    "SaleID": "22",
                                    "WineID": "1",
                                    "SaleDate": "2023-10-06",
                                    "QuantitySold": "3",
                                    "TotalAmount": "150.00",
                                    "CustomerID": "2",
                                    "ID": "1",
                                    "Name": "Chateau Margaux",
                                    "Description": "Червоне вино класу Grand Cru",
                                    "Type": "Червоне",
                                    "Country": "Франція",
                                    "Price": "500.00"
                                },
                                {
                                    "SaleID": "24",
                                    "WineID": "4",
                                    "SaleDate": "2023-10-08",
                                    "QuantitySold": "1",
                                    "TotalAmount": "30.00",
                                    "CustomerID": "4",
                                    "ID": "4",
                                    "Name": "Мерло",
                                    "Description": "Червоне вино",
                                    "Type": "Червоне",
                                    "Country": "Іспанія",
                                    "Price": "30.00"
                                }
                            ]
                        },
                        "text/html": "<table><tr><th>SaleID</th><th>WineID</th><th>SaleDate</th><th>QuantitySold</th><th>TotalAmount</th><th>CustomerID</th><th>ID</th><th>Name</th><th>Description</th><th>Type</th><th>Country</th><th>Price</th></tr><tr><td>7</td><td>1</td><td>2023-09-21</td><td>3</td><td>150.00</td><td>2</td><td>1</td><td>Chateau Margaux</td><td>Червоне вино класу Grand Cru</td><td>Червоне</td><td>Франція</td><td>500.00</td></tr><tr><td>9</td><td>4</td><td>2023-09-23</td><td>1</td><td>30.00</td><td>4</td><td>4</td><td>Мерло</td><td>Червоне вино</td><td>Червоне</td><td>Іспанія</td><td>30.00</td></tr><tr><td>12</td><td>1</td><td>2023-09-26</td><td>3</td><td>150.00</td><td>2</td><td>1</td><td>Chateau Margaux</td><td>Червоне вино класу Grand Cru</td><td>Червоне</td><td>Франція</td><td>500.00</td></tr><tr><td>14</td><td>4</td><td>2023-09-28</td><td>1</td><td>30.00</td><td>4</td><td>4</td><td>Мерло</td><td>Червоне вино</td><td>Червоне</td><td>Іспанія</td><td>30.00</td></tr><tr><td>17</td><td>1</td><td>2023-10-01</td><td>3</td><td>150.00</td><td>2</td><td>1</td><td>Chateau Margaux</td><td>Червоне вино класу Grand Cru</td><td>Червоне</td><td>Франція</td><td>500.00</td></tr><tr><td>19</td><td>4</td><td>2023-10-03</td><td>1</td><td>30.00</td><td>4</td><td>4</td><td>Мерло</td><td>Червоне вино</td><td>Червоне</td><td>Іспанія</td><td>30.00</td></tr><tr><td>22</td><td>1</td><td>2023-10-06</td><td>3</td><td>150.00</td><td>2</td><td>1</td><td>Chateau Margaux</td><td>Червоне вино класу Grand Cru</td><td>Червоне</td><td>Франція</td><td>500.00</td></tr><tr><td>24</td><td>4</td><td>2023-10-08</td><td>1</td><td>30.00</td><td>4</td><td>4</td><td>Мерло</td><td>Червоне вино</td><td>Червоне</td><td>Іспанія</td><td>30.00</td></tr></table>"
                    },
                    "metadata": {}
                }
            ],
            "execution_count": 6
        },
        {
            "cell_type": "markdown",
            "source": [
                "<span style=\"background-color: transparent; color: rgb(67, 67, 67); font-family: georgia, times, &quot;times new roman&quot;, serif; font-size: 20px; white-space: break-spaces; caret-color: rgb(21, 21, 21);\">2. Знайдіть всіх клієнтів, які здійснили більше ніж одну покупку, та виведіть їхні імена і кількість покупок.2/</span>"
            ],
            "metadata": {
                "azdata_cell_guid": "8b93b833-bc04-42f3-a32a-b7c880c64b52"
            },
            "attachments": {}
        },
        {
            "cell_type": "code",
            "source": [
                "SELECT Customers.FirstName, Customers.LastName, COUNT(Sales.SaleID) AS PurchaseCount\n",
                "FROM Sales\n",
                "LEFT JOIN Customers ON Sales.CustomerID = Customers.CustomerID\n",
                "GROUP BY Customers.CustomerID, Customers.FirstName, Customers.LastName \n",
                "HAVING COUNT(Sales.SaleID) > 1"
            ],
            "metadata": {
                "azdata_cell_guid": "2d197edf-a55a-4143-903c-98d77500c816",
                "language": "sql"
            },
            "outputs": [
                {
                    "output_type": "display_data",
                    "data": {
                        "text/html": "(Затронуто строк: 5)"
                    },
                    "metadata": {}
                },
                {
                    "output_type": "display_data",
                    "data": {
                        "text/html": "Общее время выполнения: 00:00:00.060"
                    },
                    "metadata": {}
                },
                {
                    "output_type": "execute_result",
                    "metadata": {},
                    "execution_count": 9,
                    "data": {
                        "application/vnd.dataresource+json": {
                            "schema": {
                                "fields": [
                                    {
                                        "name": "FirstName"
                                    },
                                    {
                                        "name": "LastName"
                                    },
                                    {
                                        "name": "PurchaseCount"
                                    }
                                ]
                            },
                            "data": [
                                {
                                    "FirstName": "Гаррі",
                                    "LastName": "Поттер",
                                    "PurchaseCount": "4"
                                },
                                {
                                    "FirstName": "Герміона",
                                    "LastName": "Грейнджер",
                                    "PurchaseCount": "4"
                                },
                                {
                                    "FirstName": "Рон",
                                    "LastName": "Уізлі",
                                    "PurchaseCount": "4"
                                },
                                {
                                    "FirstName": "Луна",
                                    "LastName": "Лавґуд",
                                    "PurchaseCount": "4"
                                },
                                {
                                    "FirstName": "Сіріус",
                                    "LastName": "Блек",
                                    "PurchaseCount": "4"
                                }
                            ]
                        },
                        "text/html": [
                            "<table>",
                            "<tr><th>FirstName</th><th>LastName</th><th>PurchaseCount</th></tr>",
                            "<tr><td>Гаррі</td><td>Поттер</td><td>4</td></tr>",
                            "<tr><td>Герміона</td><td>Грейнджер</td><td>4</td></tr>",
                            "<tr><td>Рон</td><td>Уізлі</td><td>4</td></tr>",
                            "<tr><td>Луна</td><td>Лавґуд</td><td>4</td></tr>",
                            "<tr><td>Сіріус</td><td>Блек</td><td>4</td></tr>",
                            "</table>"
                        ]
                    }
                }
            ],
            "execution_count": 9
        },
        {
            "cell_type": "markdown",
            "source": [
                "<span style=\"background-color: transparent; color: rgb(67, 67, 67); font-family: georgia, times, &quot;times new roman&quot;, serif; font-size: 20px; white-space: break-spaces; caret-color: rgb(21, 21, 21);\">3. Знайдіть всі вина, які було продано, разом з інформацією про їхніх покупців. Виведіть також вина, які не було продано.</span>"
            ],
            "metadata": {
                "azdata_cell_guid": "cd3c9b0d-c7d4-4ec7-8207-905a201fb20f"
            },
            "attachments": {}
        },
        {
            "cell_type": "code",
            "source": [
                "SELECT Wine.Name, Sales.SaleDate, Customers.*\n",
                "FROM Sales\n",
                "LEFT JOIN Customers ON Sales.CustomerID = Customers.CustomerID\n",
                "LEFT JOIN Wine ON Wine.ID = Sales.WineID\n",
                "\n",
                "SELECT Wine.Name, SUM(Purchases.QuantityPurchased) - SUM(Sales.QuantitySold) AS Storage\n",
                "FROM Wine\n",
                "JOIN Purchases ON Wine.ID = Purchases.WineID\n",
                "JOIN Sales ON Wine.ID = Sales.WineID\n",
                "GROUP BY Wine.Name\n",
                "HAVING SUM(Purchases.QuantityPurchased) - SUM(Sales.QuantitySold) > 0"
            ],
            "metadata": {
                "azdata_cell_guid": "99753dd8-318c-46cf-84a8-9c4c01dd682f",
                "language": "sql",
                "tags": []
            },
            "outputs": [
                {
                    "output_type": "display_data",
                    "data": {
                        "text/html": "(Затронуто строк: 20)"
                    },
                    "metadata": {}
                },
                {
                    "output_type": "display_data",
                    "data": {
                        "text/html": "(Затронуто строк: 0)"
                    },
                    "metadata": {}
                },
                {
                    "output_type": "display_data",
                    "data": {
                        "text/html": "Общее время выполнения: 00:00:00.061"
                    },
                    "metadata": {}
                },
                {
                    "output_type": "execute_result",
                    "metadata": {},
                    "execution_count": 53,
                    "data": {
                        "application/vnd.dataresource+json": {
                            "schema": {
                                "fields": [
                                    {
                                        "name": "Name"
                                    },
                                    {
                                        "name": "SaleDate"
                                    },
                                    {
                                        "name": "CustomerID"
                                    },
                                    {
                                        "name": "FirstName"
                                    },
                                    {
                                        "name": "LastName"
                                    },
                                    {
                                        "name": "Email"
                                    },
                                    {
                                        "name": "Phone"
                                    },
                                    {
                                        "name": "Address"
                                    }
                                ]
                            },
                            "data": [
                                {
                                    "Name": "Prosecco Extra Dry",
                                    "SaleDate": "2023-09-20",
                                    "CustomerID": "1",
                                    "FirstName": "Гаррі",
                                    "LastName": "Поттер",
                                    "Email": "harry@example.com",
                                    "Phone": "+380123456789",
                                    "Address": "4 Привідна вулиця, Лондон"
                                },
                                {
                                    "Name": "Chateau Margaux",
                                    "SaleDate": "2023-09-21",
                                    "CustomerID": "2",
                                    "FirstName": "Герміона",
                                    "LastName": "Грейнджер",
                                    "Email": "hermione@example.com",
                                    "Phone": "+380987654321",
                                    "Address": "7 Дубова вулиця, Лондон"
                                },
                                {
                                    "Name": "Chardonnay Reserve",
                                    "SaleDate": "2023-09-22",
                                    "CustomerID": "3",
                                    "FirstName": "Рон",
                                    "LastName": "Уізлі",
                                    "Email": "ron@example.com",
                                    "Phone": "+380567890123",
                                    "Address": "12 Бурхлива вулиця, Лондон"
                                },
                                {
                                    "Name": "Мерло",
                                    "SaleDate": "2023-09-23",
                                    "CustomerID": "4",
                                    "FirstName": "Луна",
                                    "LastName": "Лавґуд",
                                    "Email": "luna@example.com",
                                    "Phone": "+3801111222333",
                                    "Address": "23 Дивовижна вулиця, Лондон"
                                },
                                {
                                    "Name": "Sauvignon Blanc",
                                    "SaleDate": "2023-09-24",
                                    "CustomerID": "5",
                                    "FirstName": "Сіріус",
                                    "LastName": "Блек",
                                    "Email": "sirius@example.com",
                                    "Phone": "NULL",
                                    "Address": "10 Відьминська вулиця, Лондон"
                                },
                                {
                                    "Name": "Prosecco Extra Dry",
                                    "SaleDate": "2023-09-25",
                                    "CustomerID": "1",
                                    "FirstName": "Гаррі",
                                    "LastName": "Поттер",
                                    "Email": "harry@example.com",
                                    "Phone": "+380123456789",
                                    "Address": "4 Привідна вулиця, Лондон"
                                },
                                {
                                    "Name": "Chateau Margaux",
                                    "SaleDate": "2023-09-26",
                                    "CustomerID": "2",
                                    "FirstName": "Герміона",
                                    "LastName": "Грейнджер",
                                    "Email": "hermione@example.com",
                                    "Phone": "+380987654321",
                                    "Address": "7 Дубова вулиця, Лондон"
                                },
                                {
                                    "Name": "Chardonnay Reserve",
                                    "SaleDate": "2023-09-27",
                                    "CustomerID": "3",
                                    "FirstName": "Рон",
                                    "LastName": "Уізлі",
                                    "Email": "ron@example.com",
                                    "Phone": "+380567890123",
                                    "Address": "12 Бурхлива вулиця, Лондон"
                                },
                                {
                                    "Name": "Мерло",
                                    "SaleDate": "2023-09-28",
                                    "CustomerID": "4",
                                    "FirstName": "Луна",
                                    "LastName": "Лавґуд",
                                    "Email": "luna@example.com",
                                    "Phone": "+3801111222333",
                                    "Address": "23 Дивовижна вулиця, Лондон"
                                },
                                {
                                    "Name": "Sauvignon Blanc",
                                    "SaleDate": "2023-09-29",
                                    "CustomerID": "5",
                                    "FirstName": "Сіріус",
                                    "LastName": "Блек",
                                    "Email": "sirius@example.com",
                                    "Phone": "NULL",
                                    "Address": "10 Відьминська вулиця, Лондон"
                                },
                                {
                                    "Name": "Prosecco Extra Dry",
                                    "SaleDate": "2023-09-30",
                                    "CustomerID": "1",
                                    "FirstName": "Гаррі",
                                    "LastName": "Поттер",
                                    "Email": "harry@example.com",
                                    "Phone": "+380123456789",
                                    "Address": "4 Привідна вулиця, Лондон"
                                },
                                {
                                    "Name": "Chateau Margaux",
                                    "SaleDate": "2023-10-01",
                                    "CustomerID": "2",
                                    "FirstName": "Герміона",
                                    "LastName": "Грейнджер",
                                    "Email": "hermione@example.com",
                                    "Phone": "+380987654321",
                                    "Address": "7 Дубова вулиця, Лондон"
                                },
                                {
                                    "Name": "Chardonnay Reserve",
                                    "SaleDate": "2023-10-02",
                                    "CustomerID": "3",
                                    "FirstName": "Рон",
                                    "LastName": "Уізлі",
                                    "Email": "ron@example.com",
                                    "Phone": "+380567890123",
                                    "Address": "12 Бурхлива вулиця, Лондон"
                                },
                                {
                                    "Name": "Мерло",
                                    "SaleDate": "2023-10-03",
                                    "CustomerID": "4",
                                    "FirstName": "Луна",
                                    "LastName": "Лавґуд",
                                    "Email": "luna@example.com",
                                    "Phone": "+3801111222333",
                                    "Address": "23 Дивовижна вулиця, Лондон"
                                },
                                {
                                    "Name": "Sauvignon Blanc",
                                    "SaleDate": "2023-10-04",
                                    "CustomerID": "5",
                                    "FirstName": "Сіріус",
                                    "LastName": "Блек",
                                    "Email": "sirius@example.com",
                                    "Phone": "NULL",
                                    "Address": "10 Відьминська вулиця, Лондон"
                                },
                                {
                                    "Name": "Prosecco Extra Dry",
                                    "SaleDate": "2023-10-05",
                                    "CustomerID": "1",
                                    "FirstName": "Гаррі",
                                    "LastName": "Поттер",
                                    "Email": "harry@example.com",
                                    "Phone": "+380123456789",
                                    "Address": "4 Привідна вулиця, Лондон"
                                },
                                {
                                    "Name": "Chateau Margaux",
                                    "SaleDate": "2023-10-06",
                                    "CustomerID": "2",
                                    "FirstName": "Герміона",
                                    "LastName": "Грейнджер",
                                    "Email": "hermione@example.com",
                                    "Phone": "+380987654321",
                                    "Address": "7 Дубова вулиця, Лондон"
                                },
                                {
                                    "Name": "Chardonnay Reserve",
                                    "SaleDate": "2023-10-07",
                                    "CustomerID": "3",
                                    "FirstName": "Рон",
                                    "LastName": "Уізлі",
                                    "Email": "ron@example.com",
                                    "Phone": "+380567890123",
                                    "Address": "12 Бурхлива вулиця, Лондон"
                                },
                                {
                                    "Name": "Мерло",
                                    "SaleDate": "2023-10-08",
                                    "CustomerID": "4",
                                    "FirstName": "Луна",
                                    "LastName": "Лавґуд",
                                    "Email": "luna@example.com",
                                    "Phone": "+3801111222333",
                                    "Address": "23 Дивовижна вулиця, Лондон"
                                },
                                {
                                    "Name": "Sauvignon Blanc",
                                    "SaleDate": "2023-10-09",
                                    "CustomerID": "5",
                                    "FirstName": "Сіріус",
                                    "LastName": "Блек",
                                    "Email": "sirius@example.com",
                                    "Phone": "NULL",
                                    "Address": "10 Відьминська вулиця, Лондон"
                                }
                            ]
                        },
                        "text/html": [
                            "<table>",
                            "<tr><th>Name</th><th>SaleDate</th><th>CustomerID</th><th>FirstName</th><th>LastName</th><th>Email</th><th>Phone</th><th>Address</th></tr>",
                            "<tr><td>Prosecco Extra Dry</td><td>2023-09-20</td><td>1</td><td>Гаррі</td><td>Поттер</td><td>harry@example.com</td><td>+380123456789</td><td>4 Привідна вулиця, Лондон</td></tr>",
                            "<tr><td>Chateau Margaux</td><td>2023-09-21</td><td>2</td><td>Герміона</td><td>Грейнджер</td><td>hermione@example.com</td><td>+380987654321</td><td>7 Дубова вулиця, Лондон</td></tr>",
                            "<tr><td>Chardonnay Reserve</td><td>2023-09-22</td><td>3</td><td>Рон</td><td>Уізлі</td><td>ron@example.com</td><td>+380567890123</td><td>12 Бурхлива вулиця, Лондон</td></tr>",
                            "<tr><td>Мерло</td><td>2023-09-23</td><td>4</td><td>Луна</td><td>Лавґуд</td><td>luna@example.com</td><td>+3801111222333</td><td>23 Дивовижна вулиця, Лондон</td></tr>",
                            "<tr><td>Sauvignon Blanc</td><td>2023-09-24</td><td>5</td><td>Сіріус</td><td>Блек</td><td>sirius@example.com</td><td>NULL</td><td>10 Відьминська вулиця, Лондон</td></tr>",
                            "<tr><td>Prosecco Extra Dry</td><td>2023-09-25</td><td>1</td><td>Гаррі</td><td>Поттер</td><td>harry@example.com</td><td>+380123456789</td><td>4 Привідна вулиця, Лондон</td></tr>",
                            "<tr><td>Chateau Margaux</td><td>2023-09-26</td><td>2</td><td>Герміона</td><td>Грейнджер</td><td>hermione@example.com</td><td>+380987654321</td><td>7 Дубова вулиця, Лондон</td></tr>",
                            "<tr><td>Chardonnay Reserve</td><td>2023-09-27</td><td>3</td><td>Рон</td><td>Уізлі</td><td>ron@example.com</td><td>+380567890123</td><td>12 Бурхлива вулиця, Лондон</td></tr>",
                            "<tr><td>Мерло</td><td>2023-09-28</td><td>4</td><td>Луна</td><td>Лавґуд</td><td>luna@example.com</td><td>+3801111222333</td><td>23 Дивовижна вулиця, Лондон</td></tr>",
                            "<tr><td>Sauvignon Blanc</td><td>2023-09-29</td><td>5</td><td>Сіріус</td><td>Блек</td><td>sirius@example.com</td><td>NULL</td><td>10 Відьминська вулиця, Лондон</td></tr>",
                            "<tr><td>Prosecco Extra Dry</td><td>2023-09-30</td><td>1</td><td>Гаррі</td><td>Поттер</td><td>harry@example.com</td><td>+380123456789</td><td>4 Привідна вулиця, Лондон</td></tr>",
                            "<tr><td>Chateau Margaux</td><td>2023-10-01</td><td>2</td><td>Герміона</td><td>Грейнджер</td><td>hermione@example.com</td><td>+380987654321</td><td>7 Дубова вулиця, Лондон</td></tr>",
                            "<tr><td>Chardonnay Reserve</td><td>2023-10-02</td><td>3</td><td>Рон</td><td>Уізлі</td><td>ron@example.com</td><td>+380567890123</td><td>12 Бурхлива вулиця, Лондон</td></tr>",
                            "<tr><td>Мерло</td><td>2023-10-03</td><td>4</td><td>Луна</td><td>Лавґуд</td><td>luna@example.com</td><td>+3801111222333</td><td>23 Дивовижна вулиця, Лондон</td></tr>",
                            "<tr><td>Sauvignon Blanc</td><td>2023-10-04</td><td>5</td><td>Сіріус</td><td>Блек</td><td>sirius@example.com</td><td>NULL</td><td>10 Відьминська вулиця, Лондон</td></tr>",
                            "<tr><td>Prosecco Extra Dry</td><td>2023-10-05</td><td>1</td><td>Гаррі</td><td>Поттер</td><td>harry@example.com</td><td>+380123456789</td><td>4 Привідна вулиця, Лондон</td></tr>",
                            "<tr><td>Chateau Margaux</td><td>2023-10-06</td><td>2</td><td>Герміона</td><td>Грейнджер</td><td>hermione@example.com</td><td>+380987654321</td><td>7 Дубова вулиця, Лондон</td></tr>",
                            "<tr><td>Chardonnay Reserve</td><td>2023-10-07</td><td>3</td><td>Рон</td><td>Уізлі</td><td>ron@example.com</td><td>+380567890123</td><td>12 Бурхлива вулиця, Лондон</td></tr>",
                            "<tr><td>Мерло</td><td>2023-10-08</td><td>4</td><td>Луна</td><td>Лавґуд</td><td>luna@example.com</td><td>+3801111222333</td><td>23 Дивовижна вулиця, Лондон</td></tr>",
                            "<tr><td>Sauvignon Blanc</td><td>2023-10-09</td><td>5</td><td>Сіріус</td><td>Блек</td><td>sirius@example.com</td><td>NULL</td><td>10 Відьминська вулиця, Лондон</td></tr>",
                            "</table>"
                        ]
                    }
                },
                {
                    "output_type": "execute_result",
                    "metadata": {},
                    "execution_count": 53,
                    "data": {
                        "application/vnd.dataresource+json": {
                            "schema": {
                                "fields": [
                                    {
                                        "name": "Name"
                                    },
                                    {
                                        "name": "Storage"
                                    }
                                ]
                            },
                            "data": []
                        },
                        "text/html": [
                            "<table>",
                            "<tr><th>Name</th><th>Storage</th></tr>",
                            "</table>"
                        ]
                    }
                }
            ],
            "execution_count": 53
        },
        {
            "cell_type": "markdown",
            "source": [
                "<span style=\"background-color: transparent; color: rgb(67, 67, 67); font-family: georgia, times, &quot;times new roman&quot;, serif; font-size: 20px; white-space: break-spaces; caret-color: rgb(21, 21, 21);\">4. Знайдіть всі вина, які було продано, разом з інформацією про їхніх покупців. Виведіть тільки ті вина, для яких кількість покупок перевищує два.</span>"
            ],
            "metadata": {
                "azdata_cell_guid": "01801fd0-930f-4b4a-9b42-0763408f8123"
            },
            "attachments": {}
        },
        {
            "cell_type": "code",
            "source": [
                "SELECT Wine.Name, Customers.FirstName, Customers.LastName, Customers.Email, Customers.Phone\n",
                "FROM Sales\n",
                "LEFT JOIN Customers ON Sales.CustomerID = Customers.CustomerID\n",
                "LEFT JOIN Wine ON Wine.ID = Sales.WineID\n",
                "GROUP BY Wine.Name, Customers.FirstName, Customers.LastName, Customers.Email, Customers.Phone\n",
                "HAVING COUNT(Sales.SaleID) > 2"
            ],
            "metadata": {
                "azdata_cell_guid": "9480cc43-a4e6-4285-ae7f-843ad6a1bcf7",
                "language": "sql"
            },
            "outputs": [
                {
                    "output_type": "display_data",
                    "data": {
                        "text/html": "(Затронуто строк: 5)"
                    },
                    "metadata": {}
                },
                {
                    "output_type": "display_data",
                    "data": {
                        "text/html": "Общее время выполнения: 00:00:00.065"
                    },
                    "metadata": {}
                },
                {
                    "output_type": "execute_result",
                    "metadata": {},
                    "execution_count": 64,
                    "data": {
                        "application/vnd.dataresource+json": {
                            "schema": {
                                "fields": [
                                    {
                                        "name": "Name"
                                    },
                                    {
                                        "name": "FirstName"
                                    },
                                    {
                                        "name": "LastName"
                                    },
                                    {
                                        "name": "Email"
                                    },
                                    {
                                        "name": "Phone"
                                    }
                                ]
                            },
                            "data": [
                                {
                                    "Name": "Chardonnay Reserve",
                                    "FirstName": "Рон",
                                    "LastName": "Уізлі",
                                    "Email": "ron@example.com",
                                    "Phone": "+380567890123"
                                },
                                {
                                    "Name": "Chateau Margaux",
                                    "FirstName": "Герміона",
                                    "LastName": "Грейнджер",
                                    "Email": "hermione@example.com",
                                    "Phone": "+380987654321"
                                },
                                {
                                    "Name": "Prosecco Extra Dry",
                                    "FirstName": "Гаррі",
                                    "LastName": "Поттер",
                                    "Email": "harry@example.com",
                                    "Phone": "+380123456789"
                                },
                                {
                                    "Name": "Sauvignon Blanc",
                                    "FirstName": "Сіріус",
                                    "LastName": "Блек",
                                    "Email": "sirius@example.com",
                                    "Phone": "NULL"
                                },
                                {
                                    "Name": "Мерло",
                                    "FirstName": "Луна",
                                    "LastName": "Лавґуд",
                                    "Email": "luna@example.com",
                                    "Phone": "+3801111222333"
                                }
                            ]
                        },
                        "text/html": [
                            "<table>",
                            "<tr><th>Name</th><th>FirstName</th><th>LastName</th><th>Email</th><th>Phone</th></tr>",
                            "<tr><td>Chardonnay Reserve</td><td>Рон</td><td>Уізлі</td><td>ron@example.com</td><td>+380567890123</td></tr>",
                            "<tr><td>Chateau Margaux</td><td>Герміона</td><td>Грейнджер</td><td>hermione@example.com</td><td>+380987654321</td></tr>",
                            "<tr><td>Prosecco Extra Dry</td><td>Гаррі</td><td>Поттер</td><td>harry@example.com</td><td>+380123456789</td></tr>",
                            "<tr><td>Sauvignon Blanc</td><td>Сіріус</td><td>Блек</td><td>sirius@example.com</td><td>NULL</td></tr>",
                            "<tr><td>Мерло</td><td>Луна</td><td>Лавґуд</td><td>luna@example.com</td><td>+3801111222333</td></tr>",
                            "</table>"
                        ]
                    }
                }
            ],
            "execution_count": 64
        },
        {
            "cell_type": "markdown",
            "source": [
                "<span style=\"background-color: transparent; color: rgb(67, 67, 67); font-family: georgia, times, &quot;times new roman&quot;, serif; font-size: 20px; white-space: break-spaces; caret-color: rgb(21, 21, 21);\">5. Знайдіть середню ціну вина для кожної країни виробництва та виведіть результат в порядку зменшення середньої ціни.</span>"
            ],
            "metadata": {
                "azdata_cell_guid": "7616c392-e24f-492f-8a7a-c643c11eccc2"
            },
            "attachments": {}
        },
        {
            "cell_type": "code",
            "source": [
                "SELECT Country, AVG(Price) AS AvgPrice\n",
                "FROM Wine\n",
                "GROUP BY Wine.Country\n",
                "ORDER BY AvgPrice DESC"
            ],
            "metadata": {
                "azdata_cell_guid": "34f94d45-436d-4aed-98f0-530c5b09969c",
                "language": "sql"
            },
            "outputs": [
                {
                    "output_type": "display_data",
                    "data": {
                        "text/html": "(Затронуто строк: 5)"
                    },
                    "metadata": {}
                },
                {
                    "output_type": "display_data",
                    "data": {
                        "text/html": "Общее время выполнения: 00:00:00.069"
                    },
                    "metadata": {}
                },
                {
                    "output_type": "execute_result",
                    "metadata": {},
                    "execution_count": 26,
                    "data": {
                        "application/vnd.dataresource+json": {
                            "schema": {
                                "fields": [
                                    {
                                        "name": "Country"
                                    },
                                    {
                                        "name": "AvgPrice"
                                    }
                                ]
                            },
                            "data": [
                                {
                                    "Country": "Франція",
                                    "AvgPrice": "500.000000"
                                },
                                {
                                    "Country": "Італія",
                                    "AvgPrice": "107.500000"
                                },
                                {
                                    "Country": "США",
                                    "AvgPrice": "45.000000"
                                },
                                {
                                    "Country": "Нова Зеландія",
                                    "AvgPrice": "40.000000"
                                },
                                {
                                    "Country": "Іспанія",
                                    "AvgPrice": "30.000000"
                                }
                            ]
                        },
                        "text/html": [
                            "<table>",
                            "<tr><th>Country</th><th>AvgPrice</th></tr>",
                            "<tr><td>Франція</td><td>500.000000</td></tr>",
                            "<tr><td>Італія</td><td>107.500000</td></tr>",
                            "<tr><td>США</td><td>45.000000</td></tr>",
                            "<tr><td>Нова Зеландія</td><td>40.000000</td></tr>",
                            "<tr><td>Іспанія</td><td>30.000000</td></tr>",
                            "</table>"
                        ]
                    }
                }
            ],
            "execution_count": 26
        },
        {
            "cell_type": "markdown",
            "source": [
                "<span style=\"background-color: transparent; color: rgb(67, 67, 67); font-family: georgia, times, &quot;times new roman&quot;, serif; font-size: 20px; white-space: break-spaces; caret-color: rgb(21, 21, 21);\">6. Знайдіть всі вина, які були продані або закуплені, разом з інформацією про ці операції. Виведіть також вина, які не було ні продано, ні закуплено.</span>"
            ],
            "metadata": {
                "azdata_cell_guid": "7b24e66e-95f8-4d21-b50d-38be0aabc88b"
            },
            "attachments": {}
        },
        {
            "cell_type": "code",
            "source": [
                "SELECT Wine.*, Sales.SaleDate, Purchases.PurchaseDate\n",
                "FROM Wine\n",
                "LEFT JOIN Sales ON Wine.ID = Sales.WineID\n",
                "LEFT JOIN Purchases ON Wine.ID = Purchases.WineID\n",
                "WHERE Sales.WineID IS NOT NULL OR Purchases.WineID IS NOT NULL\n",
                "\n",
                "SELECT Wine.*, Sales.SaleDate, Purchases.PurchaseDate\n",
                "FROM Wine\n",
                "LEFT JOIN Sales ON Wine.ID = Sales.WineID\n",
                "LEFT JOIN Purchases ON Wine.ID = Purchases.WineID\n",
                "WHERE Sales.WineID IS NULL AND Purchases.WineID IS NULL"
            ],
            "metadata": {
                "azdata_cell_guid": "910b3222-4e40-474b-84b2-fff8148fc4c2",
                "language": "sql"
            },
            "outputs": [
                {
                    "output_type": "display_data",
                    "data": {
                        "text/html": "(Затронуто строк: 68)"
                    },
                    "metadata": {}
                },
                {
                    "output_type": "display_data",
                    "data": {
                        "text/html": "(Затронута одна строка)"
                    },
                    "metadata": {}
                },
                {
                    "output_type": "display_data",
                    "data": {
                        "text/html": "Общее время выполнения: 00:00:00.063"
                    },
                    "metadata": {}
                },
                {
                    "output_type": "execute_result",
                    "metadata": {},
                    "execution_count": 67,
                    "data": {
                        "application/vnd.dataresource+json": {
                            "schema": {
                                "fields": [
                                    {
                                        "name": "ID"
                                    },
                                    {
                                        "name": "Name"
                                    },
                                    {
                                        "name": "Description"
                                    },
                                    {
                                        "name": "Type"
                                    },
                                    {
                                        "name": "Country"
                                    },
                                    {
                                        "name": "Price"
                                    },
                                    {
                                        "name": "SaleDate"
                                    },
                                    {
                                        "name": "PurchaseDate"
                                    }
                                ]
                            },
                            "data": [
                                {
                                    "ID": "1",
                                    "Name": "Chateau Margaux",
                                    "Description": "Червоне вино класу Grand Cru",
                                    "Type": "Червоне",
                                    "Country": "Франція",
                                    "Price": "500.00",
                                    "SaleDate": "2023-09-21",
                                    "PurchaseDate": "2023-09-21"
                                },
                                {
                                    "ID": "1",
                                    "Name": "Chateau Margaux",
                                    "Description": "Червоне вино класу Grand Cru",
                                    "Type": "Червоне",
                                    "Country": "Франція",
                                    "Price": "500.00",
                                    "SaleDate": "2023-09-21",
                                    "PurchaseDate": "2023-09-26"
                                },
                                {
                                    "ID": "1",
                                    "Name": "Chateau Margaux",
                                    "Description": "Червоне вино класу Grand Cru",
                                    "Type": "Червоне",
                                    "Country": "Франція",
                                    "Price": "500.00",
                                    "SaleDate": "2023-09-21",
                                    "PurchaseDate": "2023-10-01"
                                },
                                {
                                    "ID": "1",
                                    "Name": "Chateau Margaux",
                                    "Description": "Червоне вино класу Grand Cru",
                                    "Type": "Червоне",
                                    "Country": "Франція",
                                    "Price": "500.00",
                                    "SaleDate": "2023-09-21",
                                    "PurchaseDate": "2023-10-06"
                                },
                                {
                                    "ID": "1",
                                    "Name": "Chateau Margaux",
                                    "Description": "Червоне вино класу Grand Cru",
                                    "Type": "Червоне",
                                    "Country": "Франція",
                                    "Price": "500.00",
                                    "SaleDate": "2023-09-26",
                                    "PurchaseDate": "2023-09-21"
                                },
                                {
                                    "ID": "1",
                                    "Name": "Chateau Margaux",
                                    "Description": "Червоне вино класу Grand Cru",
                                    "Type": "Червоне",
                                    "Country": "Франція",
                                    "Price": "500.00",
                                    "SaleDate": "2023-09-26",
                                    "PurchaseDate": "2023-09-26"
                                },
                                {
                                    "ID": "1",
                                    "Name": "Chateau Margaux",
                                    "Description": "Червоне вино класу Grand Cru",
                                    "Type": "Червоне",
                                    "Country": "Франція",
                                    "Price": "500.00",
                                    "SaleDate": "2023-09-26",
                                    "PurchaseDate": "2023-10-01"
                                },
                                {
                                    "ID": "1",
                                    "Name": "Chateau Margaux",
                                    "Description": "Червоне вино класу Grand Cru",
                                    "Type": "Червоне",
                                    "Country": "Франція",
                                    "Price": "500.00",
                                    "SaleDate": "2023-09-26",
                                    "PurchaseDate": "2023-10-06"
                                },
                                {
                                    "ID": "1",
                                    "Name": "Chateau Margaux",
                                    "Description": "Червоне вино класу Grand Cru",
                                    "Type": "Червоне",
                                    "Country": "Франція",
                                    "Price": "500.00",
                                    "SaleDate": "2023-10-01",
                                    "PurchaseDate": "2023-09-21"
                                },
                                {
                                    "ID": "1",
                                    "Name": "Chateau Margaux",
                                    "Description": "Червоне вино класу Grand Cru",
                                    "Type": "Червоне",
                                    "Country": "Франція",
                                    "Price": "500.00",
                                    "SaleDate": "2023-10-01",
                                    "PurchaseDate": "2023-09-26"
                                },
                                {
                                    "ID": "1",
                                    "Name": "Chateau Margaux",
                                    "Description": "Червоне вино класу Grand Cru",
                                    "Type": "Червоне",
                                    "Country": "Франція",
                                    "Price": "500.00",
                                    "SaleDate": "2023-10-01",
                                    "PurchaseDate": "2023-10-01"
                                },
                                {
                                    "ID": "1",
                                    "Name": "Chateau Margaux",
                                    "Description": "Червоне вино класу Grand Cru",
                                    "Type": "Червоне",
                                    "Country": "Франція",
                                    "Price": "500.00",
                                    "SaleDate": "2023-10-01",
                                    "PurchaseDate": "2023-10-06"
                                },
                                {
                                    "ID": "1",
                                    "Name": "Chateau Margaux",
                                    "Description": "Червоне вино класу Grand Cru",
                                    "Type": "Червоне",
                                    "Country": "Франція",
                                    "Price": "500.00",
                                    "SaleDate": "2023-10-06",
                                    "PurchaseDate": "2023-09-21"
                                },
                                {
                                    "ID": "1",
                                    "Name": "Chateau Margaux",
                                    "Description": "Червоне вино класу Grand Cru",
                                    "Type": "Червоне",
                                    "Country": "Франція",
                                    "Price": "500.00",
                                    "SaleDate": "2023-10-06",
                                    "PurchaseDate": "2023-09-26"
                                },
                                {
                                    "ID": "1",
                                    "Name": "Chateau Margaux",
                                    "Description": "Червоне вино класу Grand Cru",
                                    "Type": "Червоне",
                                    "Country": "Франція",
                                    "Price": "500.00",
                                    "SaleDate": "2023-10-06",
                                    "PurchaseDate": "2023-10-01"
                                },
                                {
                                    "ID": "1",
                                    "Name": "Chateau Margaux",
                                    "Description": "Червоне вино класу Grand Cru",
                                    "Type": "Червоне",
                                    "Country": "Франція",
                                    "Price": "500.00",
                                    "SaleDate": "2023-10-06",
                                    "PurchaseDate": "2023-10-06"
                                },
                                {
                                    "ID": "2",
                                    "Name": "Chardonnay Reserve",
                                    "Description": "Біле вино з дубовим смаком",
                                    "Type": "Біле",
                                    "Country": "США",
                                    "Price": "45.00",
                                    "SaleDate": "2023-09-22",
                                    "PurchaseDate": "2023-09-22"
                                },
                                {
                                    "ID": "2",
                                    "Name": "Chardonnay Reserve",
                                    "Description": "Біле вино з дубовим смаком",
                                    "Type": "Біле",
                                    "Country": "США",
                                    "Price": "45.00",
                                    "SaleDate": "2023-09-22",
                                    "PurchaseDate": "2023-09-27"
                                },
                                {
                                    "ID": "2",
                                    "Name": "Chardonnay Reserve",
                                    "Description": "Біле вино з дубовим смаком",
                                    "Type": "Біле",
                                    "Country": "США",
                                    "Price": "45.00",
                                    "SaleDate": "2023-09-22",
                                    "PurchaseDate": "2023-10-02"
                                },
                                {
                                    "ID": "2",
                                    "Name": "Chardonnay Reserve",
                                    "Description": "Біле вино з дубовим смаком",
                                    "Type": "Біле",
                                    "Country": "США",
                                    "Price": "45.00",
                                    "SaleDate": "2023-09-27",
                                    "PurchaseDate": "2023-09-22"
                                },
                                {
                                    "ID": "2",
                                    "Name": "Chardonnay Reserve",
                                    "Description": "Біле вино з дубовим смаком",
                                    "Type": "Біле",
                                    "Country": "США",
                                    "Price": "45.00",
                                    "SaleDate": "2023-09-27",
                                    "PurchaseDate": "2023-09-27"
                                },
                                {
                                    "ID": "2",
                                    "Name": "Chardonnay Reserve",
                                    "Description": "Біле вино з дубовим смаком",
                                    "Type": "Біле",
                                    "Country": "США",
                                    "Price": "45.00",
                                    "SaleDate": "2023-09-27",
                                    "PurchaseDate": "2023-10-02"
                                },
                                {
                                    "ID": "2",
                                    "Name": "Chardonnay Reserve",
                                    "Description": "Біле вино з дубовим смаком",
                                    "Type": "Біле",
                                    "Country": "США",
                                    "Price": "45.00",
                                    "SaleDate": "2023-10-02",
                                    "PurchaseDate": "2023-09-22"
                                },
                                {
                                    "ID": "2",
                                    "Name": "Chardonnay Reserve",
                                    "Description": "Біле вино з дубовим смаком",
                                    "Type": "Біле",
                                    "Country": "США",
                                    "Price": "45.00",
                                    "SaleDate": "2023-10-02",
                                    "PurchaseDate": "2023-09-27"
                                },
                                {
                                    "ID": "2",
                                    "Name": "Chardonnay Reserve",
                                    "Description": "Біле вино з дубовим смаком",
                                    "Type": "Біле",
                                    "Country": "США",
                                    "Price": "45.00",
                                    "SaleDate": "2023-10-02",
                                    "PurchaseDate": "2023-10-02"
                                },
                                {
                                    "ID": "2",
                                    "Name": "Chardonnay Reserve",
                                    "Description": "Біле вино з дубовим смаком",
                                    "Type": "Біле",
                                    "Country": "США",
                                    "Price": "45.00",
                                    "SaleDate": "2023-10-07",
                                    "PurchaseDate": "2023-09-22"
                                },
                                {
                                    "ID": "2",
                                    "Name": "Chardonnay Reserve",
                                    "Description": "Біле вино з дубовим смаком",
                                    "Type": "Біле",
                                    "Country": "США",
                                    "Price": "45.00",
                                    "SaleDate": "2023-10-07",
                                    "PurchaseDate": "2023-09-27"
                                },
                                {
                                    "ID": "2",
                                    "Name": "Chardonnay Reserve",
                                    "Description": "Біле вино з дубовим смаком",
                                    "Type": "Біле",
                                    "Country": "США",
                                    "Price": "45.00",
                                    "SaleDate": "2023-10-07",
                                    "PurchaseDate": "2023-10-02"
                                },
                                {
                                    "ID": "3",
                                    "Name": "Prosecco Extra Dry",
                                    "Description": "Італійське ігристе вино",
                                    "Type": "Ігристе",
                                    "Country": "Італія",
                                    "Price": "25.00",
                                    "SaleDate": "2023-09-20",
                                    "PurchaseDate": "2023-09-20"
                                },
                                {
                                    "ID": "3",
                                    "Name": "Prosecco Extra Dry",
                                    "Description": "Італійське ігристе вино",
                                    "Type": "Ігристе",
                                    "Country": "Італія",
                                    "Price": "25.00",
                                    "SaleDate": "2023-09-20",
                                    "PurchaseDate": "2023-09-25"
                                },
                                {
                                    "ID": "3",
                                    "Name": "Prosecco Extra Dry",
                                    "Description": "Італійське ігристе вино",
                                    "Type": "Ігристе",
                                    "Country": "Італія",
                                    "Price": "25.00",
                                    "SaleDate": "2023-09-20",
                                    "PurchaseDate": "2023-09-30"
                                },
                                {
                                    "ID": "3",
                                    "Name": "Prosecco Extra Dry",
                                    "Description": "Італійське ігристе вино",
                                    "Type": "Ігристе",
                                    "Country": "Італія",
                                    "Price": "25.00",
                                    "SaleDate": "2023-09-20",
                                    "PurchaseDate": "2023-10-05"
                                },
                                {
                                    "ID": "3",
                                    "Name": "Prosecco Extra Dry",
                                    "Description": "Італійське ігристе вино",
                                    "Type": "Ігристе",
                                    "Country": "Італія",
                                    "Price": "25.00",
                                    "SaleDate": "2023-09-25",
                                    "PurchaseDate": "2023-09-20"
                                },
                                {
                                    "ID": "3",
                                    "Name": "Prosecco Extra Dry",
                                    "Description": "Італійське ігристе вино",
                                    "Type": "Ігристе",
                                    "Country": "Італія",
                                    "Price": "25.00",
                                    "SaleDate": "2023-09-25",
                                    "PurchaseDate": "2023-09-25"
                                },
                                {
                                    "ID": "3",
                                    "Name": "Prosecco Extra Dry",
                                    "Description": "Італійське ігристе вино",
                                    "Type": "Ігристе",
                                    "Country": "Італія",
                                    "Price": "25.00",
                                    "SaleDate": "2023-09-25",
                                    "PurchaseDate": "2023-09-30"
                                },
                                {
                                    "ID": "3",
                                    "Name": "Prosecco Extra Dry",
                                    "Description": "Італійське ігристе вино",
                                    "Type": "Ігристе",
                                    "Country": "Італія",
                                    "Price": "25.00",
                                    "SaleDate": "2023-09-25",
                                    "PurchaseDate": "2023-10-05"
                                },
                                {
                                    "ID": "3",
                                    "Name": "Prosecco Extra Dry",
                                    "Description": "Італійське ігристе вино",
                                    "Type": "Ігристе",
                                    "Country": "Італія",
                                    "Price": "25.00",
                                    "SaleDate": "2023-09-30",
                                    "PurchaseDate": "2023-09-20"
                                },
                                {
                                    "ID": "3",
                                    "Name": "Prosecco Extra Dry",
                                    "Description": "Італійське ігристе вино",
                                    "Type": "Ігристе",
                                    "Country": "Італія",
                                    "Price": "25.00",
                                    "SaleDate": "2023-09-30",
                                    "PurchaseDate": "2023-09-25"
                                },
                                {
                                    "ID": "3",
                                    "Name": "Prosecco Extra Dry",
                                    "Description": "Італійське ігристе вино",
                                    "Type": "Ігристе",
                                    "Country": "Італія",
                                    "Price": "25.00",
                                    "SaleDate": "2023-09-30",
                                    "PurchaseDate": "2023-09-30"
                                },
                                {
                                    "ID": "3",
                                    "Name": "Prosecco Extra Dry",
                                    "Description": "Італійське ігристе вино",
                                    "Type": "Ігристе",
                                    "Country": "Італія",
                                    "Price": "25.00",
                                    "SaleDate": "2023-09-30",
                                    "PurchaseDate": "2023-10-05"
                                },
                                {
                                    "ID": "3",
                                    "Name": "Prosecco Extra Dry",
                                    "Description": "Італійське ігристе вино",
                                    "Type": "Ігристе",
                                    "Country": "Італія",
                                    "Price": "25.00",
                                    "SaleDate": "2023-10-05",
                                    "PurchaseDate": "2023-09-20"
                                },
                                {
                                    "ID": "3",
                                    "Name": "Prosecco Extra Dry",
                                    "Description": "Італійське ігристе вино",
                                    "Type": "Ігристе",
                                    "Country": "Італія",
                                    "Price": "25.00",
                                    "SaleDate": "2023-10-05",
                                    "PurchaseDate": "2023-09-25"
                                },
                                {
                                    "ID": "3",
                                    "Name": "Prosecco Extra Dry",
                                    "Description": "Італійське ігристе вино",
                                    "Type": "Ігристе",
                                    "Country": "Італія",
                                    "Price": "25.00",
                                    "SaleDate": "2023-10-05",
                                    "PurchaseDate": "2023-09-30"
                                },
                                {
                                    "ID": "3",
                                    "Name": "Prosecco Extra Dry",
                                    "Description": "Італійське ігристе вино",
                                    "Type": "Ігристе",
                                    "Country": "Італія",
                                    "Price": "25.00",
                                    "SaleDate": "2023-10-05",
                                    "PurchaseDate": "2023-10-05"
                                },
                                {
                                    "ID": "4",
                                    "Name": "Мерло",
                                    "Description": "Червоне вино",
                                    "Type": "Червоне",
                                    "Country": "Іспанія",
                                    "Price": "30.00",
                                    "SaleDate": "2023-09-23",
                                    "PurchaseDate": "2023-09-23"
                                },
                                {
                                    "ID": "4",
                                    "Name": "Мерло",
                                    "Description": "Червоне вино",
                                    "Type": "Червоне",
                                    "Country": "Іспанія",
                                    "Price": "30.00",
                                    "SaleDate": "2023-09-23",
                                    "PurchaseDate": "2023-09-28"
                                },
                                {
                                    "ID": "4",
                                    "Name": "Мерло",
                                    "Description": "Червоне вино",
                                    "Type": "Червоне",
                                    "Country": "Іспанія",
                                    "Price": "30.00",
                                    "SaleDate": "2023-09-23",
                                    "PurchaseDate": "2023-10-03"
                                },
                                {
                                    "ID": "4",
                                    "Name": "Мерло",
                                    "Description": "Червоне вино",
                                    "Type": "Червоне",
                                    "Country": "Іспанія",
                                    "Price": "30.00",
                                    "SaleDate": "2023-09-28",
                                    "PurchaseDate": "2023-09-23"
                                },
                                {
                                    "ID": "4",
                                    "Name": "Мерло",
                                    "Description": "Червоне вино",
                                    "Type": "Червоне",
                                    "Country": "Іспанія",
                                    "Price": "30.00",
                                    "SaleDate": "2023-09-28",
                                    "PurchaseDate": "2023-09-28"
                                },
                                {
                                    "ID": "4",
                                    "Name": "Мерло",
                                    "Description": "Червоне вино",
                                    "Type": "Червоне",
                                    "Country": "Іспанія",
                                    "Price": "30.00",
                                    "SaleDate": "2023-09-28",
                                    "PurchaseDate": "2023-10-03"
                                },
                                {
                                    "ID": "4",
                                    "Name": "Мерло",
                                    "Description": "Червоне вино",
                                    "Type": "Червоне",
                                    "Country": "Іспанія",
                                    "Price": "30.00",
                                    "SaleDate": "2023-10-03",
                                    "PurchaseDate": "2023-09-23"
                                },
                                {
                                    "ID": "4",
                                    "Name": "Мерло",
                                    "Description": "Червоне вино",
                                    "Type": "Червоне",
                                    "Country": "Іспанія",
                                    "Price": "30.00",
                                    "SaleDate": "2023-10-03",
                                    "PurchaseDate": "2023-09-28"
                                },
                                {
                                    "ID": "4",
                                    "Name": "Мерло",
                                    "Description": "Червоне вино",
                                    "Type": "Червоне",
                                    "Country": "Іспанія",
                                    "Price": "30.00",
                                    "SaleDate": "2023-10-03",
                                    "PurchaseDate": "2023-10-03"
                                },
                                {
                                    "ID": "4",
                                    "Name": "Мерло",
                                    "Description": "Червоне вино",
                                    "Type": "Червоне",
                                    "Country": "Іспанія",
                                    "Price": "30.00",
                                    "SaleDate": "2023-10-08",
                                    "PurchaseDate": "2023-09-23"
                                },
                                {
                                    "ID": "4",
                                    "Name": "Мерло",
                                    "Description": "Червоне вино",
                                    "Type": "Червоне",
                                    "Country": "Іспанія",
                                    "Price": "30.00",
                                    "SaleDate": "2023-10-08",
                                    "PurchaseDate": "2023-09-28"
                                },
                                {
                                    "ID": "4",
                                    "Name": "Мерло",
                                    "Description": "Червоне вино",
                                    "Type": "Червоне",
                                    "Country": "Іспанія",
                                    "Price": "30.00",
                                    "SaleDate": "2023-10-08",
                                    "PurchaseDate": "2023-10-03"
                                },
                                {
                                    "ID": "5",
                                    "Name": "Sauvignon Blanc",
                                    "Description": "Біле вино",
                                    "Type": "Біле",
                                    "Country": "Нова Зеландія",
                                    "Price": "40.00",
                                    "SaleDate": "2023-09-24",
                                    "PurchaseDate": "2023-09-24"
                                },
                                {
                                    "ID": "5",
                                    "Name": "Sauvignon Blanc",
                                    "Description": "Біле вино",
                                    "Type": "Біле",
                                    "Country": "Нова Зеландія",
                                    "Price": "40.00",
                                    "SaleDate": "2023-09-24",
                                    "PurchaseDate": "2023-09-29"
                                },
                                {
                                    "ID": "5",
                                    "Name": "Sauvignon Blanc",
                                    "Description": "Біле вино",
                                    "Type": "Біле",
                                    "Country": "Нова Зеландія",
                                    "Price": "40.00",
                                    "SaleDate": "2023-09-24",
                                    "PurchaseDate": "2023-10-04"
                                },
                                {
                                    "ID": "5",
                                    "Name": "Sauvignon Blanc",
                                    "Description": "Біле вино",
                                    "Type": "Біле",
                                    "Country": "Нова Зеландія",
                                    "Price": "40.00",
                                    "SaleDate": "2023-09-29",
                                    "PurchaseDate": "2023-09-24"
                                },
                                {
                                    "ID": "5",
                                    "Name": "Sauvignon Blanc",
                                    "Description": "Біле вино",
                                    "Type": "Біле",
                                    "Country": "Нова Зеландія",
                                    "Price": "40.00",
                                    "SaleDate": "2023-09-29",
                                    "PurchaseDate": "2023-09-29"
                                },
                                {
                                    "ID": "5",
                                    "Name": "Sauvignon Blanc",
                                    "Description": "Біле вино",
                                    "Type": "Біле",
                                    "Country": "Нова Зеландія",
                                    "Price": "40.00",
                                    "SaleDate": "2023-09-29",
                                    "PurchaseDate": "2023-10-04"
                                },
                                {
                                    "ID": "5",
                                    "Name": "Sauvignon Blanc",
                                    "Description": "Біле вино",
                                    "Type": "Біле",
                                    "Country": "Нова Зеландія",
                                    "Price": "40.00",
                                    "SaleDate": "2023-10-04",
                                    "PurchaseDate": "2023-09-24"
                                },
                                {
                                    "ID": "5",
                                    "Name": "Sauvignon Blanc",
                                    "Description": "Біле вино",
                                    "Type": "Біле",
                                    "Country": "Нова Зеландія",
                                    "Price": "40.00",
                                    "SaleDate": "2023-10-04",
                                    "PurchaseDate": "2023-09-29"
                                },
                                {
                                    "ID": "5",
                                    "Name": "Sauvignon Blanc",
                                    "Description": "Біле вино",
                                    "Type": "Біле",
                                    "Country": "Нова Зеландія",
                                    "Price": "40.00",
                                    "SaleDate": "2023-10-04",
                                    "PurchaseDate": "2023-10-04"
                                },
                                {
                                    "ID": "5",
                                    "Name": "Sauvignon Blanc",
                                    "Description": "Біле вино",
                                    "Type": "Біле",
                                    "Country": "Нова Зеландія",
                                    "Price": "40.00",
                                    "SaleDate": "2023-10-09",
                                    "PurchaseDate": "2023-09-24"
                                },
                                {
                                    "ID": "5",
                                    "Name": "Sauvignon Blanc",
                                    "Description": "Біле вино",
                                    "Type": "Біле",
                                    "Country": "Нова Зеландія",
                                    "Price": "40.00",
                                    "SaleDate": "2023-10-09",
                                    "PurchaseDate": "2023-09-29"
                                },
                                {
                                    "ID": "5",
                                    "Name": "Sauvignon Blanc",
                                    "Description": "Біле вино",
                                    "Type": "Біле",
                                    "Country": "Нова Зеландія",
                                    "Price": "40.00",
                                    "SaleDate": "2023-10-09",
                                    "PurchaseDate": "2023-10-04"
                                }
                            ]
                        },
                        "text/html": [
                            "<table>",
                            "<tr><th>ID</th><th>Name</th><th>Description</th><th>Type</th><th>Country</th><th>Price</th><th>SaleDate</th><th>PurchaseDate</th></tr>",
                            "<tr><td>1</td><td>Chateau Margaux</td><td>Червоне вино класу Grand Cru</td><td>Червоне</td><td>Франція</td><td>500.00</td><td>2023-09-21</td><td>2023-09-21</td></tr>",
                            "<tr><td>1</td><td>Chateau Margaux</td><td>Червоне вино класу Grand Cru</td><td>Червоне</td><td>Франція</td><td>500.00</td><td>2023-09-21</td><td>2023-09-26</td></tr>",
                            "<tr><td>1</td><td>Chateau Margaux</td><td>Червоне вино класу Grand Cru</td><td>Червоне</td><td>Франція</td><td>500.00</td><td>2023-09-21</td><td>2023-10-01</td></tr>",
                            "<tr><td>1</td><td>Chateau Margaux</td><td>Червоне вино класу Grand Cru</td><td>Червоне</td><td>Франція</td><td>500.00</td><td>2023-09-21</td><td>2023-10-06</td></tr>",
                            "<tr><td>1</td><td>Chateau Margaux</td><td>Червоне вино класу Grand Cru</td><td>Червоне</td><td>Франція</td><td>500.00</td><td>2023-09-26</td><td>2023-09-21</td></tr>",
                            "<tr><td>1</td><td>Chateau Margaux</td><td>Червоне вино класу Grand Cru</td><td>Червоне</td><td>Франція</td><td>500.00</td><td>2023-09-26</td><td>2023-09-26</td></tr>",
                            "<tr><td>1</td><td>Chateau Margaux</td><td>Червоне вино класу Grand Cru</td><td>Червоне</td><td>Франція</td><td>500.00</td><td>2023-09-26</td><td>2023-10-01</td></tr>",
                            "<tr><td>1</td><td>Chateau Margaux</td><td>Червоне вино класу Grand Cru</td><td>Червоне</td><td>Франція</td><td>500.00</td><td>2023-09-26</td><td>2023-10-06</td></tr>",
                            "<tr><td>1</td><td>Chateau Margaux</td><td>Червоне вино класу Grand Cru</td><td>Червоне</td><td>Франція</td><td>500.00</td><td>2023-10-01</td><td>2023-09-21</td></tr>",
                            "<tr><td>1</td><td>Chateau Margaux</td><td>Червоне вино класу Grand Cru</td><td>Червоне</td><td>Франція</td><td>500.00</td><td>2023-10-01</td><td>2023-09-26</td></tr>",
                            "<tr><td>1</td><td>Chateau Margaux</td><td>Червоне вино класу Grand Cru</td><td>Червоне</td><td>Франція</td><td>500.00</td><td>2023-10-01</td><td>2023-10-01</td></tr>",
                            "<tr><td>1</td><td>Chateau Margaux</td><td>Червоне вино класу Grand Cru</td><td>Червоне</td><td>Франція</td><td>500.00</td><td>2023-10-01</td><td>2023-10-06</td></tr>",
                            "<tr><td>1</td><td>Chateau Margaux</td><td>Червоне вино класу Grand Cru</td><td>Червоне</td><td>Франція</td><td>500.00</td><td>2023-10-06</td><td>2023-09-21</td></tr>",
                            "<tr><td>1</td><td>Chateau Margaux</td><td>Червоне вино класу Grand Cru</td><td>Червоне</td><td>Франція</td><td>500.00</td><td>2023-10-06</td><td>2023-09-26</td></tr>",
                            "<tr><td>1</td><td>Chateau Margaux</td><td>Червоне вино класу Grand Cru</td><td>Червоне</td><td>Франція</td><td>500.00</td><td>2023-10-06</td><td>2023-10-01</td></tr>",
                            "<tr><td>1</td><td>Chateau Margaux</td><td>Червоне вино класу Grand Cru</td><td>Червоне</td><td>Франція</td><td>500.00</td><td>2023-10-06</td><td>2023-10-06</td></tr>",
                            "<tr><td>2</td><td>Chardonnay Reserve</td><td>Біле вино з дубовим смаком</td><td>Біле</td><td>США</td><td>45.00</td><td>2023-09-22</td><td>2023-09-22</td></tr>",
                            "<tr><td>2</td><td>Chardonnay Reserve</td><td>Біле вино з дубовим смаком</td><td>Біле</td><td>США</td><td>45.00</td><td>2023-09-22</td><td>2023-09-27</td></tr>",
                            "<tr><td>2</td><td>Chardonnay Reserve</td><td>Біле вино з дубовим смаком</td><td>Біле</td><td>США</td><td>45.00</td><td>2023-09-22</td><td>2023-10-02</td></tr>",
                            "<tr><td>2</td><td>Chardonnay Reserve</td><td>Біле вино з дубовим смаком</td><td>Біле</td><td>США</td><td>45.00</td><td>2023-09-27</td><td>2023-09-22</td></tr>",
                            "<tr><td>2</td><td>Chardonnay Reserve</td><td>Біле вино з дубовим смаком</td><td>Біле</td><td>США</td><td>45.00</td><td>2023-09-27</td><td>2023-09-27</td></tr>",
                            "<tr><td>2</td><td>Chardonnay Reserve</td><td>Біле вино з дубовим смаком</td><td>Біле</td><td>США</td><td>45.00</td><td>2023-09-27</td><td>2023-10-02</td></tr>",
                            "<tr><td>2</td><td>Chardonnay Reserve</td><td>Біле вино з дубовим смаком</td><td>Біле</td><td>США</td><td>45.00</td><td>2023-10-02</td><td>2023-09-22</td></tr>",
                            "<tr><td>2</td><td>Chardonnay Reserve</td><td>Біле вино з дубовим смаком</td><td>Біле</td><td>США</td><td>45.00</td><td>2023-10-02</td><td>2023-09-27</td></tr>",
                            "<tr><td>2</td><td>Chardonnay Reserve</td><td>Біле вино з дубовим смаком</td><td>Біле</td><td>США</td><td>45.00</td><td>2023-10-02</td><td>2023-10-02</td></tr>",
                            "<tr><td>2</td><td>Chardonnay Reserve</td><td>Біле вино з дубовим смаком</td><td>Біле</td><td>США</td><td>45.00</td><td>2023-10-07</td><td>2023-09-22</td></tr>",
                            "<tr><td>2</td><td>Chardonnay Reserve</td><td>Біле вино з дубовим смаком</td><td>Біле</td><td>США</td><td>45.00</td><td>2023-10-07</td><td>2023-09-27</td></tr>",
                            "<tr><td>2</td><td>Chardonnay Reserve</td><td>Біле вино з дубовим смаком</td><td>Біле</td><td>США</td><td>45.00</td><td>2023-10-07</td><td>2023-10-02</td></tr>",
                            "<tr><td>3</td><td>Prosecco Extra Dry</td><td>Італійське ігристе вино</td><td>Ігристе</td><td>Італія</td><td>25.00</td><td>2023-09-20</td><td>2023-09-20</td></tr>",
                            "<tr><td>3</td><td>Prosecco Extra Dry</td><td>Італійське ігристе вино</td><td>Ігристе</td><td>Італія</td><td>25.00</td><td>2023-09-20</td><td>2023-09-25</td></tr>",
                            "<tr><td>3</td><td>Prosecco Extra Dry</td><td>Італійське ігристе вино</td><td>Ігристе</td><td>Італія</td><td>25.00</td><td>2023-09-20</td><td>2023-09-30</td></tr>",
                            "<tr><td>3</td><td>Prosecco Extra Dry</td><td>Італійське ігристе вино</td><td>Ігристе</td><td>Італія</td><td>25.00</td><td>2023-09-20</td><td>2023-10-05</td></tr>",
                            "<tr><td>3</td><td>Prosecco Extra Dry</td><td>Італійське ігристе вино</td><td>Ігристе</td><td>Італія</td><td>25.00</td><td>2023-09-25</td><td>2023-09-20</td></tr>",
                            "<tr><td>3</td><td>Prosecco Extra Dry</td><td>Італійське ігристе вино</td><td>Ігристе</td><td>Італія</td><td>25.00</td><td>2023-09-25</td><td>2023-09-25</td></tr>",
                            "<tr><td>3</td><td>Prosecco Extra Dry</td><td>Італійське ігристе вино</td><td>Ігристе</td><td>Італія</td><td>25.00</td><td>2023-09-25</td><td>2023-09-30</td></tr>",
                            "<tr><td>3</td><td>Prosecco Extra Dry</td><td>Італійське ігристе вино</td><td>Ігристе</td><td>Італія</td><td>25.00</td><td>2023-09-25</td><td>2023-10-05</td></tr>",
                            "<tr><td>3</td><td>Prosecco Extra Dry</td><td>Італійське ігристе вино</td><td>Ігристе</td><td>Італія</td><td>25.00</td><td>2023-09-30</td><td>2023-09-20</td></tr>",
                            "<tr><td>3</td><td>Prosecco Extra Dry</td><td>Італійське ігристе вино</td><td>Ігристе</td><td>Італія</td><td>25.00</td><td>2023-09-30</td><td>2023-09-25</td></tr>",
                            "<tr><td>3</td><td>Prosecco Extra Dry</td><td>Італійське ігристе вино</td><td>Ігристе</td><td>Італія</td><td>25.00</td><td>2023-09-30</td><td>2023-09-30</td></tr>",
                            "<tr><td>3</td><td>Prosecco Extra Dry</td><td>Італійське ігристе вино</td><td>Ігристе</td><td>Італія</td><td>25.00</td><td>2023-09-30</td><td>2023-10-05</td></tr>",
                            "<tr><td>3</td><td>Prosecco Extra Dry</td><td>Італійське ігристе вино</td><td>Ігристе</td><td>Італія</td><td>25.00</td><td>2023-10-05</td><td>2023-09-20</td></tr>",
                            "<tr><td>3</td><td>Prosecco Extra Dry</td><td>Італійське ігристе вино</td><td>Ігристе</td><td>Італія</td><td>25.00</td><td>2023-10-05</td><td>2023-09-25</td></tr>",
                            "<tr><td>3</td><td>Prosecco Extra Dry</td><td>Італійське ігристе вино</td><td>Ігристе</td><td>Італія</td><td>25.00</td><td>2023-10-05</td><td>2023-09-30</td></tr>",
                            "<tr><td>3</td><td>Prosecco Extra Dry</td><td>Італійське ігристе вино</td><td>Ігристе</td><td>Італія</td><td>25.00</td><td>2023-10-05</td><td>2023-10-05</td></tr>",
                            "<tr><td>4</td><td>Мерло</td><td>Червоне вино</td><td>Червоне</td><td>Іспанія</td><td>30.00</td><td>2023-09-23</td><td>2023-09-23</td></tr>",
                            "<tr><td>4</td><td>Мерло</td><td>Червоне вино</td><td>Червоне</td><td>Іспанія</td><td>30.00</td><td>2023-09-23</td><td>2023-09-28</td></tr>",
                            "<tr><td>4</td><td>Мерло</td><td>Червоне вино</td><td>Червоне</td><td>Іспанія</td><td>30.00</td><td>2023-09-23</td><td>2023-10-03</td></tr>",
                            "<tr><td>4</td><td>Мерло</td><td>Червоне вино</td><td>Червоне</td><td>Іспанія</td><td>30.00</td><td>2023-09-28</td><td>2023-09-23</td></tr>",
                            "<tr><td>4</td><td>Мерло</td><td>Червоне вино</td><td>Червоне</td><td>Іспанія</td><td>30.00</td><td>2023-09-28</td><td>2023-09-28</td></tr>",
                            "<tr><td>4</td><td>Мерло</td><td>Червоне вино</td><td>Червоне</td><td>Іспанія</td><td>30.00</td><td>2023-09-28</td><td>2023-10-03</td></tr>",
                            "<tr><td>4</td><td>Мерло</td><td>Червоне вино</td><td>Червоне</td><td>Іспанія</td><td>30.00</td><td>2023-10-03</td><td>2023-09-23</td></tr>",
                            "<tr><td>4</td><td>Мерло</td><td>Червоне вино</td><td>Червоне</td><td>Іспанія</td><td>30.00</td><td>2023-10-03</td><td>2023-09-28</td></tr>",
                            "<tr><td>4</td><td>Мерло</td><td>Червоне вино</td><td>Червоне</td><td>Іспанія</td><td>30.00</td><td>2023-10-03</td><td>2023-10-03</td></tr>",
                            "<tr><td>4</td><td>Мерло</td><td>Червоне вино</td><td>Червоне</td><td>Іспанія</td><td>30.00</td><td>2023-10-08</td><td>2023-09-23</td></tr>",
                            "<tr><td>4</td><td>Мерло</td><td>Червоне вино</td><td>Червоне</td><td>Іспанія</td><td>30.00</td><td>2023-10-08</td><td>2023-09-28</td></tr>",
                            "<tr><td>4</td><td>Мерло</td><td>Червоне вино</td><td>Червоне</td><td>Іспанія</td><td>30.00</td><td>2023-10-08</td><td>2023-10-03</td></tr>",
                            "<tr><td>5</td><td>Sauvignon Blanc</td><td>Біле вино</td><td>Біле</td><td>Нова Зеландія</td><td>40.00</td><td>2023-09-24</td><td>2023-09-24</td></tr>",
                            "<tr><td>5</td><td>Sauvignon Blanc</td><td>Біле вино</td><td>Біле</td><td>Нова Зеландія</td><td>40.00</td><td>2023-09-24</td><td>2023-09-29</td></tr>",
                            "<tr><td>5</td><td>Sauvignon Blanc</td><td>Біле вино</td><td>Біле</td><td>Нова Зеландія</td><td>40.00</td><td>2023-09-24</td><td>2023-10-04</td></tr>",
                            "<tr><td>5</td><td>Sauvignon Blanc</td><td>Біле вино</td><td>Біле</td><td>Нова Зеландія</td><td>40.00</td><td>2023-09-29</td><td>2023-09-24</td></tr>",
                            "<tr><td>5</td><td>Sauvignon Blanc</td><td>Біле вино</td><td>Біле</td><td>Нова Зеландія</td><td>40.00</td><td>2023-09-29</td><td>2023-09-29</td></tr>",
                            "<tr><td>5</td><td>Sauvignon Blanc</td><td>Біле вино</td><td>Біле</td><td>Нова Зеландія</td><td>40.00</td><td>2023-09-29</td><td>2023-10-04</td></tr>",
                            "<tr><td>5</td><td>Sauvignon Blanc</td><td>Біле вино</td><td>Біле</td><td>Нова Зеландія</td><td>40.00</td><td>2023-10-04</td><td>2023-09-24</td></tr>",
                            "<tr><td>5</td><td>Sauvignon Blanc</td><td>Біле вино</td><td>Біле</td><td>Нова Зеландія</td><td>40.00</td><td>2023-10-04</td><td>2023-09-29</td></tr>",
                            "<tr><td>5</td><td>Sauvignon Blanc</td><td>Біле вино</td><td>Біле</td><td>Нова Зеландія</td><td>40.00</td><td>2023-10-04</td><td>2023-10-04</td></tr>",
                            "<tr><td>5</td><td>Sauvignon Blanc</td><td>Біле вино</td><td>Біле</td><td>Нова Зеландія</td><td>40.00</td><td>2023-10-09</td><td>2023-09-24</td></tr>",
                            "<tr><td>5</td><td>Sauvignon Blanc</td><td>Біле вино</td><td>Біле</td><td>Нова Зеландія</td><td>40.00</td><td>2023-10-09</td><td>2023-09-29</td></tr>",
                            "<tr><td>5</td><td>Sauvignon Blanc</td><td>Біле вино</td><td>Біле</td><td>Нова Зеландія</td><td>40.00</td><td>2023-10-09</td><td>2023-10-04</td></tr>",
                            "</table>"
                        ]
                    }
                },
                {
                    "output_type": "execute_result",
                    "metadata": {},
                    "execution_count": 67,
                    "data": {
                        "application/vnd.dataresource+json": {
                            "schema": {
                                "fields": [
                                    {
                                        "name": "ID"
                                    },
                                    {
                                        "name": "Name"
                                    },
                                    {
                                        "name": "Description"
                                    },
                                    {
                                        "name": "Type"
                                    },
                                    {
                                        "name": "Country"
                                    },
                                    {
                                        "name": "Price"
                                    },
                                    {
                                        "name": "SaleDate"
                                    },
                                    {
                                        "name": "PurchaseDate"
                                    }
                                ]
                            },
                            "data": [
                                {
                                    "ID": "6",
                                    "Name": "Bardolino DOC Pasqua",
                                    "Description": "Сухий смак з яскраво вираженими фруктовими нотами ",
                                    "Type": "Червоне Сухе",
                                    "Country": "Італія",
                                    "Price": "190.00",
                                    "SaleDate": "NULL",
                                    "PurchaseDate": "NULL"
                                }
                            ]
                        },
                        "text/html": [
                            "<table>",
                            "<tr><th>ID</th><th>Name</th><th>Description</th><th>Type</th><th>Country</th><th>Price</th><th>SaleDate</th><th>PurchaseDate</th></tr>",
                            "<tr><td>6</td><td>Bardolino DOC Pasqua</td><td>Сухий смак з яскраво вираженими фруктовими нотами </td><td>Червоне Сухе</td><td>Італія</td><td>190.00</td><td>NULL</td><td>NULL</td></tr>",
                            "</table>"
                        ]
                    }
                }
            ],
            "execution_count": 67
        },
        {
            "cell_type": "markdown",
            "source": [
                "<span style=\"background-color: transparent; color: rgb(67, 67, 67); font-family: georgia, times, &quot;times new roman&quot;, serif; font-size: 20px; white-space: break-spaces; caret-color: rgb(21, 21, 21);\">7. Знайдіть всі вина, які було продано, разом з інформацією про їхніх клієнтів. Виведіть також вина, які було продано, але клієнти для них невідомі.</span>"
            ],
            "metadata": {
                "azdata_cell_guid": "01c832c4-a253-4b25-a2d7-9e993669966e"
            },
            "attachments": {}
        },
        {
            "cell_type": "code",
            "source": [
                "SELECT Wine.Name, Sales.QuantitySold, Customers.FirstName, Customers.LastName, Customers.Address, Customers.Email, Customers.Phone\n",
                "FROM Sales\n",
                "LEFT JOIN Wine ON Wine.ID = Sales.WineID\n",
                "LEFT JOIN Customers ON Sales.CustomerID = Customers.CustomerID\n",
                "\n",
                "SELECT Wine.Name, Sales.QuantitySold, Customers.FirstName, Customers.LastName, Customers.Address, Customers.Email, Customers.Phone\n",
                "FROM Sales\n",
                "LEFT JOIN Wine ON Wine.ID = Sales.WineID\n",
                "LEFT JOIN Customers ON Sales.CustomerID = Customers.CustomerID\n",
                "WHERE Customers.LastName IS NULL"
            ],
            "metadata": {
                "azdata_cell_guid": "0cf7b93e-a53b-43be-9700-ac540e4b02d4",
                "language": "sql"
            },
            "outputs": [
                {
                    "output_type": "display_data",
                    "data": {
                        "text/html": "(Затронуто строк: 20)"
                    },
                    "metadata": {}
                },
                {
                    "output_type": "display_data",
                    "data": {
                        "text/html": "(Затронуто строк: 0)"
                    },
                    "metadata": {}
                },
                {
                    "output_type": "display_data",
                    "data": {
                        "text/html": "Общее время выполнения: 00:00:00.085"
                    },
                    "metadata": {}
                },
                {
                    "output_type": "execute_result",
                    "metadata": {},
                    "execution_count": 40,
                    "data": {
                        "application/vnd.dataresource+json": {
                            "schema": {
                                "fields": [
                                    {
                                        "name": "Name"
                                    },
                                    {
                                        "name": "QuantitySold"
                                    },
                                    {
                                        "name": "FirstName"
                                    },
                                    {
                                        "name": "LastName"
                                    },
                                    {
                                        "name": "Address"
                                    },
                                    {
                                        "name": "Email"
                                    },
                                    {
                                        "name": "Phone"
                                    }
                                ]
                            },
                            "data": [
                                {
                                    "Name": "Prosecco Extra Dry",
                                    "QuantitySold": "2",
                                    "FirstName": "Гаррі",
                                    "LastName": "Поттер",
                                    "Address": "4 Привідна вулиця, Лондон",
                                    "Email": "harry@example.com",
                                    "Phone": "+380123456789"
                                },
                                {
                                    "Name": "Chateau Margaux",
                                    "QuantitySold": "3",
                                    "FirstName": "Герміона",
                                    "LastName": "Грейнджер",
                                    "Address": "7 Дубова вулиця, Лондон",
                                    "Email": "hermione@example.com",
                                    "Phone": "+380987654321"
                                },
                                {
                                    "Name": "Chardonnay Reserve",
                                    "QuantitySold": "4",
                                    "FirstName": "Рон",
                                    "LastName": "Уізлі",
                                    "Address": "12 Бурхлива вулиця, Лондон",
                                    "Email": "ron@example.com",
                                    "Phone": "+380567890123"
                                },
                                {
                                    "Name": "Мерло",
                                    "QuantitySold": "1",
                                    "FirstName": "Луна",
                                    "LastName": "Лавґуд",
                                    "Address": "23 Дивовижна вулиця, Лондон",
                                    "Email": "luna@example.com",
                                    "Phone": "+3801111222333"
                                },
                                {
                                    "Name": "Sauvignon Blanc",
                                    "QuantitySold": "5",
                                    "FirstName": "Сіріус",
                                    "LastName": "Блек",
                                    "Address": "10 Відьминська вулиця, Лондон",
                                    "Email": "sirius@example.com",
                                    "Phone": "NULL"
                                },
                                {
                                    "Name": "Prosecco Extra Dry",
                                    "QuantitySold": "2",
                                    "FirstName": "Гаррі",
                                    "LastName": "Поттер",
                                    "Address": "4 Привідна вулиця, Лондон",
                                    "Email": "harry@example.com",
                                    "Phone": "+380123456789"
                                },
                                {
                                    "Name": "Chateau Margaux",
                                    "QuantitySold": "3",
                                    "FirstName": "Герміона",
                                    "LastName": "Грейнджер",
                                    "Address": "7 Дубова вулиця, Лондон",
                                    "Email": "hermione@example.com",
                                    "Phone": "+380987654321"
                                },
                                {
                                    "Name": "Chardonnay Reserve",
                                    "QuantitySold": "4",
                                    "FirstName": "Рон",
                                    "LastName": "Уізлі",
                                    "Address": "12 Бурхлива вулиця, Лондон",
                                    "Email": "ron@example.com",
                                    "Phone": "+380567890123"
                                },
                                {
                                    "Name": "Мерло",
                                    "QuantitySold": "1",
                                    "FirstName": "Луна",
                                    "LastName": "Лавґуд",
                                    "Address": "23 Дивовижна вулиця, Лондон",
                                    "Email": "luna@example.com",
                                    "Phone": "+3801111222333"
                                },
                                {
                                    "Name": "Sauvignon Blanc",
                                    "QuantitySold": "5",
                                    "FirstName": "Сіріус",
                                    "LastName": "Блек",
                                    "Address": "10 Відьминська вулиця, Лондон",
                                    "Email": "sirius@example.com",
                                    "Phone": "NULL"
                                },
                                {
                                    "Name": "Prosecco Extra Dry",
                                    "QuantitySold": "2",
                                    "FirstName": "Гаррі",
                                    "LastName": "Поттер",
                                    "Address": "4 Привідна вулиця, Лондон",
                                    "Email": "harry@example.com",
                                    "Phone": "+380123456789"
                                },
                                {
                                    "Name": "Chateau Margaux",
                                    "QuantitySold": "3",
                                    "FirstName": "Герміона",
                                    "LastName": "Грейнджер",
                                    "Address": "7 Дубова вулиця, Лондон",
                                    "Email": "hermione@example.com",
                                    "Phone": "+380987654321"
                                },
                                {
                                    "Name": "Chardonnay Reserve",
                                    "QuantitySold": "4",
                                    "FirstName": "Рон",
                                    "LastName": "Уізлі",
                                    "Address": "12 Бурхлива вулиця, Лондон",
                                    "Email": "ron@example.com",
                                    "Phone": "+380567890123"
                                },
                                {
                                    "Name": "Мерло",
                                    "QuantitySold": "1",
                                    "FirstName": "Луна",
                                    "LastName": "Лавґуд",
                                    "Address": "23 Дивовижна вулиця, Лондон",
                                    "Email": "luna@example.com",
                                    "Phone": "+3801111222333"
                                },
                                {
                                    "Name": "Sauvignon Blanc",
                                    "QuantitySold": "5",
                                    "FirstName": "Сіріус",
                                    "LastName": "Блек",
                                    "Address": "10 Відьминська вулиця, Лондон",
                                    "Email": "sirius@example.com",
                                    "Phone": "NULL"
                                },
                                {
                                    "Name": "Prosecco Extra Dry",
                                    "QuantitySold": "2",
                                    "FirstName": "Гаррі",
                                    "LastName": "Поттер",
                                    "Address": "4 Привідна вулиця, Лондон",
                                    "Email": "harry@example.com",
                                    "Phone": "+380123456789"
                                },
                                {
                                    "Name": "Chateau Margaux",
                                    "QuantitySold": "3",
                                    "FirstName": "Герміона",
                                    "LastName": "Грейнджер",
                                    "Address": "7 Дубова вулиця, Лондон",
                                    "Email": "hermione@example.com",
                                    "Phone": "+380987654321"
                                },
                                {
                                    "Name": "Chardonnay Reserve",
                                    "QuantitySold": "4",
                                    "FirstName": "Рон",
                                    "LastName": "Уізлі",
                                    "Address": "12 Бурхлива вулиця, Лондон",
                                    "Email": "ron@example.com",
                                    "Phone": "+380567890123"
                                },
                                {
                                    "Name": "Мерло",
                                    "QuantitySold": "1",
                                    "FirstName": "Луна",
                                    "LastName": "Лавґуд",
                                    "Address": "23 Дивовижна вулиця, Лондон",
                                    "Email": "luna@example.com",
                                    "Phone": "+3801111222333"
                                },
                                {
                                    "Name": "Sauvignon Blanc",
                                    "QuantitySold": "5",
                                    "FirstName": "Сіріус",
                                    "LastName": "Блек",
                                    "Address": "10 Відьминська вулиця, Лондон",
                                    "Email": "sirius@example.com",
                                    "Phone": "NULL"
                                }
                            ]
                        },
                        "text/html": [
                            "<table>",
                            "<tr><th>Name</th><th>QuantitySold</th><th>FirstName</th><th>LastName</th><th>Address</th><th>Email</th><th>Phone</th></tr>",
                            "<tr><td>Prosecco Extra Dry</td><td>2</td><td>Гаррі</td><td>Поттер</td><td>4 Привідна вулиця, Лондон</td><td>harry@example.com</td><td>+380123456789</td></tr>",
                            "<tr><td>Chateau Margaux</td><td>3</td><td>Герміона</td><td>Грейнджер</td><td>7 Дубова вулиця, Лондон</td><td>hermione@example.com</td><td>+380987654321</td></tr>",
                            "<tr><td>Chardonnay Reserve</td><td>4</td><td>Рон</td><td>Уізлі</td><td>12 Бурхлива вулиця, Лондон</td><td>ron@example.com</td><td>+380567890123</td></tr>",
                            "<tr><td>Мерло</td><td>1</td><td>Луна</td><td>Лавґуд</td><td>23 Дивовижна вулиця, Лондон</td><td>luna@example.com</td><td>+3801111222333</td></tr>",
                            "<tr><td>Sauvignon Blanc</td><td>5</td><td>Сіріус</td><td>Блек</td><td>10 Відьминська вулиця, Лондон</td><td>sirius@example.com</td><td>NULL</td></tr>",
                            "<tr><td>Prosecco Extra Dry</td><td>2</td><td>Гаррі</td><td>Поттер</td><td>4 Привідна вулиця, Лондон</td><td>harry@example.com</td><td>+380123456789</td></tr>",
                            "<tr><td>Chateau Margaux</td><td>3</td><td>Герміона</td><td>Грейнджер</td><td>7 Дубова вулиця, Лондон</td><td>hermione@example.com</td><td>+380987654321</td></tr>",
                            "<tr><td>Chardonnay Reserve</td><td>4</td><td>Рон</td><td>Уізлі</td><td>12 Бурхлива вулиця, Лондон</td><td>ron@example.com</td><td>+380567890123</td></tr>",
                            "<tr><td>Мерло</td><td>1</td><td>Луна</td><td>Лавґуд</td><td>23 Дивовижна вулиця, Лондон</td><td>luna@example.com</td><td>+3801111222333</td></tr>",
                            "<tr><td>Sauvignon Blanc</td><td>5</td><td>Сіріус</td><td>Блек</td><td>10 Відьминська вулиця, Лондон</td><td>sirius@example.com</td><td>NULL</td></tr>",
                            "<tr><td>Prosecco Extra Dry</td><td>2</td><td>Гаррі</td><td>Поттер</td><td>4 Привідна вулиця, Лондон</td><td>harry@example.com</td><td>+380123456789</td></tr>",
                            "<tr><td>Chateau Margaux</td><td>3</td><td>Герміона</td><td>Грейнджер</td><td>7 Дубова вулиця, Лондон</td><td>hermione@example.com</td><td>+380987654321</td></tr>",
                            "<tr><td>Chardonnay Reserve</td><td>4</td><td>Рон</td><td>Уізлі</td><td>12 Бурхлива вулиця, Лондон</td><td>ron@example.com</td><td>+380567890123</td></tr>",
                            "<tr><td>Мерло</td><td>1</td><td>Луна</td><td>Лавґуд</td><td>23 Дивовижна вулиця, Лондон</td><td>luna@example.com</td><td>+3801111222333</td></tr>",
                            "<tr><td>Sauvignon Blanc</td><td>5</td><td>Сіріус</td><td>Блек</td><td>10 Відьминська вулиця, Лондон</td><td>sirius@example.com</td><td>NULL</td></tr>",
                            "<tr><td>Prosecco Extra Dry</td><td>2</td><td>Гаррі</td><td>Поттер</td><td>4 Привідна вулиця, Лондон</td><td>harry@example.com</td><td>+380123456789</td></tr>",
                            "<tr><td>Chateau Margaux</td><td>3</td><td>Герміона</td><td>Грейнджер</td><td>7 Дубова вулиця, Лондон</td><td>hermione@example.com</td><td>+380987654321</td></tr>",
                            "<tr><td>Chardonnay Reserve</td><td>4</td><td>Рон</td><td>Уізлі</td><td>12 Бурхлива вулиця, Лондон</td><td>ron@example.com</td><td>+380567890123</td></tr>",
                            "<tr><td>Мерло</td><td>1</td><td>Луна</td><td>Лавґуд</td><td>23 Дивовижна вулиця, Лондон</td><td>luna@example.com</td><td>+3801111222333</td></tr>",
                            "<tr><td>Sauvignon Blanc</td><td>5</td><td>Сіріус</td><td>Блек</td><td>10 Відьминська вулиця, Лондон</td><td>sirius@example.com</td><td>NULL</td></tr>",
                            "</table>"
                        ]
                    }
                },
                {
                    "output_type": "execute_result",
                    "metadata": {},
                    "execution_count": 40,
                    "data": {
                        "application/vnd.dataresource+json": {
                            "schema": {
                                "fields": [
                                    {
                                        "name": "Name"
                                    },
                                    {
                                        "name": "QuantitySold"
                                    },
                                    {
                                        "name": "FirstName"
                                    },
                                    {
                                        "name": "LastName"
                                    },
                                    {
                                        "name": "Address"
                                    },
                                    {
                                        "name": "Email"
                                    },
                                    {
                                        "name": "Phone"
                                    }
                                ]
                            },
                            "data": []
                        },
                        "text/html": [
                            "<table>",
                            "<tr><th>Name</th><th>QuantitySold</th><th>FirstName</th><th>LastName</th><th>Address</th><th>Email</th><th>Phone</th></tr>",
                            "</table>"
                        ]
                    }
                }
            ],
            "execution_count": 40
        },
        {
            "cell_type": "markdown",
            "source": [
                "<span style=\"background-color: transparent; color: rgb(67, 67, 67); font-family: georgia, times, &quot;times new roman&quot;, serif; font-size: 20px; white-space: break-spaces; caret-color: rgb(21, 21, 21);\">8. Знайдіть всі вина, які не були куплені клієнтом із заданим ім'ям (враховуйте всі імена клієнтів, а не лише одного).</span>"
            ],
            "metadata": {
                "azdata_cell_guid": "d6a96880-376e-40d4-a0e7-ada29730f889"
            },
            "attachments": {}
        },
        {
            "cell_type": "code",
            "source": [
                "SELECT Wine.*\n",
                "FROM Wine\n",
                "LEFT JOIN Sales ON Wine.ID = Sales.WineID\n",
                "LEFT JOIN Customers ON Sales.CustomerID = Customers.CustomerID\n",
                "WHERE Customers.FirstName IS NULL OR Customers.FirstName != 'Гаррі'\n",
                "\n",
                "SELECT Wine.*\n",
                "FROM Wine\n",
                "LEFT JOIN Sales ON Wine.ID = Sales.WineID\n",
                "LEFT JOIN Customers ON Sales.CustomerID = Customers.CustomerID\n",
                "WHERE Customers.FirstName IS NULL OR Customers.FirstName != 'Герміона'\n",
                "\n",
                "SELECT Wine.*\n",
                "FROM Wine\n",
                "LEFT JOIN Sales ON Wine.ID = Sales.WineID\n",
                "LEFT JOIN Customers ON Sales.CustomerID = Customers.CustomerID\n",
                "WHERE Customers.FirstName IS NULL OR Customers.FirstName != 'Рон'\n",
                "\n",
                "SELECT Wine.*\n",
                "FROM Wine\n",
                "LEFT JOIN Sales ON Wine.ID = Sales.WineID\n",
                "LEFT JOIN Customers ON Sales.CustomerID = Customers.CustomerID\n",
                "WHERE Customers.FirstName IS NULL OR Customers.FirstName != 'Луна'\n",
                "\n",
                "SELECT Wine.*\n",
                "FROM Wine\n",
                "LEFT JOIN Sales ON Wine.ID = Sales.WineID\n",
                "LEFT JOIN Customers ON Sales.CustomerID = Customers.CustomerID\n",
                "WHERE Customers.FirstName IS NULL OR Customers.FirstName != 'Сіріус'"
            ],
            "metadata": {
                "azdata_cell_guid": "ae883ce5-8b54-450f-aa97-845c7011fcec",
                "language": "sql"
            },
            "outputs": [
                {
                    "output_type": "display_data",
                    "data": {
                        "text/html": "(Затронуто строк: 17)"
                    },
                    "metadata": {}
                },
                {
                    "output_type": "display_data",
                    "data": {
                        "text/html": "(Затронуто строк: 17)"
                    },
                    "metadata": {}
                },
                {
                    "output_type": "display_data",
                    "data": {
                        "text/html": "(Затронуто строк: 17)"
                    },
                    "metadata": {}
                },
                {
                    "output_type": "display_data",
                    "data": {
                        "text/html": "(Затронуто строк: 17)"
                    },
                    "metadata": {}
                },
                {
                    "output_type": "display_data",
                    "data": {
                        "text/html": "(Затронуто строк: 17)"
                    },
                    "metadata": {}
                },
                {
                    "output_type": "display_data",
                    "data": {
                        "text/html": "Общее время выполнения: 00:00:00.082"
                    },
                    "metadata": {}
                },
                {
                    "output_type": "execute_result",
                    "metadata": {},
                    "execution_count": 72,
                    "data": {
                        "application/vnd.dataresource+json": {
                            "schema": {
                                "fields": [
                                    {
                                        "name": "ID"
                                    },
                                    {
                                        "name": "Name"
                                    },
                                    {
                                        "name": "Description"
                                    },
                                    {
                                        "name": "Type"
                                    },
                                    {
                                        "name": "Country"
                                    },
                                    {
                                        "name": "Price"
                                    }
                                ]
                            },
                            "data": [
                                {
                                    "ID": "1",
                                    "Name": "Chateau Margaux",
                                    "Description": "Червоне вино класу Grand Cru",
                                    "Type": "Червоне",
                                    "Country": "Франція",
                                    "Price": "500.00"
                                },
                                {
                                    "ID": "1",
                                    "Name": "Chateau Margaux",
                                    "Description": "Червоне вино класу Grand Cru",
                                    "Type": "Червоне",
                                    "Country": "Франція",
                                    "Price": "500.00"
                                },
                                {
                                    "ID": "1",
                                    "Name": "Chateau Margaux",
                                    "Description": "Червоне вино класу Grand Cru",
                                    "Type": "Червоне",
                                    "Country": "Франція",
                                    "Price": "500.00"
                                },
                                {
                                    "ID": "1",
                                    "Name": "Chateau Margaux",
                                    "Description": "Червоне вино класу Grand Cru",
                                    "Type": "Червоне",
                                    "Country": "Франція",
                                    "Price": "500.00"
                                },
                                {
                                    "ID": "2",
                                    "Name": "Chardonnay Reserve",
                                    "Description": "Біле вино з дубовим смаком",
                                    "Type": "Біле",
                                    "Country": "США",
                                    "Price": "45.00"
                                },
                                {
                                    "ID": "2",
                                    "Name": "Chardonnay Reserve",
                                    "Description": "Біле вино з дубовим смаком",
                                    "Type": "Біле",
                                    "Country": "США",
                                    "Price": "45.00"
                                },
                                {
                                    "ID": "2",
                                    "Name": "Chardonnay Reserve",
                                    "Description": "Біле вино з дубовим смаком",
                                    "Type": "Біле",
                                    "Country": "США",
                                    "Price": "45.00"
                                },
                                {
                                    "ID": "2",
                                    "Name": "Chardonnay Reserve",
                                    "Description": "Біле вино з дубовим смаком",
                                    "Type": "Біле",
                                    "Country": "США",
                                    "Price": "45.00"
                                },
                                {
                                    "ID": "4",
                                    "Name": "Мерло",
                                    "Description": "Червоне вино",
                                    "Type": "Червоне",
                                    "Country": "Іспанія",
                                    "Price": "30.00"
                                },
                                {
                                    "ID": "4",
                                    "Name": "Мерло",
                                    "Description": "Червоне вино",
                                    "Type": "Червоне",
                                    "Country": "Іспанія",
                                    "Price": "30.00"
                                },
                                {
                                    "ID": "4",
                                    "Name": "Мерло",
                                    "Description": "Червоне вино",
                                    "Type": "Червоне",
                                    "Country": "Іспанія",
                                    "Price": "30.00"
                                },
                                {
                                    "ID": "4",
                                    "Name": "Мерло",
                                    "Description": "Червоне вино",
                                    "Type": "Червоне",
                                    "Country": "Іспанія",
                                    "Price": "30.00"
                                },
                                {
                                    "ID": "5",
                                    "Name": "Sauvignon Blanc",
                                    "Description": "Біле вино",
                                    "Type": "Біле",
                                    "Country": "Нова Зеландія",
                                    "Price": "40.00"
                                },
                                {
                                    "ID": "5",
                                    "Name": "Sauvignon Blanc",
                                    "Description": "Біле вино",
                                    "Type": "Біле",
                                    "Country": "Нова Зеландія",
                                    "Price": "40.00"
                                },
                                {
                                    "ID": "5",
                                    "Name": "Sauvignon Blanc",
                                    "Description": "Біле вино",
                                    "Type": "Біле",
                                    "Country": "Нова Зеландія",
                                    "Price": "40.00"
                                },
                                {
                                    "ID": "5",
                                    "Name": "Sauvignon Blanc",
                                    "Description": "Біле вино",
                                    "Type": "Біле",
                                    "Country": "Нова Зеландія",
                                    "Price": "40.00"
                                },
                                {
                                    "ID": "6",
                                    "Name": "Bardolino DOC Pasqua",
                                    "Description": "Сухий смак з яскраво вираженими фруктовими нотами ",
                                    "Type": "Червоне Сухе",
                                    "Country": "Італія",
                                    "Price": "190.00"
                                }
                            ]
                        },
                        "text/html": [
                            "<table>",
                            "<tr><th>ID</th><th>Name</th><th>Description</th><th>Type</th><th>Country</th><th>Price</th></tr>",
                            "<tr><td>1</td><td>Chateau Margaux</td><td>Червоне вино класу Grand Cru</td><td>Червоне</td><td>Франція</td><td>500.00</td></tr>",
                            "<tr><td>1</td><td>Chateau Margaux</td><td>Червоне вино класу Grand Cru</td><td>Червоне</td><td>Франція</td><td>500.00</td></tr>",
                            "<tr><td>1</td><td>Chateau Margaux</td><td>Червоне вино класу Grand Cru</td><td>Червоне</td><td>Франція</td><td>500.00</td></tr>",
                            "<tr><td>1</td><td>Chateau Margaux</td><td>Червоне вино класу Grand Cru</td><td>Червоне</td><td>Франція</td><td>500.00</td></tr>",
                            "<tr><td>2</td><td>Chardonnay Reserve</td><td>Біле вино з дубовим смаком</td><td>Біле</td><td>США</td><td>45.00</td></tr>",
                            "<tr><td>2</td><td>Chardonnay Reserve</td><td>Біле вино з дубовим смаком</td><td>Біле</td><td>США</td><td>45.00</td></tr>",
                            "<tr><td>2</td><td>Chardonnay Reserve</td><td>Біле вино з дубовим смаком</td><td>Біле</td><td>США</td><td>45.00</td></tr>",
                            "<tr><td>2</td><td>Chardonnay Reserve</td><td>Біле вино з дубовим смаком</td><td>Біле</td><td>США</td><td>45.00</td></tr>",
                            "<tr><td>4</td><td>Мерло</td><td>Червоне вино</td><td>Червоне</td><td>Іспанія</td><td>30.00</td></tr>",
                            "<tr><td>4</td><td>Мерло</td><td>Червоне вино</td><td>Червоне</td><td>Іспанія</td><td>30.00</td></tr>",
                            "<tr><td>4</td><td>Мерло</td><td>Червоне вино</td><td>Червоне</td><td>Іспанія</td><td>30.00</td></tr>",
                            "<tr><td>4</td><td>Мерло</td><td>Червоне вино</td><td>Червоне</td><td>Іспанія</td><td>30.00</td></tr>",
                            "<tr><td>5</td><td>Sauvignon Blanc</td><td>Біле вино</td><td>Біле</td><td>Нова Зеландія</td><td>40.00</td></tr>",
                            "<tr><td>5</td><td>Sauvignon Blanc</td><td>Біле вино</td><td>Біле</td><td>Нова Зеландія</td><td>40.00</td></tr>",
                            "<tr><td>5</td><td>Sauvignon Blanc</td><td>Біле вино</td><td>Біле</td><td>Нова Зеландія</td><td>40.00</td></tr>",
                            "<tr><td>5</td><td>Sauvignon Blanc</td><td>Біле вино</td><td>Біле</td><td>Нова Зеландія</td><td>40.00</td></tr>",
                            "<tr><td>6</td><td>Bardolino DOC Pasqua</td><td>Сухий смак з яскраво вираженими фруктовими нотами </td><td>Червоне Сухе</td><td>Італія</td><td>190.00</td></tr>",
                            "</table>"
                        ]
                    }
                },
                {
                    "output_type": "execute_result",
                    "metadata": {},
                    "execution_count": 72,
                    "data": {
                        "application/vnd.dataresource+json": {
                            "schema": {
                                "fields": [
                                    {
                                        "name": "ID"
                                    },
                                    {
                                        "name": "Name"
                                    },
                                    {
                                        "name": "Description"
                                    },
                                    {
                                        "name": "Type"
                                    },
                                    {
                                        "name": "Country"
                                    },
                                    {
                                        "name": "Price"
                                    }
                                ]
                            },
                            "data": [
                                {
                                    "ID": "2",
                                    "Name": "Chardonnay Reserve",
                                    "Description": "Біле вино з дубовим смаком",
                                    "Type": "Біле",
                                    "Country": "США",
                                    "Price": "45.00"
                                },
                                {
                                    "ID": "2",
                                    "Name": "Chardonnay Reserve",
                                    "Description": "Біле вино з дубовим смаком",
                                    "Type": "Біле",
                                    "Country": "США",
                                    "Price": "45.00"
                                },
                                {
                                    "ID": "2",
                                    "Name": "Chardonnay Reserve",
                                    "Description": "Біле вино з дубовим смаком",
                                    "Type": "Біле",
                                    "Country": "США",
                                    "Price": "45.00"
                                },
                                {
                                    "ID": "2",
                                    "Name": "Chardonnay Reserve",
                                    "Description": "Біле вино з дубовим смаком",
                                    "Type": "Біле",
                                    "Country": "США",
                                    "Price": "45.00"
                                },
                                {
                                    "ID": "3",
                                    "Name": "Prosecco Extra Dry",
                                    "Description": "Італійське ігристе вино",
                                    "Type": "Ігристе",
                                    "Country": "Італія",
                                    "Price": "25.00"
                                },
                                {
                                    "ID": "3",
                                    "Name": "Prosecco Extra Dry",
                                    "Description": "Італійське ігристе вино",
                                    "Type": "Ігристе",
                                    "Country": "Італія",
                                    "Price": "25.00"
                                },
                                {
                                    "ID": "3",
                                    "Name": "Prosecco Extra Dry",
                                    "Description": "Італійське ігристе вино",
                                    "Type": "Ігристе",
                                    "Country": "Італія",
                                    "Price": "25.00"
                                },
                                {
                                    "ID": "3",
                                    "Name": "Prosecco Extra Dry",
                                    "Description": "Італійське ігристе вино",
                                    "Type": "Ігристе",
                                    "Country": "Італія",
                                    "Price": "25.00"
                                },
                                {
                                    "ID": "4",
                                    "Name": "Мерло",
                                    "Description": "Червоне вино",
                                    "Type": "Червоне",
                                    "Country": "Іспанія",
                                    "Price": "30.00"
                                },
                                {
                                    "ID": "4",
                                    "Name": "Мерло",
                                    "Description": "Червоне вино",
                                    "Type": "Червоне",
                                    "Country": "Іспанія",
                                    "Price": "30.00"
                                },
                                {
                                    "ID": "4",
                                    "Name": "Мерло",
                                    "Description": "Червоне вино",
                                    "Type": "Червоне",
                                    "Country": "Іспанія",
                                    "Price": "30.00"
                                },
                                {
                                    "ID": "4",
                                    "Name": "Мерло",
                                    "Description": "Червоне вино",
                                    "Type": "Червоне",
                                    "Country": "Іспанія",
                                    "Price": "30.00"
                                },
                                {
                                    "ID": "5",
                                    "Name": "Sauvignon Blanc",
                                    "Description": "Біле вино",
                                    "Type": "Біле",
                                    "Country": "Нова Зеландія",
                                    "Price": "40.00"
                                },
                                {
                                    "ID": "5",
                                    "Name": "Sauvignon Blanc",
                                    "Description": "Біле вино",
                                    "Type": "Біле",
                                    "Country": "Нова Зеландія",
                                    "Price": "40.00"
                                },
                                {
                                    "ID": "5",
                                    "Name": "Sauvignon Blanc",
                                    "Description": "Біле вино",
                                    "Type": "Біле",
                                    "Country": "Нова Зеландія",
                                    "Price": "40.00"
                                },
                                {
                                    "ID": "5",
                                    "Name": "Sauvignon Blanc",
                                    "Description": "Біле вино",
                                    "Type": "Біле",
                                    "Country": "Нова Зеландія",
                                    "Price": "40.00"
                                },
                                {
                                    "ID": "6",
                                    "Name": "Bardolino DOC Pasqua",
                                    "Description": "Сухий смак з яскраво вираженими фруктовими нотами ",
                                    "Type": "Червоне Сухе",
                                    "Country": "Італія",
                                    "Price": "190.00"
                                }
                            ]
                        },
                        "text/html": [
                            "<table>",
                            "<tr><th>ID</th><th>Name</th><th>Description</th><th>Type</th><th>Country</th><th>Price</th></tr>",
                            "<tr><td>2</td><td>Chardonnay Reserve</td><td>Біле вино з дубовим смаком</td><td>Біле</td><td>США</td><td>45.00</td></tr>",
                            "<tr><td>2</td><td>Chardonnay Reserve</td><td>Біле вино з дубовим смаком</td><td>Біле</td><td>США</td><td>45.00</td></tr>",
                            "<tr><td>2</td><td>Chardonnay Reserve</td><td>Біле вино з дубовим смаком</td><td>Біле</td><td>США</td><td>45.00</td></tr>",
                            "<tr><td>2</td><td>Chardonnay Reserve</td><td>Біле вино з дубовим смаком</td><td>Біле</td><td>США</td><td>45.00</td></tr>",
                            "<tr><td>3</td><td>Prosecco Extra Dry</td><td>Італійське ігристе вино</td><td>Ігристе</td><td>Італія</td><td>25.00</td></tr>",
                            "<tr><td>3</td><td>Prosecco Extra Dry</td><td>Італійське ігристе вино</td><td>Ігристе</td><td>Італія</td><td>25.00</td></tr>",
                            "<tr><td>3</td><td>Prosecco Extra Dry</td><td>Італійське ігристе вино</td><td>Ігристе</td><td>Італія</td><td>25.00</td></tr>",
                            "<tr><td>3</td><td>Prosecco Extra Dry</td><td>Італійське ігристе вино</td><td>Ігристе</td><td>Італія</td><td>25.00</td></tr>",
                            "<tr><td>4</td><td>Мерло</td><td>Червоне вино</td><td>Червоне</td><td>Іспанія</td><td>30.00</td></tr>",
                            "<tr><td>4</td><td>Мерло</td><td>Червоне вино</td><td>Червоне</td><td>Іспанія</td><td>30.00</td></tr>",
                            "<tr><td>4</td><td>Мерло</td><td>Червоне вино</td><td>Червоне</td><td>Іспанія</td><td>30.00</td></tr>",
                            "<tr><td>4</td><td>Мерло</td><td>Червоне вино</td><td>Червоне</td><td>Іспанія</td><td>30.00</td></tr>",
                            "<tr><td>5</td><td>Sauvignon Blanc</td><td>Біле вино</td><td>Біле</td><td>Нова Зеландія</td><td>40.00</td></tr>",
                            "<tr><td>5</td><td>Sauvignon Blanc</td><td>Біле вино</td><td>Біле</td><td>Нова Зеландія</td><td>40.00</td></tr>",
                            "<tr><td>5</td><td>Sauvignon Blanc</td><td>Біле вино</td><td>Біле</td><td>Нова Зеландія</td><td>40.00</td></tr>",
                            "<tr><td>5</td><td>Sauvignon Blanc</td><td>Біле вино</td><td>Біле</td><td>Нова Зеландія</td><td>40.00</td></tr>",
                            "<tr><td>6</td><td>Bardolino DOC Pasqua</td><td>Сухий смак з яскраво вираженими фруктовими нотами </td><td>Червоне Сухе</td><td>Італія</td><td>190.00</td></tr>",
                            "</table>"
                        ]
                    }
                },
                {
                    "output_type": "execute_result",
                    "metadata": {},
                    "execution_count": 72,
                    "data": {
                        "application/vnd.dataresource+json": {
                            "schema": {
                                "fields": [
                                    {
                                        "name": "ID"
                                    },
                                    {
                                        "name": "Name"
                                    },
                                    {
                                        "name": "Description"
                                    },
                                    {
                                        "name": "Type"
                                    },
                                    {
                                        "name": "Country"
                                    },
                                    {
                                        "name": "Price"
                                    }
                                ]
                            },
                            "data": [
                                {
                                    "ID": "1",
                                    "Name": "Chateau Margaux",
                                    "Description": "Червоне вино класу Grand Cru",
                                    "Type": "Червоне",
                                    "Country": "Франція",
                                    "Price": "500.00"
                                },
                                {
                                    "ID": "1",
                                    "Name": "Chateau Margaux",
                                    "Description": "Червоне вино класу Grand Cru",
                                    "Type": "Червоне",
                                    "Country": "Франція",
                                    "Price": "500.00"
                                },
                                {
                                    "ID": "1",
                                    "Name": "Chateau Margaux",
                                    "Description": "Червоне вино класу Grand Cru",
                                    "Type": "Червоне",
                                    "Country": "Франція",
                                    "Price": "500.00"
                                },
                                {
                                    "ID": "1",
                                    "Name": "Chateau Margaux",
                                    "Description": "Червоне вино класу Grand Cru",
                                    "Type": "Червоне",
                                    "Country": "Франція",
                                    "Price": "500.00"
                                },
                                {
                                    "ID": "3",
                                    "Name": "Prosecco Extra Dry",
                                    "Description": "Італійське ігристе вино",
                                    "Type": "Ігристе",
                                    "Country": "Італія",
                                    "Price": "25.00"
                                },
                                {
                                    "ID": "3",
                                    "Name": "Prosecco Extra Dry",
                                    "Description": "Італійське ігристе вино",
                                    "Type": "Ігристе",
                                    "Country": "Італія",
                                    "Price": "25.00"
                                },
                                {
                                    "ID": "3",
                                    "Name": "Prosecco Extra Dry",
                                    "Description": "Італійське ігристе вино",
                                    "Type": "Ігристе",
                                    "Country": "Італія",
                                    "Price": "25.00"
                                },
                                {
                                    "ID": "3",
                                    "Name": "Prosecco Extra Dry",
                                    "Description": "Італійське ігристе вино",
                                    "Type": "Ігристе",
                                    "Country": "Італія",
                                    "Price": "25.00"
                                },
                                {
                                    "ID": "4",
                                    "Name": "Мерло",
                                    "Description": "Червоне вино",
                                    "Type": "Червоне",
                                    "Country": "Іспанія",
                                    "Price": "30.00"
                                },
                                {
                                    "ID": "4",
                                    "Name": "Мерло",
                                    "Description": "Червоне вино",
                                    "Type": "Червоне",
                                    "Country": "Іспанія",
                                    "Price": "30.00"
                                },
                                {
                                    "ID": "4",
                                    "Name": "Мерло",
                                    "Description": "Червоне вино",
                                    "Type": "Червоне",
                                    "Country": "Іспанія",
                                    "Price": "30.00"
                                },
                                {
                                    "ID": "4",
                                    "Name": "Мерло",
                                    "Description": "Червоне вино",
                                    "Type": "Червоне",
                                    "Country": "Іспанія",
                                    "Price": "30.00"
                                },
                                {
                                    "ID": "5",
                                    "Name": "Sauvignon Blanc",
                                    "Description": "Біле вино",
                                    "Type": "Біле",
                                    "Country": "Нова Зеландія",
                                    "Price": "40.00"
                                },
                                {
                                    "ID": "5",
                                    "Name": "Sauvignon Blanc",
                                    "Description": "Біле вино",
                                    "Type": "Біле",
                                    "Country": "Нова Зеландія",
                                    "Price": "40.00"
                                },
                                {
                                    "ID": "5",
                                    "Name": "Sauvignon Blanc",
                                    "Description": "Біле вино",
                                    "Type": "Біле",
                                    "Country": "Нова Зеландія",
                                    "Price": "40.00"
                                },
                                {
                                    "ID": "5",
                                    "Name": "Sauvignon Blanc",
                                    "Description": "Біле вино",
                                    "Type": "Біле",
                                    "Country": "Нова Зеландія",
                                    "Price": "40.00"
                                },
                                {
                                    "ID": "6",
                                    "Name": "Bardolino DOC Pasqua",
                                    "Description": "Сухий смак з яскраво вираженими фруктовими нотами ",
                                    "Type": "Червоне Сухе",
                                    "Country": "Італія",
                                    "Price": "190.00"
                                }
                            ]
                        },
                        "text/html": [
                            "<table>",
                            "<tr><th>ID</th><th>Name</th><th>Description</th><th>Type</th><th>Country</th><th>Price</th></tr>",
                            "<tr><td>1</td><td>Chateau Margaux</td><td>Червоне вино класу Grand Cru</td><td>Червоне</td><td>Франція</td><td>500.00</td></tr>",
                            "<tr><td>1</td><td>Chateau Margaux</td><td>Червоне вино класу Grand Cru</td><td>Червоне</td><td>Франція</td><td>500.00</td></tr>",
                            "<tr><td>1</td><td>Chateau Margaux</td><td>Червоне вино класу Grand Cru</td><td>Червоне</td><td>Франція</td><td>500.00</td></tr>",
                            "<tr><td>1</td><td>Chateau Margaux</td><td>Червоне вино класу Grand Cru</td><td>Червоне</td><td>Франція</td><td>500.00</td></tr>",
                            "<tr><td>3</td><td>Prosecco Extra Dry</td><td>Італійське ігристе вино</td><td>Ігристе</td><td>Італія</td><td>25.00</td></tr>",
                            "<tr><td>3</td><td>Prosecco Extra Dry</td><td>Італійське ігристе вино</td><td>Ігристе</td><td>Італія</td><td>25.00</td></tr>",
                            "<tr><td>3</td><td>Prosecco Extra Dry</td><td>Італійське ігристе вино</td><td>Ігристе</td><td>Італія</td><td>25.00</td></tr>",
                            "<tr><td>3</td><td>Prosecco Extra Dry</td><td>Італійське ігристе вино</td><td>Ігристе</td><td>Італія</td><td>25.00</td></tr>",
                            "<tr><td>4</td><td>Мерло</td><td>Червоне вино</td><td>Червоне</td><td>Іспанія</td><td>30.00</td></tr>",
                            "<tr><td>4</td><td>Мерло</td><td>Червоне вино</td><td>Червоне</td><td>Іспанія</td><td>30.00</td></tr>",
                            "<tr><td>4</td><td>Мерло</td><td>Червоне вино</td><td>Червоне</td><td>Іспанія</td><td>30.00</td></tr>",
                            "<tr><td>4</td><td>Мерло</td><td>Червоне вино</td><td>Червоне</td><td>Іспанія</td><td>30.00</td></tr>",
                            "<tr><td>5</td><td>Sauvignon Blanc</td><td>Біле вино</td><td>Біле</td><td>Нова Зеландія</td><td>40.00</td></tr>",
                            "<tr><td>5</td><td>Sauvignon Blanc</td><td>Біле вино</td><td>Біле</td><td>Нова Зеландія</td><td>40.00</td></tr>",
                            "<tr><td>5</td><td>Sauvignon Blanc</td><td>Біле вино</td><td>Біле</td><td>Нова Зеландія</td><td>40.00</td></tr>",
                            "<tr><td>5</td><td>Sauvignon Blanc</td><td>Біле вино</td><td>Біле</td><td>Нова Зеландія</td><td>40.00</td></tr>",
                            "<tr><td>6</td><td>Bardolino DOC Pasqua</td><td>Сухий смак з яскраво вираженими фруктовими нотами </td><td>Червоне Сухе</td><td>Італія</td><td>190.00</td></tr>",
                            "</table>"
                        ]
                    }
                },
                {
                    "output_type": "execute_result",
                    "metadata": {},
                    "execution_count": 72,
                    "data": {
                        "application/vnd.dataresource+json": {
                            "schema": {
                                "fields": [
                                    {
                                        "name": "ID"
                                    },
                                    {
                                        "name": "Name"
                                    },
                                    {
                                        "name": "Description"
                                    },
                                    {
                                        "name": "Type"
                                    },
                                    {
                                        "name": "Country"
                                    },
                                    {
                                        "name": "Price"
                                    }
                                ]
                            },
                            "data": [
                                {
                                    "ID": "1",
                                    "Name": "Chateau Margaux",
                                    "Description": "Червоне вино класу Grand Cru",
                                    "Type": "Червоне",
                                    "Country": "Франція",
                                    "Price": "500.00"
                                },
                                {
                                    "ID": "1",
                                    "Name": "Chateau Margaux",
                                    "Description": "Червоне вино класу Grand Cru",
                                    "Type": "Червоне",
                                    "Country": "Франція",
                                    "Price": "500.00"
                                },
                                {
                                    "ID": "1",
                                    "Name": "Chateau Margaux",
                                    "Description": "Червоне вино класу Grand Cru",
                                    "Type": "Червоне",
                                    "Country": "Франція",
                                    "Price": "500.00"
                                },
                                {
                                    "ID": "1",
                                    "Name": "Chateau Margaux",
                                    "Description": "Червоне вино класу Grand Cru",
                                    "Type": "Червоне",
                                    "Country": "Франція",
                                    "Price": "500.00"
                                },
                                {
                                    "ID": "2",
                                    "Name": "Chardonnay Reserve",
                                    "Description": "Біле вино з дубовим смаком",
                                    "Type": "Біле",
                                    "Country": "США",
                                    "Price": "45.00"
                                },
                                {
                                    "ID": "2",
                                    "Name": "Chardonnay Reserve",
                                    "Description": "Біле вино з дубовим смаком",
                                    "Type": "Біле",
                                    "Country": "США",
                                    "Price": "45.00"
                                },
                                {
                                    "ID": "2",
                                    "Name": "Chardonnay Reserve",
                                    "Description": "Біле вино з дубовим смаком",
                                    "Type": "Біле",
                                    "Country": "США",
                                    "Price": "45.00"
                                },
                                {
                                    "ID": "2",
                                    "Name": "Chardonnay Reserve",
                                    "Description": "Біле вино з дубовим смаком",
                                    "Type": "Біле",
                                    "Country": "США",
                                    "Price": "45.00"
                                },
                                {
                                    "ID": "3",
                                    "Name": "Prosecco Extra Dry",
                                    "Description": "Італійське ігристе вино",
                                    "Type": "Ігристе",
                                    "Country": "Італія",
                                    "Price": "25.00"
                                },
                                {
                                    "ID": "3",
                                    "Name": "Prosecco Extra Dry",
                                    "Description": "Італійське ігристе вино",
                                    "Type": "Ігристе",
                                    "Country": "Італія",
                                    "Price": "25.00"
                                },
                                {
                                    "ID": "3",
                                    "Name": "Prosecco Extra Dry",
                                    "Description": "Італійське ігристе вино",
                                    "Type": "Ігристе",
                                    "Country": "Італія",
                                    "Price": "25.00"
                                },
                                {
                                    "ID": "3",
                                    "Name": "Prosecco Extra Dry",
                                    "Description": "Італійське ігристе вино",
                                    "Type": "Ігристе",
                                    "Country": "Італія",
                                    "Price": "25.00"
                                },
                                {
                                    "ID": "5",
                                    "Name": "Sauvignon Blanc",
                                    "Description": "Біле вино",
                                    "Type": "Біле",
                                    "Country": "Нова Зеландія",
                                    "Price": "40.00"
                                },
                                {
                                    "ID": "5",
                                    "Name": "Sauvignon Blanc",
                                    "Description": "Біле вино",
                                    "Type": "Біле",
                                    "Country": "Нова Зеландія",
                                    "Price": "40.00"
                                },
                                {
                                    "ID": "5",
                                    "Name": "Sauvignon Blanc",
                                    "Description": "Біле вино",
                                    "Type": "Біле",
                                    "Country": "Нова Зеландія",
                                    "Price": "40.00"
                                },
                                {
                                    "ID": "5",
                                    "Name": "Sauvignon Blanc",
                                    "Description": "Біле вино",
                                    "Type": "Біле",
                                    "Country": "Нова Зеландія",
                                    "Price": "40.00"
                                },
                                {
                                    "ID": "6",
                                    "Name": "Bardolino DOC Pasqua",
                                    "Description": "Сухий смак з яскраво вираженими фруктовими нотами ",
                                    "Type": "Червоне Сухе",
                                    "Country": "Італія",
                                    "Price": "190.00"
                                }
                            ]
                        },
                        "text/html": [
                            "<table>",
                            "<tr><th>ID</th><th>Name</th><th>Description</th><th>Type</th><th>Country</th><th>Price</th></tr>",
                            "<tr><td>1</td><td>Chateau Margaux</td><td>Червоне вино класу Grand Cru</td><td>Червоне</td><td>Франція</td><td>500.00</td></tr>",
                            "<tr><td>1</td><td>Chateau Margaux</td><td>Червоне вино класу Grand Cru</td><td>Червоне</td><td>Франція</td><td>500.00</td></tr>",
                            "<tr><td>1</td><td>Chateau Margaux</td><td>Червоне вино класу Grand Cru</td><td>Червоне</td><td>Франція</td><td>500.00</td></tr>",
                            "<tr><td>1</td><td>Chateau Margaux</td><td>Червоне вино класу Grand Cru</td><td>Червоне</td><td>Франція</td><td>500.00</td></tr>",
                            "<tr><td>2</td><td>Chardonnay Reserve</td><td>Біле вино з дубовим смаком</td><td>Біле</td><td>США</td><td>45.00</td></tr>",
                            "<tr><td>2</td><td>Chardonnay Reserve</td><td>Біле вино з дубовим смаком</td><td>Біле</td><td>США</td><td>45.00</td></tr>",
                            "<tr><td>2</td><td>Chardonnay Reserve</td><td>Біле вино з дубовим смаком</td><td>Біле</td><td>США</td><td>45.00</td></tr>",
                            "<tr><td>2</td><td>Chardonnay Reserve</td><td>Біле вино з дубовим смаком</td><td>Біле</td><td>США</td><td>45.00</td></tr>",
                            "<tr><td>3</td><td>Prosecco Extra Dry</td><td>Італійське ігристе вино</td><td>Ігристе</td><td>Італія</td><td>25.00</td></tr>",
                            "<tr><td>3</td><td>Prosecco Extra Dry</td><td>Італійське ігристе вино</td><td>Ігристе</td><td>Італія</td><td>25.00</td></tr>",
                            "<tr><td>3</td><td>Prosecco Extra Dry</td><td>Італійське ігристе вино</td><td>Ігристе</td><td>Італія</td><td>25.00</td></tr>",
                            "<tr><td>3</td><td>Prosecco Extra Dry</td><td>Італійське ігристе вино</td><td>Ігристе</td><td>Італія</td><td>25.00</td></tr>",
                            "<tr><td>5</td><td>Sauvignon Blanc</td><td>Біле вино</td><td>Біле</td><td>Нова Зеландія</td><td>40.00</td></tr>",
                            "<tr><td>5</td><td>Sauvignon Blanc</td><td>Біле вино</td><td>Біле</td><td>Нова Зеландія</td><td>40.00</td></tr>",
                            "<tr><td>5</td><td>Sauvignon Blanc</td><td>Біле вино</td><td>Біле</td><td>Нова Зеландія</td><td>40.00</td></tr>",
                            "<tr><td>5</td><td>Sauvignon Blanc</td><td>Біле вино</td><td>Біле</td><td>Нова Зеландія</td><td>40.00</td></tr>",
                            "<tr><td>6</td><td>Bardolino DOC Pasqua</td><td>Сухий смак з яскраво вираженими фруктовими нотами </td><td>Червоне Сухе</td><td>Італія</td><td>190.00</td></tr>",
                            "</table>"
                        ]
                    }
                },
                {
                    "output_type": "execute_result",
                    "metadata": {},
                    "execution_count": 72,
                    "data": {
                        "application/vnd.dataresource+json": {
                            "schema": {
                                "fields": [
                                    {
                                        "name": "ID"
                                    },
                                    {
                                        "name": "Name"
                                    },
                                    {
                                        "name": "Description"
                                    },
                                    {
                                        "name": "Type"
                                    },
                                    {
                                        "name": "Country"
                                    },
                                    {
                                        "name": "Price"
                                    }
                                ]
                            },
                            "data": [
                                {
                                    "ID": "1",
                                    "Name": "Chateau Margaux",
                                    "Description": "Червоне вино класу Grand Cru",
                                    "Type": "Червоне",
                                    "Country": "Франція",
                                    "Price": "500.00"
                                },
                                {
                                    "ID": "1",
                                    "Name": "Chateau Margaux",
                                    "Description": "Червоне вино класу Grand Cru",
                                    "Type": "Червоне",
                                    "Country": "Франція",
                                    "Price": "500.00"
                                },
                                {
                                    "ID": "1",
                                    "Name": "Chateau Margaux",
                                    "Description": "Червоне вино класу Grand Cru",
                                    "Type": "Червоне",
                                    "Country": "Франція",
                                    "Price": "500.00"
                                },
                                {
                                    "ID": "1",
                                    "Name": "Chateau Margaux",
                                    "Description": "Червоне вино класу Grand Cru",
                                    "Type": "Червоне",
                                    "Country": "Франція",
                                    "Price": "500.00"
                                },
                                {
                                    "ID": "2",
                                    "Name": "Chardonnay Reserve",
                                    "Description": "Біле вино з дубовим смаком",
                                    "Type": "Біле",
                                    "Country": "США",
                                    "Price": "45.00"
                                },
                                {
                                    "ID": "2",
                                    "Name": "Chardonnay Reserve",
                                    "Description": "Біле вино з дубовим смаком",
                                    "Type": "Біле",
                                    "Country": "США",
                                    "Price": "45.00"
                                },
                                {
                                    "ID": "2",
                                    "Name": "Chardonnay Reserve",
                                    "Description": "Біле вино з дубовим смаком",
                                    "Type": "Біле",
                                    "Country": "США",
                                    "Price": "45.00"
                                },
                                {
                                    "ID": "2",
                                    "Name": "Chardonnay Reserve",
                                    "Description": "Біле вино з дубовим смаком",
                                    "Type": "Біле",
                                    "Country": "США",
                                    "Price": "45.00"
                                },
                                {
                                    "ID": "3",
                                    "Name": "Prosecco Extra Dry",
                                    "Description": "Італійське ігристе вино",
                                    "Type": "Ігристе",
                                    "Country": "Італія",
                                    "Price": "25.00"
                                },
                                {
                                    "ID": "3",
                                    "Name": "Prosecco Extra Dry",
                                    "Description": "Італійське ігристе вино",
                                    "Type": "Ігристе",
                                    "Country": "Італія",
                                    "Price": "25.00"
                                },
                                {
                                    "ID": "3",
                                    "Name": "Prosecco Extra Dry",
                                    "Description": "Італійське ігристе вино",
                                    "Type": "Ігристе",
                                    "Country": "Італія",
                                    "Price": "25.00"
                                },
                                {
                                    "ID": "3",
                                    "Name": "Prosecco Extra Dry",
                                    "Description": "Італійське ігристе вино",
                                    "Type": "Ігристе",
                                    "Country": "Італія",
                                    "Price": "25.00"
                                },
                                {
                                    "ID": "4",
                                    "Name": "Мерло",
                                    "Description": "Червоне вино",
                                    "Type": "Червоне",
                                    "Country": "Іспанія",
                                    "Price": "30.00"
                                },
                                {
                                    "ID": "4",
                                    "Name": "Мерло",
                                    "Description": "Червоне вино",
                                    "Type": "Червоне",
                                    "Country": "Іспанія",
                                    "Price": "30.00"
                                },
                                {
                                    "ID": "4",
                                    "Name": "Мерло",
                                    "Description": "Червоне вино",
                                    "Type": "Червоне",
                                    "Country": "Іспанія",
                                    "Price": "30.00"
                                },
                                {
                                    "ID": "4",
                                    "Name": "Мерло",
                                    "Description": "Червоне вино",
                                    "Type": "Червоне",
                                    "Country": "Іспанія",
                                    "Price": "30.00"
                                },
                                {
                                    "ID": "6",
                                    "Name": "Bardolino DOC Pasqua",
                                    "Description": "Сухий смак з яскраво вираженими фруктовими нотами ",
                                    "Type": "Червоне Сухе",
                                    "Country": "Італія",
                                    "Price": "190.00"
                                }
                            ]
                        },
                        "text/html": [
                            "<table>",
                            "<tr><th>ID</th><th>Name</th><th>Description</th><th>Type</th><th>Country</th><th>Price</th></tr>",
                            "<tr><td>1</td><td>Chateau Margaux</td><td>Червоне вино класу Grand Cru</td><td>Червоне</td><td>Франція</td><td>500.00</td></tr>",
                            "<tr><td>1</td><td>Chateau Margaux</td><td>Червоне вино класу Grand Cru</td><td>Червоне</td><td>Франція</td><td>500.00</td></tr>",
                            "<tr><td>1</td><td>Chateau Margaux</td><td>Червоне вино класу Grand Cru</td><td>Червоне</td><td>Франція</td><td>500.00</td></tr>",
                            "<tr><td>1</td><td>Chateau Margaux</td><td>Червоне вино класу Grand Cru</td><td>Червоне</td><td>Франція</td><td>500.00</td></tr>",
                            "<tr><td>2</td><td>Chardonnay Reserve</td><td>Біле вино з дубовим смаком</td><td>Біле</td><td>США</td><td>45.00</td></tr>",
                            "<tr><td>2</td><td>Chardonnay Reserve</td><td>Біле вино з дубовим смаком</td><td>Біле</td><td>США</td><td>45.00</td></tr>",
                            "<tr><td>2</td><td>Chardonnay Reserve</td><td>Біле вино з дубовим смаком</td><td>Біле</td><td>США</td><td>45.00</td></tr>",
                            "<tr><td>2</td><td>Chardonnay Reserve</td><td>Біле вино з дубовим смаком</td><td>Біле</td><td>США</td><td>45.00</td></tr>",
                            "<tr><td>3</td><td>Prosecco Extra Dry</td><td>Італійське ігристе вино</td><td>Ігристе</td><td>Італія</td><td>25.00</td></tr>",
                            "<tr><td>3</td><td>Prosecco Extra Dry</td><td>Італійське ігристе вино</td><td>Ігристе</td><td>Італія</td><td>25.00</td></tr>",
                            "<tr><td>3</td><td>Prosecco Extra Dry</td><td>Італійське ігристе вино</td><td>Ігристе</td><td>Італія</td><td>25.00</td></tr>",
                            "<tr><td>3</td><td>Prosecco Extra Dry</td><td>Італійське ігристе вино</td><td>Ігристе</td><td>Італія</td><td>25.00</td></tr>",
                            "<tr><td>4</td><td>Мерло</td><td>Червоне вино</td><td>Червоне</td><td>Іспанія</td><td>30.00</td></tr>",
                            "<tr><td>4</td><td>Мерло</td><td>Червоне вино</td><td>Червоне</td><td>Іспанія</td><td>30.00</td></tr>",
                            "<tr><td>4</td><td>Мерло</td><td>Червоне вино</td><td>Червоне</td><td>Іспанія</td><td>30.00</td></tr>",
                            "<tr><td>4</td><td>Мерло</td><td>Червоне вино</td><td>Червоне</td><td>Іспанія</td><td>30.00</td></tr>",
                            "<tr><td>6</td><td>Bardolino DOC Pasqua</td><td>Сухий смак з яскраво вираженими фруктовими нотами </td><td>Червоне Сухе</td><td>Італія</td><td>190.00</td></tr>",
                            "</table>"
                        ]
                    }
                }
            ],
            "execution_count": 72
        }
    ]
}